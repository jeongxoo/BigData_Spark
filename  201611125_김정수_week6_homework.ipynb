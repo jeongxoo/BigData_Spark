{
 "cells": [
  {
   "cell_type": "markdown",
   "id": "87927db4",
   "metadata": {},
   "source": [
    "- 학번 : 201611125\n",
    "- 이름 : 김정수\n",
    "- 학과 : 게임전공"
   ]
  },
  {
   "cell_type": "markdown",
   "id": "33e61ef4",
   "metadata": {},
   "source": [
    "## 문제\n",
    "서울시 열린데이터 https://data.seoul.go.kr/ 에서 제공하는 ```서울특별시_공공자전거 일별 대여건수_(2018~2019.03).csv```를 분석해보자.\n",
    "\n",
    "파일은 웹 검색을 하고 다운로드해서 사용하면 된다."
   ]
  },
  {
   "cell_type": "code",
   "execution_count": 1,
   "id": "c6c427f1",
   "metadata": {},
   "outputs": [],
   "source": [
    "import pyspark\n",
    "import os"
   ]
  },
  {
   "cell_type": "code",
   "execution_count": 2,
   "id": "e89a2df6",
   "metadata": {},
   "outputs": [
    {
     "name": "stderr",
     "output_type": "stream",
     "text": [
      "21/10/10 15:16:22 WARN Utils: Your hostname, jeongxoo.local resolves to a loopback address: 127.0.0.1; using 172.20.10.4 instead (on interface en0)\n",
      "21/10/10 15:16:22 WARN Utils: Set SPARK_LOCAL_IP if you need to bind to another address\n",
      "WARNING: An illegal reflective access operation has occurred\n",
      "WARNING: Illegal reflective access by org.apache.spark.unsafe.Platform (file:/usr/local/lib/python3.9/site-packages/pyspark/jars/spark-unsafe_2.12-3.1.2.jar) to constructor java.nio.DirectByteBuffer(long,int)\n",
      "WARNING: Please consider reporting this to the maintainers of org.apache.spark.unsafe.Platform\n",
      "WARNING: Use --illegal-access=warn to enable warnings of further illegal reflective access operations\n",
      "WARNING: All illegal access operations will be denied in a future release\n",
      "21/10/10 15:16:23 WARN NativeCodeLoader: Unable to load native-hadoop library for your platform... using builtin-java classes where applicable\n",
      "Using Spark's default log4j profile: org/apache/spark/log4j-defaults.properties\n",
      "Setting default log level to \"WARN\".\n",
      "To adjust logging level use sc.setLogLevel(newLevel). For SparkR, use setLogLevel(newLevel).\n"
     ]
    }
   ],
   "source": [
    "myConf = pyspark.SparkConf()\n",
    "spark = pyspark.sql.SparkSession.builder\\\n",
    "        .master(\"local\")\\\n",
    "        .appName(\"myApp\")\\\n",
    "        .config(conf = myConf)\\\n",
    "        .getOrCreate()"
   ]
  },
  {
   "cell_type": "markdown",
   "id": "1a5eecc3",
   "metadata": {},
   "source": [
    "### 파일을 읽어서 RDD 생성"
   ]
  },
  {
   "cell_type": "code",
   "execution_count": 3,
   "id": "fd317d84",
   "metadata": {},
   "outputs": [],
   "source": [
    "myRDD = spark.sparkContext.textFile(os.path.join(\"data\", \"서울특별시_공공자전거 일별 대여건수_(2018_2019.03).csv\"))"
   ]
  },
  {
   "cell_type": "code",
   "execution_count": 4,
   "id": "6df5e5b7",
   "metadata": {},
   "outputs": [],
   "source": [
    "df = spark\\\n",
    "        .read\\\n",
    "        .format('com.databricks.spark.csv')\\\n",
    "        .options(header='true', inferschema='true', delimiter=',')\\\n",
    "        .load(os.path.join('data','서울특별시_공공자전거 일별 대여건수_(2018_2019.03).csv'))\n"
   ]
  },
  {
   "cell_type": "code",
   "execution_count": 5,
   "id": "f91d8283",
   "metadata": {},
   "outputs": [
    {
     "name": "stdout",
     "output_type": "stream",
     "text": [
      "+--------+--------+\n",
      "|대여일자|대여건수|\n",
      "+--------+--------+\n",
      "|2018.1.1|    4950|\n",
      "|2018.1.2|    7136|\n",
      "|2018.1.3|    7156|\n",
      "|2018.1.4|    7102|\n",
      "|2018.1.5|    7705|\n",
      "+--------+--------+\n",
      "only showing top 5 rows\n",
      "\n"
     ]
    }
   ],
   "source": [
    "df.show(5)"
   ]
  },
  {
   "cell_type": "code",
   "execution_count": 6,
   "id": "05e8b4e1",
   "metadata": {},
   "outputs": [],
   "source": [
    "from pyspark.sql.types import *\n",
    "from pyspark.sql.functions import udf"
   ]
  },
  {
   "cell_type": "markdown",
   "id": "d375a1d3",
   "metadata": {},
   "source": [
    "### 문제 1-1: 년도별 대여건수 합계\n",
    "- 데이터는 2018, 2019년 15개월 간의 대여건수이다. \n",
    "- 년도별로 대여건수의 합계를 계산해서 출력하자.\n",
    "\n",
    "\n",
    "* 정답 예시 :\n",
    "|year|sum(count)|\n",
    "|----|----------|\n",
    "|2018|  10124874|\n",
    "|2019|   1871935|"
   ]
  },
  {
   "cell_type": "code",
   "execution_count": 7,
   "id": "adc5ca4d",
   "metadata": {},
   "outputs": [],
   "source": [
    "def createYear(d):\n",
    "    return int(d[:4])\n",
    "createY = udf(createYear, IntegerType())"
   ]
  },
  {
   "cell_type": "code",
   "execution_count": 8,
   "id": "852aec29",
   "metadata": {},
   "outputs": [],
   "source": [
    "df = df.withColumn(\"Year\", createY(df['대여일자']))"
   ]
  },
  {
   "cell_type": "code",
   "execution_count": 13,
   "id": "9f77ec67",
   "metadata": {},
   "outputs": [],
   "source": [
    "q1 =  df.groupby(df[\"Year\"]).sum()"
   ]
  },
  {
   "cell_type": "code",
   "execution_count": 16,
   "id": "ebbee962",
   "metadata": {},
   "outputs": [
    {
     "name": "stdout",
     "output_type": "stream",
     "text": [
      "+----+-------------+\n",
      "|Year|Sum(대여건수)|\n",
      "+----+-------------+\n",
      "|2018|     10124874|\n",
      "|2019|      1871935|\n",
      "+----+-------------+\n",
      "\n"
     ]
    }
   ],
   "source": [
    "q1.select(\"Year\", \"Sum(대여건수)\").show()"
   ]
  },
  {
   "cell_type": "markdown",
   "id": "bae7b8a2",
   "metadata": {},
   "source": [
    "### 문제 1-2: 년도별, 월별 대여건수 합계\n",
    "- 년별, 월별로 대여건수를 계산하여 합계를 계산하여 출력한다."
   ]
  },
  {
   "cell_type": "code",
   "execution_count": 17,
   "id": "76d898fe",
   "metadata": {},
   "outputs": [],
   "source": [
    "def createMonth(d):\n",
    "    d = d.split(\".\")\n",
    "    return int(d[1])\n",
    "\n",
    "createM = udf(createMonth, IntegerType())"
   ]
  },
  {
   "cell_type": "code",
   "execution_count": 18,
   "id": "ce1875a0",
   "metadata": {},
   "outputs": [],
   "source": [
    "df = df.withColumn(\"Month\", createM(df['대여일자']))"
   ]
  },
  {
   "cell_type": "code",
   "execution_count": 19,
   "id": "661f7e74",
   "metadata": {},
   "outputs": [],
   "source": [
    "q2 = df.groupby(df[\"Year\"], df[\"Month\"]).sum()"
   ]
  },
  {
   "cell_type": "code",
   "execution_count": 22,
   "id": "75467608",
   "metadata": {},
   "outputs": [
    {
     "name": "stdout",
     "output_type": "stream",
     "text": [
      "+----+-----+-------------+---------+----------+\n",
      "|Year|Month|sum(대여건수)|sum(Year)|sum(Month)|\n",
      "+----+-----+-------------+---------+----------+\n",
      "|2018|   10|      1420621|    62558|       310|\n",
      "|2019|    3|       904819|    62589|        93|\n",
      "|2018|    1|       164367|    62558|        31|\n",
      "+----+-----+-------------+---------+----------+\n",
      "only showing top 3 rows\n",
      "\n"
     ]
    }
   ],
   "source": [
    "q2.show(3)"
   ]
  },
  {
   "cell_type": "code",
   "execution_count": 24,
   "id": "495cbc75",
   "metadata": {},
   "outputs": [
    {
     "name": "stdout",
     "output_type": "stream",
     "text": [
      "+----+-----+-------------+\n",
      "|Year|Month|sum(대여건수)|\n",
      "+----+-----+-------------+\n",
      "|2018|    1|       164367|\n",
      "|2018|    2|       168741|\n",
      "|2018|    3|       462661|\n",
      "|2018|    4|       687885|\n",
      "|2018|    5|       965609|\n",
      "|2018|    6|      1207123|\n",
      "|2018|    7|      1100015|\n",
      "|2018|    8|      1037505|\n",
      "|2018|    9|      1447993|\n",
      "|2018|   10|      1420621|\n",
      "|2018|   11|       961532|\n",
      "|2018|   12|       500822|\n",
      "|2019|    1|       495573|\n",
      "|2019|    2|       471543|\n",
      "|2019|    3|       904819|\n",
      "+----+-----+-------------+\n",
      "\n"
     ]
    },
    {
     "name": "stderr",
     "output_type": "stream",
     "text": [
      "\r",
      "[Stage 65:========================================>             (150 + 1) / 200]\r",
      "\r",
      "                                                                                \r"
     ]
    }
   ],
   "source": [
    "q3 = q2.sort(q2[\"Year\"], q2[\"Month\"]).select(\"Year\", \"Month\", \"sum(대여건수)\")\n",
    "q3.show()"
   ]
  },
  {
   "cell_type": "markdown",
   "id": "83d4ad04",
   "metadata": {},
   "source": [
    "### 문제 1-3: 년도별, 월별 대여건수 그래프 \n",
    "- 문제 1-2의 출력을 선 그래프로 그려보자"
   ]
  },
  {
   "cell_type": "code",
   "execution_count": 29,
   "id": "2e8de9d7",
   "metadata": {},
   "outputs": [],
   "source": [
    "g1 = q3.rdd.map(lambda x: [x[0], x[1], x[2]]).collect()"
   ]
  },
  {
   "cell_type": "code",
   "execution_count": 52,
   "id": "65bcfe4a",
   "metadata": {},
   "outputs": [],
   "source": [
    "_y = list(map(lambda x: x[2], g1))"
   ]
  },
  {
   "cell_type": "code",
   "execution_count": 55,
   "id": "3ef686b4",
   "metadata": {},
   "outputs": [],
   "source": [
    "y18 = _y[:12]\n",
    "y19 = _y[12:]"
   ]
  },
  {
   "cell_type": "code",
   "execution_count": 63,
   "id": "b74ad3eb",
   "metadata": {},
   "outputs": [
    {
     "data": {
      "text/plain": [
       "<matplotlib.legend.Legend at 0x11e972730>"
      ]
     },
     "execution_count": 63,
     "metadata": {},
     "output_type": "execute_result"
    },
    {
     "data": {
      "image/png": "[encoded data removed]",
      "text/plain": [
       "<Figure size 432x288 with 1 Axes>"
      ]
     },
     "metadata": {
      "needs_background": "light"
     },
     "output_type": "display_data"
    }
   ],
   "source": [
    "import matplotlib.pyplot as plt\n",
    "\n",
    "plt.plot([i for i in range(1,13)], y18, label = \"2018\")\n",
    "plt.plot([i for i in range(1,4)], y19, label = \"2019\")\n",
    "plt.legend()"
   ]
  }
 ],
 "metadata": {
  "kernelspec": {
   "display_name": "Python 3 (ipykernel)",
   "language": "python",
   "name": "python3"
  },
  "language_info": {
   "codemirror_mode": {
    "name": "ipython",
    "version": 3
   },
   "file_extension": ".py",
   "mimetype": "text/x-python",
   "name": "python",
   "nbconvert_exporter": "python",
   "pygments_lexer": "ipython3",
   "version": "3.9.7"
  }
 },
 "nbformat": 4,
 "nbformat_minor": 5
}
