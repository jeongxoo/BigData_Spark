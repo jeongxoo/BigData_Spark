{
 "cells": [
  {
   "cell_type": "markdown",
   "id": "87927db4",
   "metadata": {},
   "source": [
    "- 학번 : 201611125\n",
    "- 이름 : 김정수\n",
    "- 학과 : 게임전공"
   ]
  },
  {
   "cell_type": "markdown",
   "id": "065735ed",
   "metadata": {},
   "source": [
    "# 12주차 과제\n",
    "데이터가 다음과 같이 주어졌을 때\n",
    "\n",
    "* x: [1,2],[1,4],[1,6]\n",
    "\n",
    "* y: 3,6,7\n",
    "\n",
    "\n",
    "다음의 문제를 풀어보자\n",
    "* 1) matrix inverse method로 계수를 계산하고 출력\n",
    "\n",
    "* 2) 예측과 실제의 오류 합계를 계산하고 출력\n",
    "\n",
    "* 3) 입력 데이터와 회귀선의 그래프를 작성"
   ]
  },
  {
   "cell_type": "markdown",
   "id": "23dbacef",
   "metadata": {},
   "source": [
    "## 문제 1) matrix inverse method로 계수를 계산하고 출력"
   ]
  },
  {
   "cell_type": "code",
   "execution_count": 9,
   "id": "3ba6dfd4",
   "metadata": {},
   "outputs": [],
   "source": [
    "import numpy as np\n",
    "import matplotlib.pyplot as plt"
   ]
  },
  {
   "cell_type": "code",
   "execution_count": 3,
   "id": "293f5f05",
   "metadata": {},
   "outputs": [],
   "source": [
    "x = np.array([[1,2],[1,4],[1,6]])\n",
    "y = np.array([3,6,7])"
   ]
  },
  {
   "cell_type": "code",
   "execution_count": 5,
   "id": "cf2f50d5",
   "metadata": {},
   "outputs": [],
   "source": [
    "w0, w1 = np.dot(np.linalg.inv(np.dot(x.T, x)), np.dot(x.T, y))"
   ]
  },
  {
   "cell_type": "markdown",
   "id": "968a4614",
   "metadata": {},
   "source": [
    "### 계수 출력"
   ]
  },
  {
   "cell_type": "code",
   "execution_count": 8,
   "id": "4991dfd3",
   "metadata": {},
   "outputs": [
    {
     "name": "stdout",
     "output_type": "stream",
     "text": [
      "w0 : 1.333333 \n",
      "w1: 1.000000\n"
     ]
    }
   ],
   "source": [
    "print(\"w0 : %f \\nw1: %f\" %(w0, w1))"
   ]
  },
  {
   "cell_type": "markdown",
   "id": "5fb2df50",
   "metadata": {},
   "source": [
    "## 문제 2) 예측과 실제의 오류 합계를 계산하고 출력"
   ]
  },
  {
   "cell_type": "code",
   "execution_count": 12,
   "id": "8211ef38",
   "metadata": {},
   "outputs": [],
   "source": [
    "x2 = x[:,1]\n",
    "yhat = w0 + w1 * x2"
   ]
  },
  {
   "cell_type": "markdown",
   "id": "debe80a6",
   "metadata": {},
   "source": [
    "### 예측값 & 오류 & 오류 합계 출력"
   ]
  },
  {
   "cell_type": "code",
   "execution_count": 20,
   "id": "dcf6a362",
   "metadata": {},
   "outputs": [
    {
     "name": "stdout",
     "output_type": "stream",
     "text": [
      "Predicted :: [3.33333333 5.33333333 7.33333333]\n",
      "Sum Squared Errors :: 0.666667\n"
     ]
    }
   ],
   "source": [
    "print(\"Predicted ::\", yhat)\n",
    "print(\"Sum Squared Errors :: %f\" %(np.sum(np.power(yhat - y, 2))))"
   ]
  },
  {
   "cell_type": "markdown",
   "id": "49bada2e",
   "metadata": {},
   "source": [
    "## 문제 3) 입력 데이터와 회귀선의 그래프를 작성"
   ]
  },
  {
   "cell_type": "code",
   "execution_count": 13,
   "id": "9963d0f2",
   "metadata": {},
   "outputs": [
    {
     "data": {
      "text/plain": [
       "[<matplotlib.lines.Line2D at 0x11f0f3340>]"
      ]
     },
     "execution_count": 13,
     "metadata": {},
     "output_type": "execute_result"
    },
    {
     "data": {
      "image/png": "[encoded data removed]",
      "text/plain": [
       "<Figure size 432x288 with 1 Axes>"
      ]
     },
     "metadata": {
      "needs_background": "light"
     },
     "output_type": "display_data"
    }
   ],
   "source": [
    "fig = plt.figure()\n",
    "ax = fig.add_subplot(111)\n",
    "ax.scatter(x2, y)\n",
    "ax.plot(x2, yhat)"
   ]
  },
  {
   "cell_type": "code",
   "execution_count": null,
   "id": "7f6558ca",
   "metadata": {},
   "outputs": [],
   "source": []
  }
 ],
 "metadata": {
  "kernelspec": {
   "display_name": "Python 3 (ipykernel)",
   "language": "python",
   "name": "python3"
  },
  "language_info": {
   "codemirror_mode": {
    "name": "ipython",
    "version": 3
   },
   "file_extension": ".py",
   "mimetype": "text/x-python",
   "name": "python",
   "nbconvert_exporter": "python",
   "pygments_lexer": "ipython3",
   "version": "3.9.7"
  }
 },
 "nbformat": 4,
 "nbformat_minor": 5
}
