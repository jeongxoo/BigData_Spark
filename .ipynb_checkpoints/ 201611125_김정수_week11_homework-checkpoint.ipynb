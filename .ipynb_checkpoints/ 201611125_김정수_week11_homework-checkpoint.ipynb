{
 "cells": [
  {
   "cell_type": "markdown",
   "id": "87927db4",
   "metadata": {},
   "source": [
    "- 학번 : 201611125\n",
    "- 이름 : 김정수\n",
    "- 학과 : 게임전공"
   ]
  },
  {
   "cell_type": "markdown",
   "id": "065735ed",
   "metadata": {},
   "source": [
    "# 11주차 과제\n",
    "```sklearn.datasets.make_blobs```를 사용하여 아래 코드로 데이터를 생성하세요.\n",
    "\n",
    "\n",
    "\n",
    "```\n",
    "from sklearn.datasets import make_blobs\n",
    "X, y = make_blobs(n_samples=100, centers=4, cluster_std=0.60, random_state=0)\n",
    "\n",
    "```\n",
    "\n",
    "\n",
    "\n",
    "이 데이터를 4개의 클러스터로 군집화하세요.\n",
    "\n",
    "Python으로 구현해서 클러스터링하는데, 강의에서 만든 함수 코드를 한 군데 수정해야 한다.\n",
    "\n",
    "(1) 클러스터의 중심점을 몇 회만에 찾는지, 매 반복 중심값만을 출력한다.\n",
    "\n",
    "(2) 배정된 클러스터가 맞는지 비교하여 동일한지 확인하세요.\n",
    "\n"
   ]
  },
  {
   "cell_type": "code",
   "execution_count": null,
   "id": "237d1ea5",
   "metadata": {},
   "outputs": [],
   "source": [
    "import matplotlib.pyplot as plt\n",
    "from sklearn.datasets import make_blobs\n",
    "from sklearn.cluster import KMeans\n",
    "import numpy as np"
   ]
  },
  {
   "cell_type": "code",
   "execution_count": 8,
   "id": "455a7185",
   "metadata": {},
   "outputs": [],
   "source": [
    "def draw(x, centroids):\n",
    "    plt.scatter(x[:,0], x[:,1], color = 'blue')\n",
    "    plt.scatter(centroids[:,0], centroids[:,1], color = 'red')"
   ]
  },
  {
   "cell_type": "code",
   "execution_count": 9,
   "id": "aff4cf60",
   "metadata": {},
   "outputs": [],
   "source": [
    "def normDist(x1, x2):\n",
    "    dist = np.linalg.norm(x1 - x2)\n",
    "    return dist"
   ]
  },
  {
   "cell_type": "code",
   "execution_count": 51,
   "id": "32660b77",
   "metadata": {},
   "outputs": [],
   "source": [
    "def cluster(x, k, centroids):\n",
    "    row, col = x.shape\n",
    "    clusterAssigned = np.zeros(shape = (row, 2), dtype = float)\n",
    "    clusterUpdated = True\n",
    "    iter = 1\n",
    "    while(clusterUpdated):\n",
    "        print (\"\\n\\n====== {}번째 반복 ======\".format(iter))\n",
    "        for i in range(row):\n",
    "            minDist = np.inf   \n",
    "            minIndex = -1      \n",
    "\n",
    "            for j in range(k):\n",
    "                distJI = normDist(centroids[j], x[i])\n",
    "                if distJI < minDist:\n",
    "                    minDist = distJI\n",
    "                    minIndex = j\n",
    "#             print (\"{} to {}th 중심 변경 {:.3f}\".format(x[i], minIndex, minDist))\n",
    "            clusterAssigned[i] = [minIndex, minDist]   #-----changed\n",
    "        _centroids=np.zeros(shape = (k, x.shape[1]), dtype=float)\n",
    "        for cent in range(k):\n",
    "            _centroids[cent] = np.mean(x[clusterAssigned[:,0]==cent],axis=0)\n",
    "        comparison = np.equal(centroids, _centroids) # np.isclose() in case some tolerence is required\n",
    "        if(comparison.all() == True):\n",
    "#             print (\"\\n중심 업데이트 불가\\n {} => \\n{}\".format(centroids, _centroids))\n",
    "            clusterUpdated = False\n",
    "            return centroids, clusterAssigned\n",
    "        else:\n",
    "            print (\"\\n중심 업데이트\\n {} \\n            ||   \\n {}\".format(centroids, _centroids))\n",
    "            centroids = _centroids\n",
    "            iter += 1\n"
   ]
  },
  {
   "cell_type": "code",
   "execution_count": 52,
   "id": "24c8320c",
   "metadata": {},
   "outputs": [],
   "source": [
    "X, y = make_blobs(n_samples=100, centers=4, cluster_std=0.60, random_state=0)"
   ]
  },
  {
   "cell_type": "markdown",
   "id": "8f416d31",
   "metadata": {},
   "source": [
    "## 문제1) 클러스터의 중심점을 몇 회만에 찾는지, 매 반복 중심값만을 출력한다.\n"
   ]
  },
  {
   "cell_type": "code",
   "execution_count": 53,
   "id": "26d1ce8c",
   "metadata": {
    "scrolled": false
   },
   "outputs": [
    {
     "name": "stdout",
     "output_type": "stream",
     "text": [
      "\n",
      "\n",
      "====== 1번째 반복 ======\n",
      "\n",
      "중심 업데이트\n",
      " [[-3.  3.]\n",
      " [-3.  8.]\n",
      " [ 2.  4.]\n",
      " [ 2.  1.]] \n",
      "            ||   \n",
      " [[-1.63043905  3.09879034]\n",
      " [-1.27208964  7.74944718]\n",
      " [ 0.78627354  4.2491454 ]\n",
      " [ 1.97918933  0.97920012]]\n",
      "\n",
      "\n",
      "====== 2번째 반복 ======\n",
      "\n",
      "중심 업데이트\n",
      " [[-1.63043905  3.09879034]\n",
      " [-1.27208964  7.74944718]\n",
      " [ 0.78627354  4.2491454 ]\n",
      " [ 1.97918933  0.97920012]] \n",
      "            ||   \n",
      " [[-1.5772186   3.11456071]\n",
      " [-1.27208964  7.74944718]\n",
      " [ 0.83044547  4.27831711]\n",
      " [ 1.97918933  0.97920012]]\n",
      "\n",
      "\n",
      "====== 3번째 반복 ======\n"
     ]
    },
    {
     "data": {
      "image/png": "[encoded data removed]",
      "text/plain": [
       "<Figure size 432x288 with 1 Axes>"
      ]
     },
     "metadata": {
      "needs_background": "light"
     },
     "output_type": "display_data"
    }
   ],
   "source": [
    "%matplotlib inline\n",
    "\n",
    "k = 4\n",
    "centroids = np.array([[-3,3], [-3,8], [2,4], [2,1]], dtype = float)\n",
    "centroids, clusterAssigned = cluster(X, k, centroids)\n",
    "draw(X, centroids)"
   ]
  },
  {
   "cell_type": "markdown",
   "id": "2d08ef06",
   "metadata": {},
   "source": [
    "## 문제2) 배정된 클러스터가 맞는지 비교하여 동일한지 확인하세요."
   ]
  },
  {
   "cell_type": "code",
   "execution_count": 44,
   "id": "3f8f42b1",
   "metadata": {},
   "outputs": [
    {
     "name": "stdout",
     "output_type": "stream",
     "text": [
      "Cluster label:  [3 1 3 3 3 3 0 1 3 1 1 1 1 1 1 2 2 3 0 2 3 1 0 2 3 0 3 3 2 2 2 1 2 2 0 3 1\n",
      " 2 1 0 3 0 1 0 0 1 2 0 3 3 3 2 0 0 0 1 1 2 2 1 1 2 2 3 2 1 0 0 2 3 1 2 3 1\n",
      " 3 3 0 0 2 2 2 1 0 3 2 0 2 2 3 3 3 0 3 0 0 1 1 0 1 3]\n",
      "Centroid:  [[-1.5772186   3.11456071]\n",
      " [-1.27208964  7.74944718]\n",
      " [ 1.97918933  0.97920012]\n",
      " [ 0.83044547  4.27831711]]\n",
      "Predictions:  [2 3]\n"
     ]
    }
   ],
   "source": [
    "kmeans = KMeans(n_clusters=4, random_state=0).fit(X)\n",
    "print (\"Cluster label: \", kmeans.labels_)\n",
    "print (\"Centroid: \", kmeans.cluster_centers_)\n",
    "print (\"Predictions: \",kmeans.predict([[0, 0], [4, 4]]))"
   ]
  },
  {
   "cell_type": "markdown",
   "id": "fe1fd0de",
   "metadata": {},
   "source": [
    "### 일반적인 sklearn.kmeans 사용결과 동일한 것을 확인 가능"
   ]
  },
  {
   "cell_type": "code",
   "execution_count": 28,
   "id": "b02c5f6f",
   "metadata": {},
   "outputs": [
    {
     "data": {
      "image/png": "[encoded data removed]",
      "text/plain": [
       "<Figure size 432x288 with 1 Axes>"
      ]
     },
     "metadata": {
      "needs_background": "light"
     },
     "output_type": "display_data"
    }
   ],
   "source": [
    "draw(X, kmeans.cluster_centers_)"
   ]
  }
 ],
 "metadata": {
  "kernelspec": {
   "display_name": "Python 3 (ipykernel)",
   "language": "python",
   "name": "python3"
  },
  "language_info": {
   "codemirror_mode": {
    "name": "ipython",
    "version": 3
   },
   "file_extension": ".py",
   "mimetype": "text/x-python",
   "name": "python",
   "nbconvert_exporter": "python",
   "pygments_lexer": "ipython3",
   "version": "3.9.7"
  }
 },
 "nbformat": 4,
 "nbformat_minor": 5
}
