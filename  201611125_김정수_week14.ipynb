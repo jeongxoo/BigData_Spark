{
 "cells": [
  {
   "cell_type": "markdown",
   "id": "87927db4",
   "metadata": {},
   "source": [
    "- 학번 : 201611125\n",
    "- 이름 : 김정수\n",
    "- 학과 : 게임전공"
   ]
  },
  {
   "cell_type": "markdown",
   "id": "065735ed",
   "metadata": {},
   "source": [
    "# 14주차 과제\n",
    "\n",
    "* (1) X, Y 데이터를 생성\n",
    "\n",
    "* (2) X의 평균과 표준편차 계산해서 출력\n",
    "\n",
    "* (3) 그래프 작성\n",
    "\n",
    "    * scatter() 함수에 c=Y 옵션을 넣으면, Y의 값에 대해 다른 색으로 표시할 수 있다.\n",
    "\n",
    "* (4) 훈련데이터, 테스트데이터 3:1로 분리\n",
    "\n",
    "    * train_test_split()함수를 사용하면 원하는 비율로 분리할 수 있다.\n",
    "\n",
    "* (5) 훈련데이터에 대하여 BernoulliNB 모델링\n",
    "\n",
    "    * X데이터는 연속 값이다. binarize=0.0으로 설정하여 이진수로 모델링한다.\n",
    "\n",
    "* (6) 테스트데이터에 대하여 예측값을 출력\n",
    "\n",
    "    * 예측이 맞는지 실제값 Y와 비교해보자.\n",
    "\n",
    "* (7) 테스트데이터에 대하여 예측과 실제의 정확성 출력\n",
    "\n"
   ]
  },
  {
   "cell_type": "markdown",
   "id": "23dbacef",
   "metadata": {},
   "source": [
    "## 문제 1) X, Y 데이터 생성"
   ]
  },
  {
   "cell_type": "code",
   "execution_count": 1,
   "id": "a7dfe067",
   "metadata": {},
   "outputs": [],
   "source": [
    "from sklearn.datasets import make_classification\n",
    "\n",
    "X, Y = make_classification(n_samples = 100, n_features = 2, n_informative = 2, n_redundant = 0)"
   ]
  },
  {
   "cell_type": "markdown",
   "id": "fa30327b",
   "metadata": {},
   "source": [
    "## 문제 2) X 평균과 표준편차 계산 출력"
   ]
  },
  {
   "cell_type": "code",
   "execution_count": 3,
   "id": "3ba6dfd4",
   "metadata": {},
   "outputs": [
    {
     "data": {
      "text/plain": [
       "(0.11092141454064881, 1.3740965793620934)"
      ]
     },
     "execution_count": 3,
     "metadata": {},
     "output_type": "execute_result"
    }
   ],
   "source": [
    "X.mean(), X.std()"
   ]
  },
  {
   "cell_type": "markdown",
   "id": "475dd0c0",
   "metadata": {},
   "source": [
    "## 문제 3) 그래프 작성"
   ]
  },
  {
   "cell_type": "code",
   "execution_count": 4,
   "id": "b0992dc3",
   "metadata": {},
   "outputs": [
    {
     "data": {
      "image/png": "[encoded data removed]",
      "text/plain": [
       "<Figure size 432x288 with 1 Axes>"
      ]
     },
     "metadata": {
      "needs_background": "light"
     },
     "output_type": "display_data"
    }
   ],
   "source": [
    "import matplotlib.pyplot as plt\n",
    "\n",
    "plt.scatter(X[:,0], X[:,1], marker = 'o', c = Y)\n",
    "plt.show()"
   ]
  },
  {
   "cell_type": "markdown",
   "id": "90488434",
   "metadata": {},
   "source": [
    "## 문제 4) 훈련, 테스트 데이터 3:1로 분리"
   ]
  },
  {
   "cell_type": "code",
   "execution_count": 5,
   "id": "8f900915",
   "metadata": {},
   "outputs": [],
   "source": [
    "from sklearn.model_selection import train_test_split\n",
    "\n",
    "X_train, X_test, Y_train, Y_test = train_test_split(X, Y, test_size = 0.25)"
   ]
  },
  {
   "cell_type": "markdown",
   "id": "a40ec48f",
   "metadata": {},
   "source": [
    "## 문제 5) 훈련데이터에 대하여 BernoulliNB 모델링"
   ]
  },
  {
   "cell_type": "code",
   "execution_count": 6,
   "id": "b03ffedc",
   "metadata": {},
   "outputs": [],
   "source": [
    "from sklearn.naive_bayes import BernoulliNB\n",
    "\n",
    "bnb = BernoulliNB(binarize = 0.0)"
   ]
  },
  {
   "cell_type": "code",
   "execution_count": 7,
   "id": "d2e0711f",
   "metadata": {},
   "outputs": [
    {
     "data": {
      "text/plain": [
       "BernoulliNB()"
      ]
     },
     "execution_count": 7,
     "metadata": {},
     "output_type": "execute_result"
    }
   ],
   "source": [
    "bnb.fit(X_train, Y_train)"
   ]
  },
  {
   "cell_type": "markdown",
   "id": "fb01b0a9",
   "metadata": {},
   "source": [
    "## 문제 6) 테스트데이터에 대하여 예측값을 출력"
   ]
  },
  {
   "cell_type": "code",
   "execution_count": 8,
   "id": "04e3f1d2",
   "metadata": {},
   "outputs": [
    {
     "data": {
      "text/plain": [
       "[(0, 0, array([-1.61461741,  0.29418644])),\n",
       " (1, 0, array([0.29763266, 2.17705396])),\n",
       " (0, 0, array([-1.21953131, -0.90413757])),\n",
       " (1, 1, array([ 0.85827486, -0.11705436])),\n",
       " (1, 1, array([1.999831  , 0.25145922])),\n",
       " (0, 0, array([-0.63897609,  1.11581458])),\n",
       " (1, 1, array([0.68499143, 1.34896457])),\n",
       " (0, 0, array([-1.41140278, -0.89733721])),\n",
       " (1, 1, array([0.70534067, 1.63930085])),\n",
       " (1, 0, array([ 0.07199367, -1.26489738])),\n",
       " (1, 1, array([1.25367947, 0.66283238])),\n",
       " (0, 0, array([-2.3605581 , -0.36993334])),\n",
       " (0, 0, array([-1.28409504, -0.8673696 ])),\n",
       " (0, 0, array([-0.28688054, -1.39364921])),\n",
       " (0, 0, array([-1.55435521, -0.25637262])),\n",
       " (0, 0, array([-1.29827315,  0.39594085])),\n",
       " (1, 1, array([0.39697438, 0.2157721 ])),\n",
       " (0, 0, array([-2.05971765,  0.09900251])),\n",
       " (1, 1, array([ 2.46543539, -1.24003152])),\n",
       " (1, 1, array([ 2.0882446 , -2.51479117])),\n",
       " (0, 0, array([-2.39529078, -0.55742464])),\n",
       " (1, 1, array([0.75965007, 2.01363351])),\n",
       " (1, 1, array([ 0.96103482, -0.7592804 ])),\n",
       " (0, 0, array([-1.5152987 ,  1.32722924])),\n",
       " (1, 0, array([ 0.13135083, -1.42404661]))]"
      ]
     },
     "execution_count": 8,
     "metadata": {},
     "output_type": "execute_result"
    }
   ],
   "source": [
    "list(zip(bnb.predict(X_test),Y_test, X_test))"
   ]
  },
  {
   "cell_type": "markdown",
   "id": "2f4f456c",
   "metadata": {},
   "source": [
    "## 문제 7) 정확성 출력"
   ]
  },
  {
   "cell_type": "code",
   "execution_count": 10,
   "id": "ce48b725",
   "metadata": {
    "scrolled": true
   },
   "outputs": [
    {
     "data": {
      "text/plain": [
       "0.88"
      ]
     },
     "execution_count": 10,
     "metadata": {},
     "output_type": "execute_result"
    }
   ],
   "source": [
    "bnb.score(X_test, Y_test)"
   ]
  }
 ],
 "metadata": {
  "kernelspec": {
   "display_name": "Python 3 (ipykernel)",
   "language": "python",
   "name": "python3"
  },
  "language_info": {
   "codemirror_mode": {
    "name": "ipython",
    "version": 3
   },
   "file_extension": ".py",
   "mimetype": "text/x-python",
   "name": "python",
   "nbconvert_exporter": "python",
   "pygments_lexer": "ipython3",
   "version": "3.9.7"
  }
 },
 "nbformat": 4,
 "nbformat_minor": 5
}
