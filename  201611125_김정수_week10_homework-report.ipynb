{
 "cells": [
  {
   "cell_type": "markdown",
   "id": "87927db4",
   "metadata": {},
   "source": [
    "- 학번 : 201611125\n",
    "- 이름 : 김정수\n",
    "- 학과 : 게임전공"
   ]
  },
  {
   "cell_type": "markdown",
   "id": "065735ed",
   "metadata": {},
   "source": [
    "# 10주차 과제\n",
    "\n",
    "'제74주년 경찰의 날 기념식 축사' 전문을 읽고 TF-IDF를 계산하세요.\n",
    "\n",
    "전문은 http://www.korea.kr/archive/speechView.do?newsId=132031636 에서 읽을 수 있고,\n",
    "\n",
    "해당 사이트에서 텍스트만 파일로 저장한 후 사용한다.\n",
    "\n",
    "\n",
    "\n",
    "* 1) DataFrame을 생성\n",
    "\n",
    "* 2) 단어로 분리해서, 출력\n",
    "\n",
    "* 3) 불용어 구성, 출력 - 축사 전문에서 한글자로 된 단어를 찾아내 스스로 구성\n",
    "\n",
    "* 4) 불용어 제거하고, 출력\n",
    "\n",
    "* 5) TF-IDF를 계산하고, 출력\n",
    "\n",
    "* 6) TF-IDF 컬럼을 features로 구성, 출력"
   ]
  },
  {
   "cell_type": "code",
   "execution_count": 1,
   "id": "c6c427f1",
   "metadata": {},
   "outputs": [],
   "source": [
    "import pyspark\n",
    "import os\n",
    "from pyspark.sql.types import *\n",
    "from pyspark.sql.functions import udf\n",
    "import numpy as np\n",
    "from pyspark.sql import functions as F\n",
    "from scipy.stats import norm"
   ]
  },
  {
   "cell_type": "code",
   "execution_count": 2,
   "id": "4600325c",
   "metadata": {},
   "outputs": [
    {
     "name": "stderr",
     "output_type": "stream",
     "text": [
      "WARNING: An illegal reflective access operation has occurred\n",
      "WARNING: Illegal reflective access by org.apache.spark.unsafe.Platform (file:/usr/local/lib/python3.9/site-packages/pyspark/jars/spark-unsafe_2.12-3.1.2.jar) to constructor java.nio.DirectByteBuffer(long,int)\n",
      "WARNING: Please consider reporting this to the maintainers of org.apache.spark.unsafe.Platform\n",
      "WARNING: Use --illegal-access=warn to enable warnings of further illegal reflective access operations\n",
      "WARNING: All illegal access operations will be denied in a future release\n",
      "21/11/09 00:29:35 WARN NativeCodeLoader: Unable to load native-hadoop library for your platform... using builtin-java classes where applicable\n",
      "Using Spark's default log4j profile: org/apache/spark/log4j-defaults.properties\n",
      "Setting default log level to \"WARN\".\n",
      "To adjust logging level use sc.setLogLevel(newLevel). For SparkR, use setLogLevel(newLevel).\n"
     ]
    }
   ],
   "source": [
    "myConf = pyspark.SparkConf()\n",
    "spark = pyspark.sql.SparkSession.builder\\\n",
    "        .master(\"local\")\\\n",
    "        .appName(\"myApp\")\\\n",
    "        .config(conf = myConf)\\\n",
    "        .getOrCreate()"
   ]
  },
  {
   "cell_type": "markdown",
   "id": "72dd69a8",
   "metadata": {},
   "source": [
    "## 데이터 불러오기 & 전처리"
   ]
  },
  {
   "cell_type": "code",
   "execution_count": 3,
   "id": "f0ddde0f",
   "metadata": {},
   "outputs": [],
   "source": [
    "# 형태소 분석기 khaiii 사용 \n",
    "from khaiii import KhaiiiApi\n",
    "k_api = KhaiiiApi()"
   ]
  },
  {
   "cell_type": "code",
   "execution_count": 4,
   "id": "d0ce6c4b",
   "metadata": {},
   "outputs": [],
   "source": [
    "# 토크나이징 겸 형태소 분석 함수\n",
    "def tokeni(sen):\n",
    "    _v = k_api.analyze(sen)\n",
    "    tok = []\n",
    "    for word in _v:\n",
    "        tok += [str(w.lex) for w in word.morphs]\n",
    "    return tok"
   ]
  },
  {
   "cell_type": "code",
   "execution_count": 5,
   "id": "e89a2df6",
   "metadata": {},
   "outputs": [],
   "source": [
    "# 파일 읽어서 RDD 생성\n",
    "rdd = spark.sparkContext.textFile(os.path.join(\"data\", \"제74주년 경찰의 날 기념식 축사.txt\"))"
   ]
  },
  {
   "cell_type": "code",
   "execution_count": 6,
   "id": "210bb7a0",
   "metadata": {},
   "outputs": [],
   "source": [
    "# DF 생성 전 전처리, 문장을 \".\" 기준으로 분리\n",
    "_rdd = rdd.filter(lambda x: len(x) > 1)\\\n",
    "        .flatMap(lambda x: x.split(\". \"))"
   ]
  },
  {
   "cell_type": "code",
   "execution_count": 7,
   "id": "d1823c7b",
   "metadata": {},
   "outputs": [],
   "source": [
    "# khaiii와 spakr map reduce를 같이 사용시\n",
    "# ValueError: ctypes objects containing pointers cannot be pickled\n",
    "# 오류 발생으로 RDD -> List -> RDD -> DF로 변환\n",
    "_rd = _rdd.collect()\n",
    "_token = [[r, tokeni(r)] for r in _rd]\n",
    "tokens = spark.sparkContext.parallelize(_token)"
   ]
  },
  {
   "cell_type": "code",
   "execution_count": 8,
   "id": "ce4a8fda",
   "metadata": {},
   "outputs": [],
   "source": [
    "df_original = spark.createDataFrame(tokens, [\"Original\", \"Token\"])"
   ]
  },
  {
   "cell_type": "markdown",
   "id": "2ac9bd31",
   "metadata": {},
   "source": [
    "## 문제 1,2) 원본 문장, 토크나이징(형태소 기반)된 문장 출력"
   ]
  },
  {
   "cell_type": "code",
   "execution_count": 9,
   "id": "577cf252",
   "metadata": {},
   "outputs": [
    {
     "name": "stdout",
     "output_type": "stream",
     "text": [
      "+---------------------------------+----------------------------+\n",
      "|                         Original|                       Token|\n",
      "+---------------------------------+----------------------------+\n",
      "| 존경하는 국민 여러분, 경찰관 ...|[존경, 하, 는, 국민, 여러...|\n",
      "|국민의 안전을 위해 밤낮없이 애...|[국민, 의, 안전, 을, 위하...|\n",
      "|전몰·순직 경찰관들의 고귀한 희...| [전, 몰, ·, 순직, 경찰관...|\n",
      "+---------------------------------+----------------------------+\n",
      "only showing top 3 rows\n",
      "\n"
     ]
    }
   ],
   "source": [
    "df_original.show(3)"
   ]
  },
  {
   "cell_type": "markdown",
   "id": "70fac351",
   "metadata": {},
   "source": [
    "## 불용어 사전 생성, Khaiii 사용"
   ]
  },
  {
   "cell_type": "code",
   "execution_count": 10,
   "id": "4a8c45af",
   "metadata": {},
   "outputs": [],
   "source": [
    "def take_khaiii(x):\n",
    "    value = k_api.analyze(x)\n",
    "    ans = []\n",
    "    for word in value:\n",
    "        morphs = [(mo.lex, mo.tag) for mo in word.morphs]\n",
    "        ans += morphs\n",
    "    return ans"
   ]
  },
  {
   "cell_type": "code",
   "execution_count": 11,
   "id": "8b222f02",
   "metadata": {},
   "outputs": [],
   "source": [
    "stops = []\n",
    "for sen in _rd: stops += take_khaiii(sen)"
   ]
  },
  {
   "cell_type": "code",
   "execution_count": 12,
   "id": "da9b8fe3",
   "metadata": {},
   "outputs": [
    {
     "name": "stdout",
     "output_type": "stream",
     "text": [
      "[('존경', 'NNG'), ('하', 'XSV'), ('는', 'ETM'), ('국민', 'NNG'), ('여러분', 'NP'), (',', 'SP'), ('경찰관', 'NNG'), ('여러분', 'NP'), (',', 'SP'), ('일흔', 'NR')]\n"
     ]
    }
   ],
   "source": [
    "print(stops[:10])"
   ]
  },
  {
   "cell_type": "markdown",
   "id": "e611f04b",
   "metadata": {},
   "source": [
    "## 품사를 기반으로 불용어 확인\n",
    "- S를 포함하는 품사 -> 특수 문자, 숫자, 한자 등등 불필요한 문자 제거\n",
    "- E를 포함하는 품사 -> 선어말, 종결, 연결.. 어미 불필요한 문자 제거\n",
    "- J를 포함하는 품사 -> 조사 불필요한 문자 제거\n",
    "- V를 포함하는 품사 -> 지정사, 용언 불필요한 문자 제거\n",
    "- 글자 수가 1개인 단어 제거 -> 의미 파악 불가한 불필요한 문자 제거\n",
    "- 카이 품사 정보 -> https://github.com/kakao/khaiii/wiki/%EC%BD%94%ED%8D%BC%EC%8A%A4"
   ]
  },
  {
   "cell_type": "code",
   "execution_count": 13,
   "id": "e498e3ad",
   "metadata": {},
   "outputs": [],
   "source": [
    "tags = [\"S\", \"E\", \"J\", \"V\"]"
   ]
  },
  {
   "cell_type": "code",
   "execution_count": 14,
   "id": "e1418518",
   "metadata": {},
   "outputs": [],
   "source": [
    "stop_dic = []\n",
    "for word in stops: \n",
    "    if \"S\" in word[1] or \"E\" in word[1] or \"J\" in word[1] or \"V\" in word[1] or len(word[0]) == 1: \n",
    "        stop_dic.append(word[0])"
   ]
  },
  {
   "cell_type": "code",
   "execution_count": 15,
   "id": "bda2eccd",
   "metadata": {},
   "outputs": [],
   "source": [
    "stop_dic = list(set(stop_dic))"
   ]
  },
  {
   "cell_type": "code",
   "execution_count": 16,
   "id": "1339efb8",
   "metadata": {},
   "outputs": [],
   "source": [
    "from pyspark.ml.feature import StopWordsRemover\n",
    "\n",
    "stop = StopWordsRemover(inputCol = \"Token\", outputCol = \"Execpt\")"
   ]
  },
  {
   "cell_type": "code",
   "execution_count": 17,
   "id": "28f0af05",
   "metadata": {},
   "outputs": [
    {
     "data": {
      "text/plain": [
       "StopWordsRemover_67b6d14cdd11"
      ]
     },
     "execution_count": 17,
     "metadata": {},
     "output_type": "execute_result"
    }
   ],
   "source": [
    "stopwords = []\n",
    "_stopwords = stop.getStopWords()\n",
    "for e in stop_dic:\n",
    "    stopwords.append(e)\n",
    "    \n",
    "stop.setStopWords(stopwords)"
   ]
  },
  {
   "cell_type": "markdown",
   "id": "4756eaff",
   "metadata": {},
   "source": [
    "## 문제 3) 불용어 파악"
   ]
  },
  {
   "cell_type": "code",
   "execution_count": 18,
   "id": "a542b8a5",
   "metadata": {},
   "outputs": [
    {
     "name": "stdout",
     "output_type": "stream",
     "text": [
      "돌아보/그리하여/게/안/제/나서/의/1/날/있/며/로/크/았/18/앞장서/애쓰/와/불/었/못하/은/줄/./아/않/여야/그/거나/나타나/ㄹ/지키/어서/였/권/그리고/매듭짓/더/좋/위하/려/거/전하/다/ㄴ/과/위/몰/삼/님/대하/”/명/돌/8/열리/후/572/1945/가/롭/비하/잃/길/미루/바라/를/7/15/법/흔들리/을/시/으시/던지/6/서/%/넘/없/니다/25/흘리/고자/앞/74/·/맞추/어/습니다/찰/“/는/,/여/고/늘리/오/비/도/2015/‘/으려/네/에/싸우/알리/에게/갖추/무/내/점/자면/지/이/같/으로/전/5/ㅂ니다/그러/고맙/2/성/회/거듭나/받/년/피/겠/닿/표/들/업/처럼/드리/하/ㅂ/다고/에서/수/것/스럽/ㅁ/등/기/80/주/느냐는/만/참/그러나/락/돕오/되/적/찾/’/만들/나/께/ㄴ다는/"
     ]
    }
   ],
   "source": [
    "# 한글만 들어있는 불용어 사전 출력 확인\n",
    "for e in stop.getStopWords():\n",
    "    print (e, end=\"/\")"
   ]
  },
  {
   "cell_type": "markdown",
   "id": "5c0ee90a",
   "metadata": {},
   "source": [
    "## 문제 4) 불용어 처리된 부분 포함 출력"
   ]
  },
  {
   "cell_type": "code",
   "execution_count": 19,
   "id": "df5d66ce",
   "metadata": {},
   "outputs": [
    {
     "name": "stdout",
     "output_type": "stream",
     "text": [
      "+----------------------------------------------------------------------------------------------------------------------------+--------------------------------------------------------+\n",
      "|Token                                                                                                                       |Execpt                                                  |\n",
      "+----------------------------------------------------------------------------------------------------------------------------+--------------------------------------------------------+\n",
      "|[존경, 하, 는, 국민, 여러분, ,, 경찰관, 여러분, ,, 일흔, 네, 돌, ‘, 경찰, 의, 날, ’, 이, ㅂ니다, .]                         |[존경, 국민, 여러분, 경찰관, 여러분, 일흔, 경찰]        |\n",
      "|[국민, 의, 안전, 을, 위하, 여, 밤낮없이, 애쓰, 시, 는, 전국, 의, 15, 만, 경찰관, 여러분, 께, 먼저, 감사, 를, 드리, ㅂ, 니다]|[국민, 안전, 밤낮없이, 전국, 경찰관, 여러분, 먼저, 감사]|\n",
      "+----------------------------------------------------------------------------------------------------------------------------+--------------------------------------------------------+\n",
      "only showing top 2 rows\n",
      "\n"
     ]
    }
   ],
   "source": [
    "stopDf = stop.transform(df_original)\n",
    "stopDf[\"Token\", \"Execpt\"].show(n = 2, truncate=False)"
   ]
  },
  {
   "cell_type": "markdown",
   "id": "711a45e0",
   "metadata": {},
   "source": [
    "## TF-IDF"
   ]
  },
  {
   "cell_type": "code",
   "execution_count": 20,
   "id": "978828ba",
   "metadata": {},
   "outputs": [],
   "source": [
    "from pyspark.ml.feature import HashingTF, IDF\n",
    "hashTF = HashingTF(inputCol = \"Execpt\", outputCol = \"Hash\")\n",
    "hashDf = hashTF.transform(stopDf)"
   ]
  },
  {
   "cell_type": "code",
   "execution_count": 21,
   "id": "fe9cced1",
   "metadata": {},
   "outputs": [
    {
     "name": "stdout",
     "output_type": "stream",
     "text": [
      "+------------------------------------------------+--------------------------------------------------------------------------+\n",
      "|Execpt                                          |Hash                                                                      |\n",
      "+------------------------------------------------+--------------------------------------------------------------------------+\n",
      "|[존경, 국민, 여러분, 경찰관, 여러분, 일흔, 경찰]|(262144,[162,89874,101948,160086,181449,251574],[1.0,2.0,1.0,1.0,1.0,1.0])|\n",
      "+------------------------------------------------+--------------------------------------------------------------------------+\n",
      "only showing top 1 row\n",
      "\n"
     ]
    }
   ],
   "source": [
    "hashDf.select(\"Execpt\", \"Hash\").show(n = 1, truncate=False)"
   ]
  },
  {
   "cell_type": "code",
   "execution_count": 22,
   "id": "e5d87ddd",
   "metadata": {},
   "outputs": [],
   "source": [
    "idf = IDF(inputCol = \"Hash\", outputCol = \"IDF\")\n",
    "idfModel = idf.fit(hashDf)\n",
    "\n",
    "idfDf = idfModel.transform(hashDf)"
   ]
  },
  {
   "cell_type": "markdown",
   "id": "a89d546a",
   "metadata": {},
   "source": [
    "## 문제 5, 6"
   ]
  },
  {
   "cell_type": "code",
   "execution_count": 118,
   "id": "62708b37",
   "metadata": {
    "scrolled": false
   },
   "outputs": [
    {
     "name": "stdout",
     "output_type": "stream",
     "text": [
      "+--------------------------------------------------------+--------------------------------------------------------------------------------------------------------------------------------------------------------------------------------------------------------------------+\n",
      "|Execpt                                                  |IDF                                                                                                                                                                                                                 |\n",
      "+--------------------------------------------------------+--------------------------------------------------------------------------------------------------------------------------------------------------------------------------------------------------------------------+\n",
      "|[존경, 국민, 여러분, 경찰관, 여러분, 일흔, 경찰]        |(262144,[162,89874,101948,160086,181449,251574],[1.3862943611198906,3.2549128358735575,3.332204510175204,1.9459101490553132,3.332204510175204,0.7672551527136672])                                                  |\n",
      "|[국민, 안전, 밤낮없이, 전국, 경찰관, 여러분, 먼저, 감사]|(262144,[162,77757,84959,89874,112025,160086,178931,180524],[1.3862943611198906,2.9267394020670396,3.332204510175204,1.6274564179367788,2.2335922215070942,1.9459101490553132,3.332204510175204,2.9267394020670396])|\n",
      "|[순직, 경찰관, 고귀, 희생, 경의]                        |(262144,[122794,160086,166526,205333,260646],[3.332204510175204,1.9459101490553132,3.332204510175204,3.332204510175204,3.332204510175204])                                                                          |\n",
      "+--------------------------------------------------------+--------------------------------------------------------------------------------------------------------------------------------------------------------------------------------------------------------------------+\n",
      "only showing top 3 rows\n",
      "\n"
     ]
    },
    {
     "name": "stderr",
     "output_type": "stream",
     "text": [
      "21/11/09 00:59:10 WARN DAGScheduler: Broadcasting large task binary with size 4.0 MiB\n"
     ]
    }
   ],
   "source": [
    "idfDf.select(\"Execpt\", \"IDF\").show(n = 3, truncate = False)"
   ]
  },
  {
   "cell_type": "markdown",
   "id": "c91bc703",
   "metadata": {},
   "source": [
    "## 각 문장 별로 중요한(TF-IDF 값이 큰) 단어 확인 "
   ]
  },
  {
   "cell_type": "code",
   "execution_count": 24,
   "id": "6481b4c1",
   "metadata": {},
   "outputs": [],
   "source": [
    "_temp = idfDf.select(\"Original\", \"Execpt\", \"IDF\")\n",
    "\n",
    "_temp = _temp.toPandas()"
   ]
  },
  {
   "cell_type": "code",
   "execution_count": 116,
   "id": "c0f5a591",
   "metadata": {
    "scrolled": false
   },
   "outputs": [
    {
     "name": "stdout",
     "output_type": "stream",
     "text": [
      "문장 ::  존경하는 국민 여러분, 경찰관 여러분, 일흔네 돌 ‘경찰의 날’입니다.\n",
      "단어 추출 ::  ['존경', '국민', '여러분', '경찰관', '여러분', '일흔', '경찰']\n",
      "TF-IDF :: 1.386294 / 3.254913 / 3.332205 / 1.945910 / 3.332205 / 0.767255 /  \n",
      "\n",
      "가장 높은 TF-IDF 값을 가진 단어 출력\n",
      "2번째 단어 :: 여러분 || TF-IDF :: 3.332205\n",
      "4번째 단어 :: 여러분 || TF-IDF :: 3.332205\n",
      "----------------------------------------------------------------------------------------------------\n",
      "\n",
      "문장 ::  국민의 안전을 위해 밤낮없이 애쓰시는 전국의 15만 경찰관 여러분께 먼저 감사를 드립니다\n",
      "단어 추출 ::  ['국민', '안전', '밤낮없이', '전국', '경찰관', '여러분', '먼저', '감사']\n",
      "TF-IDF :: 1.386294 / 2.926739 / 3.332205 / 1.627456 / 2.233592 / 1.945910 / 3.332205 / 2.926739 /  \n",
      "\n",
      "가장 높은 TF-IDF 값을 가진 단어 출력\n",
      "2번째 단어 :: 밤낮없이 || TF-IDF :: 3.332205\n",
      "6번째 단어 :: 먼저 || TF-IDF :: 3.332205\n",
      "----------------------------------------------------------------------------------------------------\n",
      "\n",
      "문장 ::  전몰·순직 경찰관들의 고귀한 희생에 경의를 표합니다\n",
      "단어 추출 ::  ['순직', '경찰관', '고귀', '희생', '경의']\n",
      "TF-IDF :: 3.332205 / 1.945910 / 3.332205 / 3.332205 / 3.332205 /  \n",
      "\n",
      "가장 높은 TF-IDF 값을 가진 단어 출력\n",
      "0번째 단어 :: 순직 || TF-IDF :: 3.332205\n",
      "2번째 단어 :: 고귀 || TF-IDF :: 3.332205\n",
      "3번째 단어 :: 희생 || TF-IDF :: 3.332205\n",
      "4번째 단어 :: 경의 || TF-IDF :: 3.332205\n",
      "----------------------------------------------------------------------------------------------------\n",
      "\n"
     ]
    }
   ],
   "source": [
    "for i in range(3):\n",
    "    print(\"문장 :: \", _temp[\"Original\"][i])\n",
    "    print(\"단어 추출 :: \", _temp[\"Execpt\"][i])\n",
    "    \n",
    "    _t = _temp[\"IDF\"][i].toArray()\n",
    "    _t = np.delete(_t, np.where(_t == 0.0))\n",
    "    print(\"TF-IDF ::\", end = \" \")\n",
    "    for _ts in _t: print(\"%f\" %_ts, end = \" / \")\n",
    "    max_where = np.where(_t == _t.max())\n",
    "    print(\" \")\n",
    "    print(\"\\n가장 높은 TF-IDF 값을 가진 단어 출력\")\n",
    "    for n in max_where[0]:\n",
    "        print(\"%d번째 단어 :: %s || TF-IDF :: %f\" %(n, _temp[\"Execpt\"][i][n], _t[n]))\n",
    "    print(\"-\" * 100, end = \"\\n\\n\")"
   ]
  },
  {
   "cell_type": "code",
   "execution_count": null,
   "id": "c16ccda6",
   "metadata": {},
   "outputs": [],
   "source": []
  }
 ],
 "metadata": {
  "kernelspec": {
   "display_name": "Python 3 (ipykernel)",
   "language": "python",
   "name": "python3"
  },
  "language_info": {
   "codemirror_mode": {
    "name": "ipython",
    "version": 3
   },
   "file_extension": ".py",
   "mimetype": "text/x-python",
   "name": "python",
   "nbconvert_exporter": "python",
   "pygments_lexer": "ipython3",
   "version": "3.9.7"
  }
 },
 "nbformat": 4,
 "nbformat_minor": 5
}
