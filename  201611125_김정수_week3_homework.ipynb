{
 "cells": [
  {
   "cell_type": "markdown",
   "metadata": {},
   "source": [
    "- 학번 : 201611125\n",
    "- 이름 : 김정수\n",
    "- 학과 : 게임전공"
   ]
  },
  {
   "cell_type": "markdown",
   "metadata": {},
   "source": [
    "# 문제 1: 데이터 수집 후 출력"
   ]
  },
  {
   "cell_type": "markdown",
   "metadata": {},
   "source": [
    "- 중고나라 소형음향기기(무선 이어폰, 헤드폰 등) 거래 게시물 크롤링 데이터\n",
    "- 2021.06~2021.09 수집 완료 / 크롤링 계속 진행 중\n",
    "- 대략 4만 5천건 수집 완료"
   ]
  },
  {
   "cell_type": "code",
   "execution_count": 35,
   "metadata": {
    "scrolled": true
   },
   "outputs": [
    {
     "name": "stdout",
     "output_type": "stream",
     "text": [
      "  157674 3734136 38017000 data/중고나라_소형음향기기_거래_데이터_20210919.csv\r\n"
     ]
    }
   ],
   "source": [
    "!wc data/중고나라_소형음향기기_거래_데이터_20210919.csv"
   ]
  },
  {
   "cell_type": "code",
   "execution_count": 36,
   "metadata": {},
   "outputs": [
    {
     "name": "stdout",
     "output_type": "stream",
     "text": [
      "  157674 data/중고나라_소형음향기기_거래_데이터_20210919.csv\r\n"
     ]
    }
   ],
   "source": [
    "!wc -l data/중고나라_소형음향기기_거래_데이터_20210919.csv"
   ]
  },
  {
   "cell_type": "code",
   "execution_count": 43,
   "metadata": {},
   "outputs": [
    {
     "name": "stdout",
     "output_type": "stream",
     "text": [
      "소형음향기기(이어폰 등),아름다음하늘,열심회원,2021.06.14. 08:38,완료,파나소닉 워크맨 SL-S230 팝니다,['거래 완료로 연락처 확인 불가'],\"25,000원\",직접결제 (네이버페이 송금),판매가 완료되어 판매자 연락처를 볼 수 없습니다.,본인인증을 하지 않은 판매자입니다.,['파나소닉 워크맨 팝니다\\n\\n윗면 생활기스들 그외 약간기스들외 깨끗\\n\\n작동상태\\n픽업 모터 생생생날쌘돌이\\nCD 빠릿빠릿 읽어주고 출력\\n흔들어도 안튀며 모터소음없이 안정적재생\\n\\n누액없음 뚜껑딱일치\\n\\n구입후 봐로 사용가능\\n작동되는지도 모를정도로\\n픽업모터 소음일체없음\\n\\n파나소닉 SL-S시리즈 음질아시는분용\\n아날로그 좋은음질 나옵니다\\n\\n22000원\\n\\nO1O 5827 O527'],[],0"
     ]
    }
   ],
   "source": [
    "!tail -n 1 data/중고나라_소형음향기기_거래_데이터_20210919.csv"
   ]
  },
  {
   "cell_type": "code",
   "execution_count": 42,
   "metadata": {},
   "outputs": [
    {
     "name": "stdout",
     "output_type": "stream",
     "text": [
      "total 74344\r\n",
      "drwxr-xr-x  10 jeongxoo  staff       320  9 19 19:55 \u001b[1m\u001b[36m.\u001b[m\u001b[m\r\n",
      "drwxr-xr-x  30 jeongxoo  staff       960  9 19 20:03 \u001b[1m\u001b[36m..\u001b[m\u001b[m\r\n",
      "drwxr-xr-x   2 jeongxoo  staff        64  9 13 15:37 \u001b[1m\u001b[36m.ipynb_checkpoints\u001b[m\u001b[m\r\n",
      "-rw-r--r--   1 jeongxoo  staff     18822  9 12 21:04 201611125_homework_week2.json\r\n",
      "-rw-r--r--   1 jeongxoo  staff     12199  9 12 21:04 201611125_homework_week2.xml\r\n",
      "drwxr-xr-x  26 jeongxoo  staff       832  9 14 20:35 \u001b[1m\u001b[36mdb\u001b[m\u001b[m\r\n",
      "-rw-r--r--   1 jeongxoo  staff       156  9  8 16:13 ds_open_hello.xml\r\n",
      "-rw-r--r--@  1 jeongxoo  staff      1795  9 19 19:26 경기도 의정부시_인구현황_20210910.csv\r\n",
      "-rw-r--r--@  1 jeongxoo  staff  38017000  9 19 19:53 중고나라_소형음향기기_거래_데이터_20210919.csv\r\n",
      "-rw-r--r--@  1 jeongxoo  staff       613  9 19 19:27 제주특별자치도 서귀포시_고령화비율및노령화지수현황_20210831.csv\r\n"
     ]
    }
   ],
   "source": [
    "!ls -al data"
   ]
  },
  {
   "cell_type": "code",
   "execution_count": 33,
   "metadata": {},
   "outputs": [],
   "source": [
    "import pandas as pd\n",
    "temp = pd.read_csv(\"data/중고나라_소형음향기기_거래_데이터_20210919.csv\")"
   ]
  },
  {
   "cell_type": "code",
   "execution_count": 34,
   "metadata": {
    "scrolled": false
   },
   "outputs": [
    {
     "data": {
      "text/html": [
       "<div>\n",
       "<style scoped>\n",
       "    .dataframe tbody tr th:only-of-type {\n",
       "        vertical-align: middle;\n",
       "    }\n",
       "\n",
       "    .dataframe tbody tr th {\n",
       "        vertical-align: top;\n",
       "    }\n",
       "\n",
       "    .dataframe thead th {\n",
       "        text-align: right;\n",
       "    }\n",
       "</style>\n",
       "<table border=\"1\" class=\"dataframe\">\n",
       "  <thead>\n",
       "    <tr style=\"text-align: right;\">\n",
       "      <th></th>\n",
       "      <th>category</th>\n",
       "      <th>nick_name</th>\n",
       "      <th>cafe_ranking</th>\n",
       "      <th>date</th>\n",
       "      <th>current_status</th>\n",
       "      <th>product_name</th>\n",
       "      <th>contact_info</th>\n",
       "      <th>price</th>\n",
       "      <th>payment</th>\n",
       "      <th>trade</th>\n",
       "      <th>can_trust</th>\n",
       "      <th>text</th>\n",
       "      <th>imgs</th>\n",
       "      <th>imgs_length</th>\n",
       "    </tr>\n",
       "  </thead>\n",
       "  <tbody>\n",
       "    <tr>\n",
       "      <th>0</th>\n",
       "      <td>소형음향기기(이어폰 등)</td>\n",
       "      <td>미미밍방</td>\n",
       "      <td>열심회원</td>\n",
       "      <td>2021.09.14. 16:10</td>\n",
       "      <td>판매</td>\n",
       "      <td>로데 RODE NT-USB 콘덴서 마이크 판매</td>\n",
       "      <td>NaN</td>\n",
       "      <td>180,000원</td>\n",
       "      <td>직접결제</td>\n",
       "      <td>택배 거래, 직거래</td>\n",
       "      <td>본인인증 완료</td>\n",
       "      <td>로데 RODE NT-USB 콘덴서 마이크 판매합니다\\n박스만 열어본 새제품이나 다름...</td>\n",
       "      <td>[{'height': 800, 'width': 800, 'x': 30, 'y': 1...</td>\n",
       "      <td>1</td>\n",
       "    </tr>\n",
       "    <tr>\n",
       "      <th>1</th>\n",
       "      <td>소형음향기기(이어폰 등)</td>\n",
       "      <td>수원에어팟</td>\n",
       "      <td>열심회원</td>\n",
       "      <td>2021.09.14. 16:10</td>\n",
       "      <td>판매</td>\n",
       "      <td>에어팟 1세대, 2세대, 프로 낱개 판매해요 :)</td>\n",
       "      <td>NaN</td>\n",
       "      <td>20,000원</td>\n",
       "      <td>직접결제</td>\n",
       "      <td>택배 거래, 직거래</td>\n",
       "      <td>본인인증 완료</td>\n",
       "      <td>에어팟 1세대 , 2세대 , 프로 낱개 판매 합니당\\n1세대 본체 : 2만원\\n1세...</td>\n",
       "      <td>[{'height': 800, 'width': 800, 'x': 30, 'y': 2...</td>\n",
       "      <td>1</td>\n",
       "    </tr>\n",
       "    <tr>\n",
       "      <th>2</th>\n",
       "      <td>소형음향기기(이어폰 등)</td>\n",
       "      <td>매너신용거래합시다</td>\n",
       "      <td>열심회원</td>\n",
       "      <td>2021.09.14. 16:09</td>\n",
       "      <td>판매</td>\n",
       "      <td>안전) 미개봉 새제품 소니 WF-1000XM4 블랙 색상팝니다</td>\n",
       "      <td>NaN</td>\n",
       "      <td>275,000원</td>\n",
       "      <td>안전결제(네이버페이)</td>\n",
       "      <td>택배 거래, 직거래</td>\n",
       "      <td>본인인증 완료</td>\n",
       "      <td>미개봉 새제품 소니 WF-1000XM4 블랙색상 팝니다\\n노량진 고양시향동동 거래가...</td>\n",
       "      <td>[{'height': 600, 'width': 800, 'x': 30, 'y': 1...</td>\n",
       "      <td>2</td>\n",
       "    </tr>\n",
       "    <tr>\n",
       "      <th>3</th>\n",
       "      <td>소형음향기기(이어폰 등)</td>\n",
       "      <td>미미밍방</td>\n",
       "      <td>열심회원</td>\n",
       "      <td>2021.09.14. 16:08</td>\n",
       "      <td>판매</td>\n",
       "      <td>보스 QC 이어버드 블랙 국내정품 판매</td>\n",
       "      <td>NaN</td>\n",
       "      <td>180,000원</td>\n",
       "      <td>직접결제</td>\n",
       "      <td>택배 거래, 직거래</td>\n",
       "      <td>본인인증 완료</td>\n",
       "      <td>보스 QC 이어버드 블랙 국내정품 판매합니다\\n21년 8월에 구매한 국내정품이며\\n...</td>\n",
       "      <td>[{'height': 800, 'width': 800, 'x': 30, 'y': 1...</td>\n",
       "      <td>1</td>\n",
       "    </tr>\n",
       "    <tr>\n",
       "      <th>4</th>\n",
       "      <td>소형음향기기(이어폰 등)</td>\n",
       "      <td>zx55</td>\n",
       "      <td>열심회원</td>\n",
       "      <td>2021.09.14. 16:07</td>\n",
       "      <td>판매</td>\n",
       "      <td>(미개봉 블랙색상) 소니wf-1000xm4 블루투스 이어폰 팝니다.</td>\n",
       "      <td>NaN</td>\n",
       "      <td>280,000원</td>\n",
       "      <td>직접결제</td>\n",
       "      <td>직거래</td>\n",
       "      <td>본인인증 완료</td>\n",
       "      <td>현재 출시된 블루투스 이어폰중\\n노이즈캔슬링이 가장 막강하다는 제품입니다.\\n음질도...</td>\n",
       "      <td>[{'height': 378, 'width': 800, 'x': 30, 'y': 1...</td>\n",
       "      <td>2</td>\n",
       "    </tr>\n",
       "    <tr>\n",
       "      <th>...</th>\n",
       "      <td>...</td>\n",
       "      <td>...</td>\n",
       "      <td>...</td>\n",
       "      <td>...</td>\n",
       "      <td>...</td>\n",
       "      <td>...</td>\n",
       "      <td>...</td>\n",
       "      <td>...</td>\n",
       "      <td>...</td>\n",
       "      <td>...</td>\n",
       "      <td>...</td>\n",
       "      <td>...</td>\n",
       "      <td>...</td>\n",
       "      <td>...</td>\n",
       "    </tr>\n",
       "    <tr>\n",
       "      <th>46363</th>\n",
       "      <td>소형음향기기(이어폰 등)</td>\n",
       "      <td>theqqqqqq</td>\n",
       "      <td>열심회원</td>\n",
       "      <td>2021.06.14. 08:42</td>\n",
       "      <td>완료</td>\n",
       "      <td>클립쉬 r-15m 스피커</td>\n",
       "      <td>['거래 완료로 연락처 확인 불가']</td>\n",
       "      <td>200,000원</td>\n",
       "      <td>직접결제</td>\n",
       "      <td>판매가 완료되어 판매자 연락처를 볼 수 없습니다.</td>\n",
       "      <td>본인인증을 하지 않은 판매자입니다.</td>\n",
       "      <td>클립쉬 r-15m 해외 직구 새상품 구매후\\n집에서 사용했습니다 옆쪽에 약간의 스크...</td>\n",
       "      <td>[{'height': 1066, 'width': 800, 'x': 30, 'y': ...</td>\n",
       "      <td>7</td>\n",
       "    </tr>\n",
       "    <tr>\n",
       "      <th>46364</th>\n",
       "      <td>소형음향기기(이어폰 등)</td>\n",
       "      <td>sbhong999</td>\n",
       "      <td>열심회원</td>\n",
       "      <td>2021.06.14. 08:41</td>\n",
       "      <td>완료</td>\n",
       "      <td>젠하이저 HD800 판매합니다.</td>\n",
       "      <td>['거래 완료로 연락처 확인 불가']</td>\n",
       "      <td>770,000원</td>\n",
       "      <td>직접결제</td>\n",
       "      <td>판매가 완료되어 판매자 연락처를 볼 수 없습니다.</td>\n",
       "      <td>본인인증을 하지 않은 판매자입니다.</td>\n",
       "      <td>젠하이저 베스트셀러 플래그쉽 hd800입니다.\\n광활한 스테이지에 선명한 고음과 보...</td>\n",
       "      <td>[{'height': 382, 'width': 509, 'x': 34, 'y': 1...</td>\n",
       "      <td>3</td>\n",
       "    </tr>\n",
       "    <tr>\n",
       "      <th>46365</th>\n",
       "      <td>소형음향기기(이어폰 등)</td>\n",
       "      <td>안쏭</td>\n",
       "      <td>열심회원</td>\n",
       "      <td>2021.06.14. 08:41</td>\n",
       "      <td>완료</td>\n",
       "      <td>뱅앤올룹슨 B&amp;O H6 라파 Rapha 에디션</td>\n",
       "      <td>['거래 완료로 연락처 확인 불가']</td>\n",
       "      <td>170,000원</td>\n",
       "      <td>직접결제</td>\n",
       "      <td>판매가 완료되어 판매자 연락처를 볼 수 없습니다.</td>\n",
       "      <td>본인인증을 하지 않은 판매자입니다.</td>\n",
       "      <td>['풀구성품 그대로 다 있구요.\\n가죽부분도 손상없고 좋습니다. 콜라보제품이라서 더...</td>\n",
       "      <td>[{'height': 1067, 'width': 800, 'x': 30, 'y': ...</td>\n",
       "      <td>5</td>\n",
       "    </tr>\n",
       "    <tr>\n",
       "      <th>46366</th>\n",
       "      <td>소형음향기기(이어폰 등)</td>\n",
       "      <td>보거스설</td>\n",
       "      <td>열심회원</td>\n",
       "      <td>2021.06.14. 08:40</td>\n",
       "      <td>완료</td>\n",
       "      <td>내장형 막대스피커 사운드킹 아토스1200 /스튜디오 마스터 다이렉트121k 입니다</td>\n",
       "      <td>['거래 완료로 연락처 확인 불가']</td>\n",
       "      <td>2,222원</td>\n",
       "      <td>직접결제</td>\n",
       "      <td>판매가 완료되어 판매자 연락처를 볼 수 없습니다.</td>\n",
       "      <td>본인인증을 하지 않은 판매자입니다.</td>\n",
       "      <td>스튜디오 마스터 다이렉트121k/사운드킹 아토스 1200\\n믿고 쓰셔도 되는 제품입...</td>\n",
       "      <td>[{'height': 800, 'width': 600, 'x': 30, 'y': 1...</td>\n",
       "      <td>5</td>\n",
       "    </tr>\n",
       "    <tr>\n",
       "      <th>46367</th>\n",
       "      <td>소형음향기기(이어폰 등)</td>\n",
       "      <td>아름다음하늘</td>\n",
       "      <td>열심회원</td>\n",
       "      <td>2021.06.14. 08:38</td>\n",
       "      <td>완료</td>\n",
       "      <td>파나소닉 워크맨 SL-S230 팝니다</td>\n",
       "      <td>['거래 완료로 연락처 확인 불가']</td>\n",
       "      <td>25,000원</td>\n",
       "      <td>직접결제 (네이버페이 송금)</td>\n",
       "      <td>판매가 완료되어 판매자 연락처를 볼 수 없습니다.</td>\n",
       "      <td>본인인증을 하지 않은 판매자입니다.</td>\n",
       "      <td>['파나소닉 워크맨 팝니다\\n\\n윗면 생활기스들 그외 약간기스들외 깨끗\\n\\n작동상...</td>\n",
       "      <td>[]</td>\n",
       "      <td>0</td>\n",
       "    </tr>\n",
       "  </tbody>\n",
       "</table>\n",
       "<p>46368 rows × 14 columns</p>\n",
       "</div>"
      ],
      "text/plain": [
       "            category  nick_name cafe_ranking               date  \\\n",
       "0      소형음향기기(이어폰 등)       미미밍방         열심회원  2021.09.14. 16:10   \n",
       "1      소형음향기기(이어폰 등)      수원에어팟         열심회원  2021.09.14. 16:10   \n",
       "2      소형음향기기(이어폰 등)  매너신용거래합시다         열심회원  2021.09.14. 16:09   \n",
       "3      소형음향기기(이어폰 등)       미미밍방         열심회원  2021.09.14. 16:08   \n",
       "4      소형음향기기(이어폰 등)       zx55         열심회원  2021.09.14. 16:07   \n",
       "...              ...        ...          ...                ...   \n",
       "46363  소형음향기기(이어폰 등)  theqqqqqq         열심회원  2021.06.14. 08:42   \n",
       "46364  소형음향기기(이어폰 등)  sbhong999         열심회원  2021.06.14. 08:41   \n",
       "46365  소형음향기기(이어폰 등)         안쏭         열심회원  2021.06.14. 08:41   \n",
       "46366  소형음향기기(이어폰 등)       보거스설         열심회원  2021.06.14. 08:40   \n",
       "46367  소형음향기기(이어폰 등)     아름다음하늘         열심회원  2021.06.14. 08:38   \n",
       "\n",
       "      current_status                                   product_name  \\\n",
       "0                 판매                      로데 RODE NT-USB 콘덴서 마이크 판매   \n",
       "1                 판매                    에어팟 1세대, 2세대, 프로 낱개 판매해요 :)   \n",
       "2                 판매             안전) 미개봉 새제품 소니 WF-1000XM4 블랙 색상팝니다   \n",
       "3                 판매                          보스 QC 이어버드 블랙 국내정품 판매   \n",
       "4                 판매          (미개봉 블랙색상) 소니wf-1000xm4 블루투스 이어폰 팝니다.   \n",
       "...              ...                                            ...   \n",
       "46363             완료                                  클립쉬 r-15m 스피커   \n",
       "46364             완료                              젠하이저 HD800 판매합니다.   \n",
       "46365             완료                      뱅앤올룹슨 B&O H6 라파 Rapha 에디션   \n",
       "46366             완료  내장형 막대스피커 사운드킹 아토스1200 /스튜디오 마스터 다이렉트121k 입니다   \n",
       "46367             완료                           파나소닉 워크맨 SL-S230 팝니다   \n",
       "\n",
       "               contact_info     price          payment  \\\n",
       "0                       NaN  180,000원             직접결제   \n",
       "1                       NaN   20,000원             직접결제   \n",
       "2                       NaN  275,000원      안전결제(네이버페이)   \n",
       "3                       NaN  180,000원             직접결제   \n",
       "4                       NaN  280,000원             직접결제   \n",
       "...                     ...       ...              ...   \n",
       "46363  ['거래 완료로 연락처 확인 불가']  200,000원             직접결제   \n",
       "46364  ['거래 완료로 연락처 확인 불가']  770,000원             직접결제   \n",
       "46365  ['거래 완료로 연락처 확인 불가']  170,000원             직접결제   \n",
       "46366  ['거래 완료로 연락처 확인 불가']    2,222원             직접결제   \n",
       "46367  ['거래 완료로 연락처 확인 불가']   25,000원  직접결제 (네이버페이 송금)   \n",
       "\n",
       "                             trade            can_trust  \\\n",
       "0                       택배 거래, 직거래              본인인증 완료   \n",
       "1                       택배 거래, 직거래              본인인증 완료   \n",
       "2                       택배 거래, 직거래              본인인증 완료   \n",
       "3                       택배 거래, 직거래              본인인증 완료   \n",
       "4                              직거래              본인인증 완료   \n",
       "...                            ...                  ...   \n",
       "46363  판매가 완료되어 판매자 연락처를 볼 수 없습니다.  본인인증을 하지 않은 판매자입니다.   \n",
       "46364  판매가 완료되어 판매자 연락처를 볼 수 없습니다.  본인인증을 하지 않은 판매자입니다.   \n",
       "46365  판매가 완료되어 판매자 연락처를 볼 수 없습니다.  본인인증을 하지 않은 판매자입니다.   \n",
       "46366  판매가 완료되어 판매자 연락처를 볼 수 없습니다.  본인인증을 하지 않은 판매자입니다.   \n",
       "46367  판매가 완료되어 판매자 연락처를 볼 수 없습니다.  본인인증을 하지 않은 판매자입니다.   \n",
       "\n",
       "                                                    text  \\\n",
       "0      로데 RODE NT-USB 콘덴서 마이크 판매합니다\\n박스만 열어본 새제품이나 다름...   \n",
       "1      에어팟 1세대 , 2세대 , 프로 낱개 판매 합니당\\n1세대 본체 : 2만원\\n1세...   \n",
       "2      미개봉 새제품 소니 WF-1000XM4 블랙색상 팝니다\\n노량진 고양시향동동 거래가...   \n",
       "3      보스 QC 이어버드 블랙 국내정품 판매합니다\\n21년 8월에 구매한 국내정품이며\\n...   \n",
       "4      현재 출시된 블루투스 이어폰중\\n노이즈캔슬링이 가장 막강하다는 제품입니다.\\n음질도...   \n",
       "...                                                  ...   \n",
       "46363  클립쉬 r-15m 해외 직구 새상품 구매후\\n집에서 사용했습니다 옆쪽에 약간의 스크...   \n",
       "46364  젠하이저 베스트셀러 플래그쉽 hd800입니다.\\n광활한 스테이지에 선명한 고음과 보...   \n",
       "46365  ['풀구성품 그대로 다 있구요.\\n가죽부분도 손상없고 좋습니다. 콜라보제품이라서 더...   \n",
       "46366  스튜디오 마스터 다이렉트121k/사운드킹 아토스 1200\\n믿고 쓰셔도 되는 제품입...   \n",
       "46367  ['파나소닉 워크맨 팝니다\\n\\n윗면 생활기스들 그외 약간기스들외 깨끗\\n\\n작동상...   \n",
       "\n",
       "                                                    imgs  imgs_length  \n",
       "0      [{'height': 800, 'width': 800, 'x': 30, 'y': 1...            1  \n",
       "1      [{'height': 800, 'width': 800, 'x': 30, 'y': 2...            1  \n",
       "2      [{'height': 600, 'width': 800, 'x': 30, 'y': 1...            2  \n",
       "3      [{'height': 800, 'width': 800, 'x': 30, 'y': 1...            1  \n",
       "4      [{'height': 378, 'width': 800, 'x': 30, 'y': 1...            2  \n",
       "...                                                  ...          ...  \n",
       "46363  [{'height': 1066, 'width': 800, 'x': 30, 'y': ...            7  \n",
       "46364  [{'height': 382, 'width': 509, 'x': 34, 'y': 1...            3  \n",
       "46365  [{'height': 1067, 'width': 800, 'x': 30, 'y': ...            5  \n",
       "46366  [{'height': 800, 'width': 600, 'x': 30, 'y': 1...            5  \n",
       "46367                                                 []            0  \n",
       "\n",
       "[46368 rows x 14 columns]"
      ]
     },
     "execution_count": 34,
     "metadata": {},
     "output_type": "execute_result"
    }
   ],
   "source": [
    "temp"
   ]
  },
  {
   "cell_type": "markdown",
   "metadata": {},
   "source": [
    "# 문제 2: Spark 설치"
   ]
  },
  {
   "cell_type": "code",
   "execution_count": 2,
   "metadata": {},
   "outputs": [
    {
     "data": {
      "text/plain": [
       "'3.1.2'"
      ]
     },
     "execution_count": 2,
     "metadata": {},
     "output_type": "execute_result"
    }
   ],
   "source": [
    "spark.version"
   ]
  },
  {
   "cell_type": "code",
   "execution_count": 3,
   "metadata": {},
   "outputs": [
    {
     "data": {
      "text/html": [
       "\n",
       "        <div>\n",
       "            <p><b>SparkContext</b></p>\n",
       "\n",
       "            <p><a href=\"http://192.168.219.112:4040\">Spark UI</a></p>\n",
       "\n",
       "            <dl>\n",
       "              <dt>Version</dt>\n",
       "                <dd><code>v3.1.2</code></dd>\n",
       "              <dt>Master</dt>\n",
       "                <dd><code>local[*]</code></dd>\n",
       "              <dt>AppName</dt>\n",
       "                <dd><code>PySparkShell</code></dd>\n",
       "            </dl>\n",
       "        </div>\n",
       "        "
      ],
      "text/plain": [
       "<SparkContext master=local[*] appName=PySparkShell>"
      ]
     },
     "execution_count": 3,
     "metadata": {},
     "output_type": "execute_result"
    }
   ],
   "source": [
    "sc"
   ]
  },
  {
   "cell_type": "code",
   "execution_count": 1,
   "metadata": {},
   "outputs": [
    {
     "name": "stdout",
     "output_type": "stream",
     "text": [
      "openjdk 11.0.11 2021-04-20\n",
      "OpenJDK Runtime Environment AdoptOpenJDK-11.0.11+9 (build 11.0.11+9)\n",
      "OpenJDK 64-Bit Server VM AdoptOpenJDK-11.0.11+9 (build 11.0.11+9, mixed mode)\n",
      "javac 11.0.11\n",
      "Python 3.9.7\n",
      "Python 3.9.7\n",
      "3.9.7 (default, Sep  3 2021, 12:37:55) \n",
      "[Clang 12.0.5 (clang-1205.0.22.9)]\n"
     ]
    }
   ],
   "source": [
    "!java --version   #spark v2.x는 java 8이 적당.\n",
    "!javac --version  #java 버전과 동일한지 확인한다.\n",
    "!python --version  \n",
    "!python3 --version # python 2, 3 멀티 버전이 설치된 경우에만 출력\n",
    "\n",
    "import sys\n",
    "print(sys.version) # 자신이 사용하는 python 버전과 동일한지 확인한다."
   ]
  },
  {
   "cell_type": "markdown",
   "metadata": {},
   "source": [
    "# 문제 3: 파일을 읽어 RDD 생성 후 5줄 출력"
   ]
  },
  {
   "cell_type": "code",
   "execution_count": 28,
   "metadata": {},
   "outputs": [],
   "source": [
    "import os"
   ]
  },
  {
   "cell_type": "code",
   "execution_count": 22,
   "metadata": {},
   "outputs": [],
   "source": [
    "q1 = sc.textFile(os.path.join(\"data\", \"경기도 의정부시_인구현황_20210910.csv\"), )"
   ]
  },
  {
   "cell_type": "code",
   "execution_count": 27,
   "metadata": {},
   "outputs": [
    {
     "data": {
      "text/plain": [
       "['행정기관,인구수(계),인구수(남),인구수(여),구성비(계),구성비(남),구성비(여),성비,세대수,세대당인구,관리기관명,관리부서명,부서전화번호,데이터기준일자',\n",
       " '의정부1동,32292,16538,15754,6.97,3.57,3.4,104.98,19998,1.61,의정부시,민원여권과,031-828-2466,2021.9.10',\n",
       " '의정부2동,31380,15608,15772,6.77,3.37,3.4,98.96,16410,1.91,의정부시,민원여권과,031-828-2466,2021.9.10',\n",
       " '호원1동,36124,17595,18529,7.8,3.8,4,94.96,15653,2.31,의정부시,민원여권과,031-828-2466,2021.9.10',\n",
       " '호원2동,34957,16923,18034,7.54,3.65,3.89,93.84,13683,2.55,의정부시,민원여권과,031-828-2466,2021.9.10']"
      ]
     },
     "execution_count": 27,
     "metadata": {},
     "output_type": "execute_result"
    }
   ],
   "source": [
    "q1.take(5)"
   ]
  },
  {
   "cell_type": "code",
   "execution_count": 24,
   "metadata": {},
   "outputs": [],
   "source": [
    "q2 = sc.textFile(os.path.join(\"data\", \"제주특별자치도 서귀포시_고령화비율및노령화지수현황_20210831.csv\"), )"
   ]
  },
  {
   "cell_type": "code",
   "execution_count": 26,
   "metadata": {},
   "outputs": [
    {
     "data": {
      "text/plain": [
       "['연도별,서귀포시 인구수,65세이상 인구수 ,14세이하 인구수,고령화비율,노령화지수,데이터기준일자',\n",
       " '2012,154057,25826,22861,16.76,112.97,2021.8.31',\n",
       " '2013,155641,26936,22393,17.31,120.29,2021.8.31',\n",
       " '2014,158512,27877,22058,17.59,126.38,2021.8.31',\n",
       " '2015,164519,28979,22362,17.61,129.59,2021.8.31']"
      ]
     },
     "execution_count": 26,
     "metadata": {},
     "output_type": "execute_result"
    }
   ],
   "source": [
    "q2.take(5)"
   ]
  }
 ],
 "metadata": {
  "kernelspec": {
   "display_name": "Python 3 (ipykernel)",
   "language": "python",
   "name": "python3"
  },
  "language_info": {
   "codemirror_mode": {
    "name": "ipython",
    "version": 3
   },
   "file_extension": ".py",
   "mimetype": "text/x-python",
   "name": "python",
   "nbconvert_exporter": "python",
   "pygments_lexer": "ipython3",
   "version": "3.9.7"
  }
 },
 "nbformat": 4,
 "nbformat_minor": 4
}
