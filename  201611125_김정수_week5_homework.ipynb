{
 "cells": [
  {
   "cell_type": "markdown",
   "id": "87927db4",
   "metadata": {},
   "source": [
    "- 학번 : 201611125\n",
    "- 이름 : 김정수\n",
    "- 학과 : 게임전공"
   ]
  },
  {
   "cell_type": "markdown",
   "id": "33e61ef4",
   "metadata": {},
   "source": [
    "## 문제\n",
    "- 아래 데이터를 RDD로 만들고, 성적의 합계 및 평균을 계산하세요.\n",
    "\n",
    "\n",
    "이름      |      과목     |      점수\n",
    "---------|---------|---------\n",
    "김하나 | English | 100\n",
    "김하나 | Math | 80\n",
    "임하나 | English | 70\n",
    "임하나 | Math | 100\n",
    "김갑돌 | English | 82.3\n",
    "김갑돌 | Math | 98.5"
   ]
  },
  {
   "cell_type": "code",
   "execution_count": 1,
   "id": "c6c427f1",
   "metadata": {},
   "outputs": [],
   "source": [
    "import pyspark\n",
    "import os"
   ]
  },
  {
   "cell_type": "code",
   "execution_count": 2,
   "id": "e89a2df6",
   "metadata": {},
   "outputs": [
    {
     "name": "stderr",
     "output_type": "stream",
     "text": [
      "21/09/29 16:40:05 WARN Utils: Your hostname, jeongxoo.local resolves to a loopback address: 127.0.0.1; using 172.20.10.4 instead (on interface en0)\n",
      "21/09/29 16:40:05 WARN Utils: Set SPARK_LOCAL_IP if you need to bind to another address\n",
      "WARNING: An illegal reflective access operation has occurred\n",
      "WARNING: Illegal reflective access by org.apache.spark.unsafe.Platform (file:/usr/local/lib/python3.9/site-packages/pyspark/jars/spark-unsafe_2.12-3.1.2.jar) to constructor java.nio.DirectByteBuffer(long,int)\n",
      "WARNING: Please consider reporting this to the maintainers of org.apache.spark.unsafe.Platform\n",
      "WARNING: Use --illegal-access=warn to enable warnings of further illegal reflective access operations\n",
      "WARNING: All illegal access operations will be denied in a future release\n",
      "21/09/29 16:40:06 WARN NativeCodeLoader: Unable to load native-hadoop library for your platform... using builtin-java classes where applicable\n",
      "Using Spark's default log4j profile: org/apache/spark/log4j-defaults.properties\n",
      "Setting default log level to \"WARN\".\n",
      "To adjust logging level use sc.setLogLevel(newLevel). For SparkR, use setLogLevel(newLevel).\n"
     ]
    }
   ],
   "source": [
    "myConf = pyspark.SparkConf()\n",
    "spark = pyspark.sql.SparkSession.builder\\\n",
    "        .master(\"local\")\\\n",
    "        .appName(\"myApp\")\\\n",
    "        .config(conf = myConf)\\\n",
    "        .getOrCreate()"
   ]
  },
  {
   "cell_type": "code",
   "execution_count": 3,
   "id": "fc5bd028",
   "metadata": {},
   "outputs": [],
   "source": [
    "data = [\n",
    "    [\"김하나\", \"English\", 100],\n",
    "    [\"김하나\", \"Math\", 80],\n",
    "    [\"임하나\", \"English\", 70],\n",
    "    [\"임하나\", \"Math\", 100],\n",
    "    [\"김갑돌\", \"English\", 82.3],\n",
    "    [\"김갑돌\", \"Math\", 98.5]\n",
    "]"
   ]
  },
  {
   "cell_type": "code",
   "execution_count": 4,
   "id": "fd317d84",
   "metadata": {},
   "outputs": [],
   "source": [
    "myRDD = spark.sparkContext.parallelize(data)"
   ]
  },
  {
   "cell_type": "code",
   "execution_count": 5,
   "id": "f91d8283",
   "metadata": {},
   "outputs": [
    {
     "data": {
      "text/plain": [
       "[['김하나', 'English', 100],\n",
       " ['김하나', 'Math', 80],\n",
       " ['임하나', 'English', 70],\n",
       " ['임하나', 'Math', 100],\n",
       " ['김갑돌', 'English', 82.3],\n",
       " ['김갑돌', 'Math', 98.5]]"
      ]
     },
     "execution_count": 5,
     "metadata": {},
     "output_type": "execute_result"
    }
   ],
   "source": [
    "myRDD.collect()"
   ]
  },
  {
   "cell_type": "markdown",
   "id": "d375a1d3",
   "metadata": {},
   "source": [
    "### 문제 3-1: 이름으로 합계를 구해보자. \n",
    "\n",
    "* 정답 예시 :\n",
    "```\n",
    "'임하나' 170.0\n",
    "'김하나' 180.0\n",
    "'김갑돌' 180.8\n",
    "```\n",
    "- map()을 사용해 튜플 형태 (이름, 점수) 생성\n",
    "- key(이름) 기준으로 점수 값의 합 생성"
   ]
  },
  {
   "cell_type": "code",
   "execution_count": 6,
   "id": "a4fa3416",
   "metadata": {},
   "outputs": [
    {
     "name": "stderr",
     "output_type": "stream",
     "text": [
      "/usr/local/lib/python3.9/site-packages/pyspark/python/lib/pyspark.zip/pyspark/shuffle.py:60: UserWarning: Please install psutil to have better support with spilling\n",
      "                                                                                \r"
     ]
    }
   ],
   "source": [
    "q3_1 = myRDD.map(lambda x: (x[0], x[2]))\\\n",
    "            .reduceByKey(lambda x,y: x + y)\\\n",
    "            .collect()"
   ]
  },
  {
   "cell_type": "code",
   "execution_count": 7,
   "id": "777742d2",
   "metadata": {},
   "outputs": [
    {
     "name": "stdout",
     "output_type": "stream",
     "text": [
      "'김하나' 180.0\n",
      "'임하나' 170.0\n",
      "'김갑돌' 180.8\n"
     ]
    }
   ],
   "source": [
    "for val in q3_1: print(\"'%s' %.1f\" %(val[0], val[1]))"
   ]
  },
  {
   "cell_type": "markdown",
   "id": "bae7b8a2",
   "metadata": {},
   "source": [
    "### 문제 3-2: 과목으로 합계를 계산해 보자. \n",
    "\n",
    "\n",
    "* 정답 예시 :\n",
    "```\n",
    "'English' 252.3\n",
    "'Math' 278.5\n",
    "```\n"
   ]
  },
  {
   "cell_type": "code",
   "execution_count": 8,
   "id": "623d97cd",
   "metadata": {},
   "outputs": [],
   "source": [
    "q3_2 = myRDD.map(lambda x: (x[1], x[2]))\\\n",
    "            .reduceByKey(lambda x,y: x + y)\\\n",
    "            .collect()"
   ]
  },
  {
   "cell_type": "code",
   "execution_count": 9,
   "id": "ce1875a0",
   "metadata": {},
   "outputs": [
    {
     "name": "stdout",
     "output_type": "stream",
     "text": [
      "'English' 252.3\n",
      "'Math' 278.5\n"
     ]
    }
   ],
   "source": [
    "for val in q3_2: print(\"'%s' %.1f\" %(val[0], val[1]))"
   ]
  },
  {
   "cell_type": "markdown",
   "id": "83d4ad04",
   "metadata": {},
   "source": [
    "\n",
    "\n",
    "\n",
    "### 문제 3-3: 이름으로 합계과 개수를 구해보자. \n",
    "\n",
    "\n",
    "* 정답 예시 :\n",
    "```\n",
    "'임하나' (170.0, 2)\n",
    "'김하나' (180.0, 2)\n",
    "'김갑돌' (180.8, 2)\n",
    "```"
   ]
  },
  {
   "cell_type": "markdown",
   "id": "431a909a",
   "metadata": {},
   "source": [
    "#### combineByKey() 사용 X"
   ]
  },
  {
   "cell_type": "code",
   "execution_count": 10,
   "id": "15b29475",
   "metadata": {},
   "outputs": [],
   "source": [
    "q3_3 = myRDD.map(lambda x: (x[0], (x[2], 1)))\\\n",
    "            .reduceByKey(lambda x,y: [x, y])\\\n",
    "            .map(lambda x: [x[0], sum([a[0] for a in x[1]]), sum([a[1] for a in x[1]])])"
   ]
  },
  {
   "cell_type": "code",
   "execution_count": 11,
   "id": "eba3df51",
   "metadata": {},
   "outputs": [
    {
     "name": "stdout",
     "output_type": "stream",
     "text": [
      "'김하나' (180.0 2)\n",
      "'임하나' (170.0 2)\n",
      "'김갑돌' (180.8 2)\n"
     ]
    }
   ],
   "source": [
    "for val in q3_3.collect(): print(\"'%s' (%.1f %d)\" %(val[0], val[1], val[2]))"
   ]
  },
  {
   "cell_type": "markdown",
   "id": "2cccbcab",
   "metadata": {},
   "source": [
    "#### combineByKey() 사용 O"
   ]
  },
  {
   "cell_type": "code",
   "execution_count": 12,
   "id": "d25180fd",
   "metadata": {},
   "outputs": [],
   "source": [
    "q3_3c = myRDD.map(lambda x: (x[0], x[2]))\\\n",
    "            .combineByKey(\n",
    "                lambda value: (value, 1), # ex -> key = \"김하나\", value -> (100, 1)\n",
    "                lambda x,value: (x[0] + value, x[1] + 1), # 점수 + 점수, count + count\n",
    "                lambda x,y: (x[0] + y[0], x[1] + y[1])) # partition별 합산"
   ]
  },
  {
   "cell_type": "code",
   "execution_count": 13,
   "id": "9bc96f07",
   "metadata": {},
   "outputs": [
    {
     "name": "stdout",
     "output_type": "stream",
     "text": [
      "'김하나' (180.0 2)\n",
      "'임하나' (170.0 2)\n",
      "'김갑돌' (180.8 2)\n"
     ]
    }
   ],
   "source": [
    "for val in q3_3c.collect(): print(\"'%s' (%.1f %d)\" %(val[0], val[1][0], val[1][1]))"
   ]
  },
  {
   "cell_type": "markdown",
   "id": "7430e2ab",
   "metadata": {},
   "source": [
    "\n",
    "\n",
    "\n",
    "### 문제 3-4: 이름으로 평균을 계산해 보자. 앞서 3-3에서 사용했던 결과를 활용하라.\n",
    "\n",
    "\n",
    "\n",
    "\n",
    "* 정답 예시 :\n",
    "```\n",
    "'임하나' 85.0\n",
    "'김하나' 90.0\n",
    "'김갑돌' 90.4\n",
    "```\n",
    "\n"
   ]
  },
  {
   "cell_type": "code",
   "execution_count": 14,
   "id": "8c275a08",
   "metadata": {},
   "outputs": [],
   "source": [
    "q3_4 = q3_3.map(lambda x: [x[0], x[1]/x[2]])\\\n",
    "            .collect()"
   ]
  },
  {
   "cell_type": "code",
   "execution_count": 15,
   "id": "73afa826",
   "metadata": {},
   "outputs": [
    {
     "name": "stdout",
     "output_type": "stream",
     "text": [
      "'김하나' 90.0\n",
      "'임하나' 85.0\n",
      "'김갑돌' 90.4\n"
     ]
    }
   ],
   "source": [
    "for val in q3_4: print(\"'%s' %.1f\" %(val[0], val[1]))"
   ]
  },
  {
   "cell_type": "code",
   "execution_count": null,
   "id": "2e8de9d7",
   "metadata": {},
   "outputs": [],
   "source": []
  }
 ],
 "metadata": {
  "kernelspec": {
   "display_name": "Python 3 (ipykernel)",
   "language": "python",
   "name": "python3"
  },
  "language_info": {
   "codemirror_mode": {
    "name": "ipython",
    "version": 3
   },
   "file_extension": ".py",
   "mimetype": "text/x-python",
   "name": "python",
   "nbconvert_exporter": "python",
   "pygments_lexer": "ipython3",
   "version": "3.9.7"
  }
 },
 "nbformat": 4,
 "nbformat_minor": 5
}
