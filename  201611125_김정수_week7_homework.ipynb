{
 "cells": [
  {
   "cell_type": "markdown",
   "id": "87927db4",
   "metadata": {},
   "source": [
    "- 학번 : 201611125\n",
    "- 이름 : 김정수\n",
    "- 학과 : 게임전공"
   ]
  },
  {
   "cell_type": "markdown",
   "id": "33e61ef4",
   "metadata": {},
   "source": [
    "## 문제 ZSCORE, CDF 계산\n",
    "\n",
    "성적데이터는 n이 적지만, 정규분포를 이룬다고 가정하자.\n",
    "\n",
    "* 1-1 성적데이터로 DataFrame을 생성.\n",
    "\n",
    "* 1-2 zscore 컬럼을 생성.\n",
    "\n",
    "* 1-3 cdf 컬럼을 생성."
   ]
  },
  {
   "cell_type": "code",
   "execution_count": 23,
   "id": "c6c427f1",
   "metadata": {},
   "outputs": [],
   "source": [
    "import pyspark\n",
    "import os\n",
    "from pyspark.sql.types import *\n",
    "from pyspark.sql.functions import udf\n",
    "import numpy as np\n",
    "from pyspark.sql import functions as F\n",
    "from scipy.stats import norm"
   ]
  },
  {
   "cell_type": "code",
   "execution_count": 24,
   "id": "e89a2df6",
   "metadata": {},
   "outputs": [],
   "source": [
    "myConf = pyspark.SparkConf()\n",
    "spark = pyspark.sql.SparkSession.builder\\\n",
    "        .master(\"local\")\\\n",
    "        .appName(\"myApp\")\\\n",
    "        .config(conf = myConf)\\\n",
    "        .getOrCreate()"
   ]
  },
  {
   "cell_type": "markdown",
   "id": "1a5eecc3",
   "metadata": {},
   "source": [
    "## 문제 1-1 성적데이터로 DataFrame을 생성"
   ]
  },
  {
   "cell_type": "code",
   "execution_count": 25,
   "id": "60a7caca",
   "metadata": {},
   "outputs": [],
   "source": [
    "# 사용할 성적 데이터\n",
    "marks=[\"김하나, English, 100\",\n",
    "    \"김하나, Math, 80\",\n",
    "    \"임하나, English, 70\",\n",
    "    \"임하나, Math, 100\",\n",
    "    \"김갑돌, English, 82.3\",\n",
    "    \"김갑돌, Math, 98.5\"]"
   ]
  },
  {
   "cell_type": "code",
   "execution_count": 26,
   "id": "d8982a89",
   "metadata": {},
   "outputs": [],
   "source": [
    "# RDD로 먼저 생성 후\n",
    "myRDD = spark.sparkContext.parallelize(marks)\n",
    "myRDD = myRDD.map(lambda x: x.split(\", \")).collect()"
   ]
  },
  {
   "cell_type": "code",
   "execution_count": 27,
   "id": "254de80c",
   "metadata": {},
   "outputs": [
    {
     "name": "stdout",
     "output_type": "stream",
     "text": [
      "+------+-------+-----+\n",
      "|  name|subject|grade|\n",
      "+------+-------+-----+\n",
      "|김하나|English|  100|\n",
      "|김하나|   Math|   80|\n",
      "|임하나|English|   70|\n",
      "|임하나|   Math|  100|\n",
      "|김갑돌|English| 82.3|\n",
      "|김갑돌|   Math| 98.5|\n",
      "+------+-------+-----+\n",
      "\n"
     ]
    }
   ],
   "source": [
    "# 데이터프레임으로 변환\n",
    "gradeDF = spark.createDataFrame(myRDD, [\"name\", \"subject\", \"grade\"])\n",
    "gradeDF.show()"
   ]
  },
  {
   "cell_type": "markdown",
   "id": "f3bed9d2",
   "metadata": {},
   "source": [
    "## 문제 1-2 zscore 컬럼을 생성\n",
    "- zscore는 각 측정 값을 평균에서 빼고난 후 표준편차로 나누어 계산\n",
    "- zscore = (점수 - 평균) / 표준 편차\n",
    "- zscore를 계산하려면, 평균과 표준편차를 알아야 한다.\n",
    "- 계산식에 F함수를 직접 사용하면 오류가 발생한다. 따로 평균과 표준편차를 구해서 계산식에서 사용해야 한다."
   ]
  },
  {
   "cell_type": "code",
   "execution_count": 28,
   "id": "2ecf6b2b",
   "metadata": {},
   "outputs": [
    {
     "name": "stdout",
     "output_type": "stream",
     "text": [
      "+------+-------+-----+-----------+\n",
      "|  name|subject|grade|grade_float|\n",
      "+------+-------+-----+-----------+\n",
      "|김하나|English|  100|      100.0|\n",
      "|김하나|   Math|   80|       80.0|\n",
      "|임하나|English|   70|       70.0|\n",
      "|임하나|   Math|  100|      100.0|\n",
      "|김갑돌|English| 82.3|       82.3|\n",
      "|김갑돌|   Math| 98.5|       98.5|\n",
      "+------+-------+-----+-----------+\n",
      "\n"
     ]
    }
   ],
   "source": [
    "# zscore 계산 전, grade 컬럼의 데이터 타입을 float로 변경\n",
    "gradeDF = gradeDF.withColumn(\"grade_float\", gradeDF[\"grade\"].cast(FloatType()))\n",
    "gradeDF.show()"
   ]
  },
  {
   "cell_type": "code",
   "execution_count": 33,
   "id": "668e5b8f",
   "metadata": {},
   "outputs": [],
   "source": [
    "# 평균과 표준편차 따로 계산\n",
    "ms = gradeDF.agg({\"grade_float\" : \"avg\"})\n",
    "_avg = ms.rdd.flatMap(list).first()\n",
    "\n",
    "ss = gradeDF.agg({\"grade_float\" : \"std\"})\n",
    "_std = ss.rdd.flatMap(list).first()"
   ]
  },
  {
   "cell_type": "code",
   "execution_count": 37,
   "id": "0f15bd7e",
   "metadata": {},
   "outputs": [],
   "source": [
    "# zscore = (grade - mean) / std\n",
    "zscoreUdf = F.udf(lambda x: (x - _avg) / _std, FloatType())\n",
    "gradeDF = gradeDF.withColumn(\"zscore\", zscoreUdf(gradeDF[\"grade_float\"]))"
   ]
  },
  {
   "cell_type": "code",
   "execution_count": 38,
   "id": "ebc80edc",
   "metadata": {},
   "outputs": [
    {
     "name": "stdout",
     "output_type": "stream",
     "text": [
      "+------+-------+-----+-----------+-----------+\n",
      "|  name|subject|grade|grade_float|     zscore|\n",
      "+------+-------+-----+-----------+-----------+\n",
      "|김하나|English|  100|      100.0|  0.9020148|\n",
      "|김하나|   Math|   80|       80.0| -0.6621728|\n",
      "|임하나|English|   70|       70.0| -1.4442666|\n",
      "|임하나|   Math|  100|      100.0|  0.9020148|\n",
      "|김갑돌|English| 82.3|       82.3|-0.48229098|\n",
      "|김갑돌|   Math| 98.5|       98.5| 0.78470075|\n",
      "+------+-------+-----+-----------+-----------+\n",
      "\n"
     ]
    }
   ],
   "source": [
    "gradeDF.show()"
   ]
  },
  {
   "cell_type": "markdown",
   "id": "26c4d22e",
   "metadata": {},
   "source": [
    "## 문제 1-3 cdf 컬럼을 생성"
   ]
  },
  {
   "cell_type": "code",
   "execution_count": 39,
   "id": "2cf83c54",
   "metadata": {},
   "outputs": [],
   "source": [
    "# scipy 라이브러리의 norm.cdf 사용\n",
    "rv = norm(loc=0, scale=1)\n",
    "cdfUdf = udf(lambda x: float(rv.cdf(x)), FloatType())"
   ]
  },
  {
   "cell_type": "code",
   "execution_count": 40,
   "id": "88d10342",
   "metadata": {},
   "outputs": [],
   "source": [
    "gradeDF = gradeDF.withColumn(\"cdf\", cdfUdf(gradeDF[\"zscore\"]))"
   ]
  },
  {
   "cell_type": "code",
   "execution_count": 41,
   "id": "34b94e53",
   "metadata": {},
   "outputs": [
    {
     "name": "stdout",
     "output_type": "stream",
     "text": [
      "+------+-------+-----+-----------+-----------+----------+\n",
      "|  name|subject|grade|grade_float|     zscore|       cdf|\n",
      "+------+-------+-----+-----------+-----------+----------+\n",
      "|김하나|English|  100|      100.0|  0.9020148| 0.8164755|\n",
      "|김하나|   Math|   80|       80.0| -0.6621728|0.25393024|\n",
      "|임하나|English|   70|       70.0| -1.4442666|  0.074332|\n",
      "|임하나|   Math|  100|      100.0|  0.9020148| 0.8164755|\n",
      "|김갑돌|English| 82.3|       82.3|-0.48229098|0.31479964|\n",
      "|김갑돌|   Math| 98.5|       98.5| 0.78470075|0.78368545|\n",
      "+------+-------+-----+-----------+-----------+----------+\n",
      "\n"
     ]
    }
   ],
   "source": [
    "gradeDF.show()"
   ]
  }
 ],
 "metadata": {
  "kernelspec": {
   "display_name": "Python 3 (ipykernel)",
   "language": "python",
   "name": "python3"
  },
  "language_info": {
   "codemirror_mode": {
    "name": "ipython",
    "version": 3
   },
   "file_extension": ".py",
   "mimetype": "text/x-python",
   "name": "python",
   "nbconvert_exporter": "python",
   "pygments_lexer": "ipython3",
   "version": "3.9.7"
  }
 },
 "nbformat": 4,
 "nbformat_minor": 5
}
