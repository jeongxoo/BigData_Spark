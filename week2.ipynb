{
 "cells": [
  {
   "cell_type": "markdown",
   "metadata": {},
   "source": [
    "# 문제 7: 버스 승하차 인원 월별 정류장별 인원"
   ]
  },
  {
   "cell_type": "markdown",
   "metadata": {},
   "source": [
    "- 2015년 7016번 정류장별로 승하차인원의 월별 합계 구하기\n",
    "- \"서울시 버스 노선별/정류장별 승하차인원 정보\"\"\n",
    "    - 월별 버스노선별, 정류장별 승하차 인원\n",
    "- CardBusTimeNew API 호출"
   ]
  },
  {
   "cell_type": "markdown",
   "metadata": {},
   "source": [
    "<img width=\"1000\" alt=\"문제7\" src=\"https://user-images.githubusercontent.com/56291884/133880375-9b28923c-8daa-43a2-967f-ad8027a89adf.png\">"
   ]
  },
  {
   "cell_type": "markdown",
   "metadata": {},
   "source": [
    "## 인증키 호출"
   ]
  },
  {
   "cell_type": "code",
   "execution_count": 2,
   "metadata": {},
   "outputs": [],
   "source": [
    "import os\n",
    "from src import mylib as my\n",
    "\n",
    "keyPath = os.path.join(os.getcwd(), \"src\", \"key.properties\")\n",
    "key = my.getKey(keyPath)\n",
    "_key = str(key[\"seoul\"])"
   ]
  },
  {
   "cell_type": "markdown",
   "metadata": {},
   "source": [
    "## URL 호출"
   ]
  },
  {
   "cell_type": "code",
   "execution_count": 19,
   "metadata": {},
   "outputs": [],
   "source": [
    "import requests\n",
    "\n",
    "busStop = \"http://openAPI.seoul.go.kr:8088/\" + _key + \"/xml/CardBusTimeNew/1/5/202107/7016\"\n",
    "data = requests.get(busStop)"
   ]
  },
  {
   "cell_type": "code",
   "execution_count": 35,
   "metadata": {
    "scrolled": true
   },
   "outputs": [
    {
     "data": {
      "text/plain": [
       "'<?xml version=\"1.0\" encoding=\"UTF-8\"?>\\n<CardBusTimeNew>\\n<list_total_count>107</list_total_count>\\n<RESULT>\\n<CODE>INFO-000</CODE>\\n<MESSAGE>정상 처리되었습니다</MESSAGE>\\n</RESULT>\\n<row>\\n<USE_MON>202107</USE_MON>\\n<BUS_ROUTE_NO>7016</BUS_ROUTE_NO>\\n<BUS_ROUTE_NM>7016번(은평차고지~상명대)</BUS_ROUTE_NM>\\n<STND_BSST_ID>111000907</STND_BSST_ID>\\n<BSST_ARS_NO>35331</BSST_ARS_NO>\\n<BUS_STA_NM>은평공영차고지</BUS_STA_NM>\\n<MIDNIGHT_RIDE_NUM>0</MIDNIGHT_RIDE_NUM>\\n<MIDNIGHT_ALIGHT_NUM>0</MIDNIGHT_ALIGHT_NUM>\\n<ONE_RIDE_NUM>0</ONE_RIDE_NUM>\\n<ONE_ALIGHT_NUM>0</ONE_ALIGHT_NUM>\\n<TWO_RIDE_NUM>0</TWO_RIDE_NUM>\\n<TWO_ALIGHT_NUM>0</TWO_ALIGHT_NUM>\\n<THREE_RIDE_NUM>0</THREE_RIDE_NUM>\\n<THREE_ALIGHT_NUM>0</THREE_ALIGHT_NUM>\\n<FOUR_RIDE_NUM>23</FOUR_RIDE_NUM>\\n<FOUR_ALIGHT_NUM>1</FOUR_ALIGHT_NUM>\\n<FIVE_RIDE_NUM>11</FIVE_RIDE_NUM>\\n<FIVE_ALIGHT_NUM>0</FIVE_ALIGHT_NUM>\\n<SIX_RIDE_NUM>28</SIX_RIDE_NUM>\\n<SIX_ALIGHT_NUM>0</SIX_ALIGHT_NUM>\\n<SEVEN_RIDE_NUM>119</SEVEN_RIDE_NUM>\\n<SEVEN_ALIGHT_NUM>1</SEVEN_ALIGHT_NUM>\\n<EIGHT_RIDE_NUM>85</EIGHT_RIDE_NUM>\\n<EIGHT_ALIGHT_NUM>0</EIGHT_ALIGHT_NUM>\\n<NINE_RIDE_NUM>53</NINE_RIDE_NUM>\\n<NINE_ALIGHT_NUM>1</NINE_ALIGHT_NUM>\\n<TEN_RIDE_NUM>23</TEN_RIDE_NUM>\\n<TEN_ALIGHT_NUM>0</TEN_ALIGHT_NUM>\\n<ELEVEN_RIDE_NUM>29</ELEVEN_RIDE_NUM>\\n<ELEVEN_ALIGHT_NUM>0</ELEVEN_ALIGHT_NUM>\\n<TWELVE_RIDE_NUM>28</TWELVE_RIDE_NUM>\\n<TWELVE_ALIGHT_NUM>1</TWELVE_ALIGHT_NUM>\\n<THIRTEEN_RIDE_NUM>18</THIRTEEN_RIDE_NUM>\\n<THIRTEEN_ALIGHT_NUM>0</THIRTEEN_ALIGHT_NUM>\\n<FOURTEEN_RIDE_NUM>26</FOURTEEN_RIDE_NUM>\\n<FOURTEEN_ALIGHT_NUM>0</FOURTEEN_ALIGHT_NUM>\\n<FIFTEEN_RIDE_NUM>26</FIFTEEN_RIDE_NUM>\\n<FIFTEEN_ALIGHT_NUM>2</FIFTEEN_ALIGHT_NUM>\\n<SIXTEEN_RIDE_NUM>31</SIXTEEN_RIDE_NUM>\\n<SIXTEEN_ALIGHT_NUM>1</SIXTEEN_ALIGHT_NUM>\\n<SEVENTEEN_RIDE_NUM>76</SEVENTEEN_RIDE_NUM>\\n<SEVENTEEN_ALIGHT_NUM>1</SEVENTEEN_ALIGHT_NUM>\\n<EIGHTEEN_RIDE_NUM>43</EIGHTEEN_RIDE_NUM>\\n<EIGHTEEN_ALIGHT_NUM>3</EIGHTEEN_ALIGHT_NUM>\\n<NINETEEN_RIDE_NUM>27</NINETEEN_RIDE_NUM>\\n<NINETEEN_ALIGHT_NUM>2</NINETEEN_ALIGHT_NUM>\\n<TWENTY_RIDE_NUM>12</TWENTY_RIDE_NUM>\\n<TWENTY_ALIGHT_NUM>2</TWENTY_ALIGHT_NUM>\\n<TWENTY_ONE_RIDE_NUM>10</TWENTY_ONE_RIDE_NUM>\\n<TWENTY_ONE_ALIGHT_NUM>0</TWENTY_ONE_ALIGHT_NUM>\\n<TWENTY_TWO_RIDE_NUM>12</TWENTY_TWO_RIDE_NUM>\\n<TWENTY_TWO_ALIGHT_NUM>0</TWENTY_TWO_ALIGHT_NUM>\\n<TWENTY_THREE_RIDE_NUM>0</TWENTY_THREE_RIDE_NUM>\\n<TWENTY_THREE_ALIGHT_NUM>0</TWENTY_THREE_ALIGHT_NUM>\\n<WORK_DT>20210803</WORK_DT>\\n</row>\\n<row>\\n<USE_MON>202107</USE_MON>\\n<BUS_ROUTE_NO>7016</BUS_ROUTE_NO>\\n<BUS_ROUTE_NM>7016번(은평차고지~상명대)</BUS_ROUTE_NM>\\n<STND_BSST_ID>113000182</STND_BSST_ID>\\n<BSST_ARS_NO>14273</BSST_ARS_NO>\\n<BUS_STA_NM>월드컵경기장북측</BUS_STA_NM>\\n<MIDNIGHT_RIDE_NUM>0</MIDNIGHT_RIDE_NUM>\\n<MIDNIGHT_ALIGHT_NUM>0</MIDNIGHT_ALIGHT_NUM>\\n<ONE_RIDE_NUM>0</ONE_RIDE_NUM>\\n<ONE_ALIGHT_NUM>0</ONE_ALIGHT_NUM>\\n<TWO_RIDE_NUM>0</TWO_RIDE_NUM>\\n<TWO_ALIGHT_NUM>0</TWO_ALIGHT_NUM>\\n<THREE_RIDE_NUM>0</THREE_RIDE_NUM>\\n<THREE_ALIGHT_NUM>0</THREE_ALIGHT_NUM>\\n<FOUR_RIDE_NUM>29</FOUR_RIDE_NUM>\\n<FOUR_ALIGHT_NUM>0</FOUR_ALIGHT_NUM>\\n<FIVE_RIDE_NUM>3</FIVE_RIDE_NUM>\\n<FIVE_ALIGHT_NUM>1</FIVE_ALIGHT_NUM>\\n<SIX_RIDE_NUM>9</SIX_RIDE_NUM>\\n<SIX_ALIGHT_NUM>6</SIX_ALIGHT_NUM>\\n<SEVEN_RIDE_NUM>23</SEVEN_RIDE_NUM>\\n<SEVEN_ALIGHT_NUM>75</SEVEN_ALIGHT_NUM>\\n<EIGHT_RIDE_NUM>47</EIGHT_RIDE_NUM>\\n<EIGHT_ALIGHT_NUM>125</EIGHT_ALIGHT_NUM>\\n<NINE_RIDE_NUM>27</NINE_RIDE_NUM>\\n<NINE_ALIGHT_NUM>35</NINE_ALIGHT_NUM>\\n<TEN_RIDE_NUM>33</TEN_RIDE_NUM>\\n<TEN_ALIGHT_NUM>33</TEN_ALIGHT_NUM>\\n<ELEVEN_RIDE_NUM>19</ELEVEN_RIDE_NUM>\\n<ELEVEN_ALIGHT_NUM>38</ELEVEN_ALIGHT_NUM>\\n<TWELVE_RIDE_NUM>25</TWELVE_RIDE_NUM>\\n<TWELVE_ALIGHT_NUM>29</TWELVE_ALIGHT_NUM>\\n<THIRTEEN_RIDE_NUM>24</THIRTEEN_RIDE_NUM>\\n<THIRTEEN_ALIGHT_NUM>48</THIRTEEN_ALIGHT_NUM>\\n<FOURTEEN_RIDE_NUM>15</FOURTEEN_RIDE_NUM>\\n<FOURTEEN_ALIGHT_NUM>61</FOURTEEN_ALIGHT_NUM>\\n<FIFTEEN_RIDE_NUM>39</FIFTEEN_RIDE_NUM>\\n<FIFTEEN_ALIGHT_NUM>44</FIFTEEN_ALIGHT_NUM>\\n<SIXTEEN_RIDE_NUM>56</SIXTEEN_RIDE_NUM>\\n<SIXTEEN_ALIGHT_NUM>56</SIXTEEN_ALIGHT_NUM>\\n<SEVENTEEN_RIDE_NUM>49</SEVENTEEN_RIDE_NUM>\\n<SEVENTEEN_ALIGHT_NUM>68</SEVENTEEN_ALIGHT_NUM>\\n<EIGHTEEN_RIDE_NUM>69</EIGHTEEN_RIDE_NUM>\\n<EIGHTEEN_ALIGHT_NUM>101</EIGHTEEN_ALIGHT_NUM>\\n<NINETEEN_RIDE_NUM>58</NINETEEN_RIDE_NUM>\\n<NINETEEN_ALIGHT_NUM>25</NINETEEN_ALIGHT_NUM>\\n<TWENTY_RIDE_NUM>18</TWENTY_RIDE_NUM>\\n<TWENTY_ALIGHT_NUM>33</TWENTY_ALIGHT_NUM>\\n<TWENTY_ONE_RIDE_NUM>27</TWENTY_ONE_RIDE_NUM>\\n<TWENTY_ONE_ALIGHT_NUM>25</TWENTY_ONE_ALIGHT_NUM>\\n<TWENTY_TWO_RIDE_NUM>21</TWENTY_TWO_RIDE_NUM>\\n<TWENTY_TWO_ALIGHT_NUM>21</TWENTY_TWO_ALIGHT_NUM>\\n<TWENTY_THREE_RIDE_NUM>0</TWENTY_THREE_RIDE_NUM>\\n<TWENTY_THREE_ALIGHT_NUM>0</TWENTY_THREE_ALIGHT_NUM>\\n<WORK_DT>20210803</WORK_DT>\\n</row>\\n<row>\\n<USE_MON>202107</USE_MON>\\n<BUS_ROUTE_NO>7016</BUS_ROUTE_NO>\\n<BUS_ROUTE_NM>7016번(은평차고지~상명대)</BUS_ROUTE_NM>\\n<STND_BSST_ID>113000076</STND_BSST_ID>\\n<BSST_ARS_NO>14167</BSST_ARS_NO>\\n<BUS_STA_NM>상암초등학교</BUS_STA_NM>\\n<MIDNIGHT_RIDE_NUM>3</MIDNIGHT_RIDE_NUM>\\n<MIDNIGHT_ALIGHT_NUM>25</MIDNIGHT_ALIGHT_NUM>\\n<ONE_RIDE_NUM>0</ONE_RIDE_NUM>\\n<ONE_ALIGHT_NUM>0</ONE_ALIGHT_NUM>\\n<TWO_RIDE_NUM>0</TWO_RIDE_NUM>\\n<TWO_ALIGHT_NUM>0</TWO_ALIGHT_NUM>\\n<THREE_RIDE_NUM>0</THREE_RIDE_NUM>\\n<THREE_ALIGHT_NUM>0</THREE_ALIGHT_NUM>\\n<FOUR_RIDE_NUM>0</FOUR_RIDE_NUM>\\n<FOUR_ALIGHT_NUM>0</FOUR_ALIGHT_NUM>\\n<FIVE_RIDE_NUM>0</FIVE_RIDE_NUM>\\n<FIVE_ALIGHT_NUM>0</FIVE_ALIGHT_NUM>\\n<SIX_RIDE_NUM>0</SIX_RIDE_NUM>\\n<SIX_ALIGHT_NUM>7</SIX_ALIGHT_NUM>\\n<SEVEN_RIDE_NUM>13</SEVEN_RIDE_NUM>\\n<SEVEN_ALIGHT_NUM>192</SEVEN_ALIGHT_NUM>\\n<EIGHT_RIDE_NUM>39</EIGHT_RIDE_NUM>\\n<EIGHT_ALIGHT_NUM>763</EIGHT_ALIGHT_NUM>\\n<NINE_RIDE_NUM>27</NINE_RIDE_NUM>\\n<NINE_ALIGHT_NUM>435</NINE_ALIGHT_NUM>\\n<TEN_RIDE_NUM>12</TEN_RIDE_NUM>\\n<TEN_ALIGHT_NUM>282</TEN_ALIGHT_NUM>\\n<ELEVEN_RIDE_NUM>26</ELEVEN_RIDE_NUM>\\n<ELEVEN_ALIGHT_NUM>238</ELEVEN_ALIGHT_NUM>\\n<TWELVE_RIDE_NUM>25</TWELVE_RIDE_NUM>\\n<TWELVE_ALIGHT_NUM>212</TWELVE_ALIGHT_NUM>\\n<THIRTEEN_RIDE_NUM>35</THIRTEEN_RIDE_NUM>\\n<THIRTEEN_ALIGHT_NUM>182</THIRTEEN_ALIGHT_NUM>\\n<FOURTEEN_RIDE_NUM>27</FOURTEEN_RIDE_NUM>\\n<FOURTEEN_ALIGHT_NUM>227</FOURTEEN_ALIGHT_NUM>\\n<FIFTEEN_RIDE_NUM>19</FIFTEEN_RIDE_NUM>\\n<FIFTEEN_ALIGHT_NUM>246</FIFTEEN_ALIGHT_NUM>\\n<SIXTEEN_RIDE_NUM>31</SIXTEEN_RIDE_NUM>\\n<SIXTEEN_ALIGHT_NUM>214</SIXTEEN_ALIGHT_NUM>\\n<SEVENTEEN_RIDE_NUM>18</SEVENTEEN_RIDE_NUM>\\n<SEVENTEEN_ALIGHT_NUM>254</SEVENTEEN_ALIGHT_NUM>\\n<EIGHTEEN_RIDE_NUM>30</EIGHTEEN_RIDE_NUM>\\n<EIGHTEEN_ALIGHT_NUM>319</EIGHTEEN_ALIGHT_NUM>\\n<NINETEEN_RIDE_NUM>23</NINETEEN_RIDE_NUM>\\n<NINETEEN_ALIGHT_NUM>265</NINETEEN_ALIGHT_NUM>\\n<TWENTY_RIDE_NUM>31</TWENTY_RIDE_NUM>\\n<TWENTY_ALIGHT_NUM>189</TWENTY_ALIGHT_NUM>\\n<TWENTY_ONE_RIDE_NUM>24</TWENTY_ONE_RIDE_NUM>\\n<TWENTY_ONE_ALIGHT_NUM>127</TWENTY_ONE_ALIGHT_NUM>\\n<TWENTY_TWO_RIDE_NUM>21</TWENTY_TWO_RIDE_NUM>\\n<TWENTY_TWO_ALIGHT_NUM>158</TWENTY_TWO_ALIGHT_NUM>\\n<TWENTY_THREE_RIDE_NUM>6</TWENTY_THREE_RIDE_NUM>\\n<TWENTY_THREE_ALIGHT_NUM>70</TWENTY_THREE_ALIGHT_NUM>\\n<WORK_DT>20210803</WORK_DT>\\n</row>\\n<row>\\n<USE_MON>202107</USE_MON>\\n<BUS_ROUTE_NO>7016</BUS_ROUTE_NO>\\n<BUS_ROUTE_NM>7016번(은평차고지~상명대)</BUS_ROUTE_NM>\\n<STND_BSST_ID>113000028</STND_BSST_ID>\\n<BSST_ARS_NO>14118</BSST_ARS_NO>\\n<BUS_STA_NM>월드컵파크2단지.에스플렉스센터</BUS_STA_NM>\\n<MIDNIGHT_RIDE_NUM>1</MIDNIGHT_RIDE_NUM>\\n<MIDNIGHT_ALIGHT_NUM>24</MIDNIGHT_ALIGHT_NUM>\\n<ONE_RIDE_NUM>0</ONE_RIDE_NUM>\\n<ONE_ALIGHT_NUM>0</ONE_ALIGHT_NUM>\\n<TWO_RIDE_NUM>0</TWO_RIDE_NUM>\\n<TWO_ALIGHT_NUM>0</TWO_ALIGHT_NUM>\\n<THREE_RIDE_NUM>0</THREE_RIDE_NUM>\\n<THREE_ALIGHT_NUM>0</THREE_ALIGHT_NUM>\\n<FOUR_RIDE_NUM>0</FOUR_RIDE_NUM>\\n<FOUR_ALIGHT_NUM>0</FOUR_ALIGHT_NUM>\\n<FIVE_RIDE_NUM>0</FIVE_RIDE_NUM>\\n<FIVE_ALIGHT_NUM>0</FIVE_ALIGHT_NUM>\\n<SIX_RIDE_NUM>0</SIX_RIDE_NUM>\\n<SIX_ALIGHT_NUM>18</SIX_ALIGHT_NUM>\\n<SEVEN_RIDE_NUM>6</SEVEN_RIDE_NUM>\\n<SEVEN_ALIGHT_NUM>576</SEVEN_ALIGHT_NUM>\\n<EIGHT_RIDE_NUM>9</EIGHT_RIDE_NUM>\\n<EIGHT_ALIGHT_NUM>2095</EIGHT_ALIGHT_NUM>\\n<NINE_RIDE_NUM>5</NINE_RIDE_NUM>\\n<NINE_ALIGHT_NUM>1215</NINE_ALIGHT_NUM>\\n<TEN_RIDE_NUM>14</TEN_RIDE_NUM>\\n<TEN_ALIGHT_NUM>522</TEN_ALIGHT_NUM>\\n<ELEVEN_RIDE_NUM>13</ELEVEN_RIDE_NUM>\\n<ELEVEN_ALIGHT_NUM>295</ELEVEN_ALIGHT_NUM>\\n<TWELVE_RIDE_NUM>9</TWELVE_RIDE_NUM>\\n<TWELVE_ALIGHT_NUM>275</TWELVE_ALIGHT_NUM>\\n<THIRTEEN_RIDE_NUM>17</THIRTEEN_RIDE_NUM>\\n<THIRTEEN_ALIGHT_NUM>297</THIRTEEN_ALIGHT_NUM>\\n<FOURTEEN_RIDE_NUM>8</FOURTEEN_RIDE_NUM>\\n<FOURTEEN_ALIGHT_NUM>261</FOURTEEN_ALIGHT_NUM>\\n<FIFTEEN_RIDE_NUM>9</FIFTEEN_RIDE_NUM>\\n<FIFTEEN_ALIGHT_NUM>257</FIFTEEN_ALIGHT_NUM>\\n<SIXTEEN_RIDE_NUM>18</SIXTEEN_RIDE_NUM>\\n<SIXTEEN_ALIGHT_NUM>220</SIXTEEN_ALIGHT_NUM>\\n<SEVENTEEN_RIDE_NUM>22</SEVENTEEN_RIDE_NUM>\\n<SEVENTEEN_ALIGHT_NUM>212</SEVENTEEN_ALIGHT_NUM>\\n<EIGHTEEN_RIDE_NUM>85</EIGHTEEN_RIDE_NUM>\\n<EIGHTEEN_ALIGHT_NUM>232</EIGHTEEN_ALIGHT_NUM>\\n<NINETEEN_RIDE_NUM>30</NINETEEN_RIDE_NUM>\\n<NINETEEN_ALIGHT_NUM>244</NINETEEN_ALIGHT_NUM>\\n<TWENTY_RIDE_NUM>26</TWENTY_RIDE_NUM>\\n<TWENTY_ALIGHT_NUM>150</TWENTY_ALIGHT_NUM>\\n<TWENTY_ONE_RIDE_NUM>10</TWENTY_ONE_RIDE_NUM>\\n<TWENTY_ONE_ALIGHT_NUM>139</TWENTY_ONE_ALIGHT_NUM>\\n<TWENTY_TWO_RIDE_NUM>26</TWENTY_TWO_RIDE_NUM>\\n<TWENTY_TWO_ALIGHT_NUM>168</TWENTY_TWO_ALIGHT_NUM>\\n<TWENTY_THREE_RIDE_NUM>2</TWENTY_THREE_RIDE_NUM>\\n<TWENTY_THREE_ALIGHT_NUM>70</TWENTY_THREE_ALIGHT_NUM>\\n<WORK_DT>20210803</WORK_DT>\\n</row>\\n<row>\\n<USE_MON>202107</USE_MON>\\n<BUS_ROUTE_NO>7016</BUS_ROUTE_NO>\\n<BUS_ROUTE_NM>7016번(은평차고지~상명대)</BUS_ROUTE_NM>\\n<STND_BSST_ID>113000017</STND_BSST_ID>\\n<BSST_ARS_NO>14107</BSST_ARS_NO>\\n<BUS_STA_NM>월드컵파크3단지.난지천공원</BUS_STA_NM>\\n<MIDNIGHT_RIDE_NUM>0</MIDNIGHT_RIDE_NUM>\\n<MIDNIGHT_ALIGHT_NUM>27</MIDNIGHT_ALIGHT_NUM>\\n<ONE_RIDE_NUM>0</ONE_RIDE_NUM>\\n<ONE_ALIGHT_NUM>0</ONE_ALIGHT_NUM>\\n<TWO_RIDE_NUM>0</TWO_RIDE_NUM>\\n<TWO_ALIGHT_NUM>0</TWO_ALIGHT_NUM>\\n<THREE_RIDE_NUM>0</THREE_RIDE_NUM>\\n<THREE_ALIGHT_NUM>0</THREE_ALIGHT_NUM>\\n<FOUR_RIDE_NUM>0</FOUR_RIDE_NUM>\\n<FOUR_ALIGHT_NUM>0</FOUR_ALIGHT_NUM>\\n<FIVE_RIDE_NUM>0</FIVE_RIDE_NUM>\\n<FIVE_ALIGHT_NUM>0</FIVE_ALIGHT_NUM>\\n<SIX_RIDE_NUM>1</SIX_RIDE_NUM>\\n<SIX_ALIGHT_NUM>3</SIX_ALIGHT_NUM>\\n<SEVEN_RIDE_NUM>2</SEVEN_RIDE_NUM>\\n<SEVEN_ALIGHT_NUM>32</SEVEN_ALIGHT_NUM>\\n<EIGHT_RIDE_NUM>9</EIGHT_RIDE_NUM>\\n<EIGHT_ALIGHT_NUM>52</EIGHT_ALIGHT_NUM>\\n<NINE_RIDE_NUM>7</NINE_RIDE_NUM>\\n<NINE_ALIGHT_NUM>46</NINE_ALIGHT_NUM>\\n<TEN_RIDE_NUM>5</TEN_RIDE_NUM>\\n<TEN_ALIGHT_NUM>41</TEN_ALIGHT_NUM>\\n<ELEVEN_RIDE_NUM>4</ELEVEN_RIDE_NUM>\\n<ELEVEN_ALIGHT_NUM>56</ELEVEN_ALIGHT_NUM>\\n<TWELVE_RIDE_NUM>8</TWELVE_RIDE_NUM>\\n<TWELVE_ALIGHT_NUM>47</TWELVE_ALIGHT_NUM>\\n<THIRTEEN_RIDE_NUM>10</THIRTEEN_RIDE_NUM>\\n<THIRTEEN_ALIGHT_NUM>70</THIRTEEN_ALIGHT_NUM>\\n<FOURTEEN_RIDE_NUM>10</FOURTEEN_RIDE_NUM>\\n<FOURTEEN_ALIGHT_NUM>71</FOURTEEN_ALIGHT_NUM>\\n<FIFTEEN_RIDE_NUM>11</FIFTEEN_RIDE_NUM>\\n<FIFTEEN_ALIGHT_NUM>79</FIFTEEN_ALIGHT_NUM>\\n<SIXTEEN_RIDE_NUM>8</SIXTEEN_RIDE_NUM>\\n<SIXTEEN_ALIGHT_NUM>47</SIXTEEN_ALIGHT_NUM>\\n<SEVENTEEN_RIDE_NUM>7</SEVENTEEN_RIDE_NUM>\\n<SEVENTEEN_ALIGHT_NUM>64</SEVENTEEN_ALIGHT_NUM>\\n<EIGHTEEN_RIDE_NUM>7</EIGHTEEN_RIDE_NUM>\\n<EIGHTEEN_ALIGHT_NUM>79</EIGHTEEN_ALIGHT_NUM>\\n<NINETEEN_RIDE_NUM>3</NINETEEN_RIDE_NUM>\\n<NINETEEN_ALIGHT_NUM>82</NINETEEN_ALIGHT_NUM>\\n<TWENTY_RIDE_NUM>3</TWENTY_RIDE_NUM>\\n<TWENTY_ALIGHT_NUM>58</TWENTY_ALIGHT_NUM>\\n<TWENTY_ONE_RIDE_NUM>2</TWENTY_ONE_RIDE_NUM>\\n<TWENTY_ONE_ALIGHT_NUM>52</TWENTY_ONE_ALIGHT_NUM>\\n<TWENTY_TWO_RIDE_NUM>2</TWENTY_TWO_RIDE_NUM>\\n<TWENTY_TWO_ALIGHT_NUM>66</TWENTY_TWO_ALIGHT_NUM>\\n<TWENTY_THREE_RIDE_NUM>0</TWENTY_THREE_RIDE_NUM>\\n<TWENTY_THREE_ALIGHT_NUM>27</TWENTY_THREE_ALIGHT_NUM>\\n<WORK_DT>20210803</WORK_DT>\\n</row>\\n</CardBusTimeNew>\\n'"
      ]
     },
     "execution_count": 35,
     "metadata": {},
     "output_type": "execute_result"
    }
   ],
   "source": [
    "data.text"
   ]
  },
  {
   "cell_type": "code",
   "execution_count": 42,
   "metadata": {},
   "outputs": [],
   "source": [
    "import re\n",
    "# (.+?) -> 안에 모든 내용\n",
    "p = re.compile(\"<BUS_STA_NM>(.+?)</BUS_STA_NM>\")\n",
    "response = p.findall(data.text)"
   ]
  },
  {
   "cell_type": "code",
   "execution_count": 43,
   "metadata": {},
   "outputs": [
    {
     "data": {
      "text/plain": [
       "['은평공영차고지', '월드컵경기장북측', '상암초등학교', '월드컵파크2단지.에스플렉스센터', '월드컵파크3단지.난지천공원']"
      ]
     },
     "execution_count": 43,
     "metadata": {},
     "output_type": "execute_result"
    }
   ],
   "source": [
    "response"
   ]
  },
  {
   "cell_type": "code",
   "execution_count": 44,
   "metadata": {},
   "outputs": [
    {
     "name": "stdout",
     "output_type": "stream",
     "text": [
      "은평공영차고지\n",
      "월드컵경기장북측\n",
      "상암초등학교\n",
      "월드컵파크2단지.에스플렉스센터\n",
      "월드컵파크3단지.난지천공원\n"
     ]
    }
   ],
   "source": [
    "for item in response:\n",
    "    print(item)"
   ]
  },
  {
   "cell_type": "code",
   "execution_count": 47,
   "metadata": {},
   "outputs": [],
   "source": [
    "# (\\d+) -> 숫자\n",
    "p = re.compile(\"<.*_NUM>(\\d+)</.*_NUM>\")\n",
    "response = p.findall(data.text)"
   ]
  },
  {
   "cell_type": "code",
   "execution_count": 50,
   "metadata": {},
   "outputs": [
    {
     "name": "stdout",
     "output_type": "stream",
     "text": [
      "0 0 0 0 0 0 0 0 23 1 11 0 28 0 119 1 85 0 53 1 23 0 29 0 28 1 18 0 26 0 26 2 31 1 76 1 43 3 27 2 12 2 10 0 12 0 0 0 0 0 0 0 0 0 0 0 29 0 3 1 9 6 23 75 47 125 27 35 33 33 19 38 25 29 24 48 15 61 39 44 56 56 49 68 69 101 58 25 18 33 27 25 21 21 0 0 3 25 0 0 0 0 0 0 0 0 0 0 0 7 13 192 39 763 27 435 12 282 26 238 25 212 35 182 27 227 19 246 31 214 18 254 30 319 23 265 31 189 24 127 21 158 6 70 1 24 0 0 0 0 0 0 0 0 0 0 0 18 6 576 9 2095 5 1215 14 522 13 295 9 275 17 297 8 261 9 257 18 220 22 212 85 232 30 244 26 150 10 139 26 168 2 70 0 27 0 0 0 0 0 0 0 0 0 0 1 3 2 32 9 52 7 46 5 41 4 56 8 47 10 70 10 71 11 79 8 47 7 64 7 79 3 82 3 58 2 52 2 66 0 27 "
     ]
    }
   ],
   "source": [
    "for i in response:\n",
    "    print(i, end =\" \")"
   ]
  },
  {
   "cell_type": "markdown",
   "metadata": {},
   "source": [
    "## 일괄실행"
   ]
  },
  {
   "cell_type": "code",
   "execution_count": 51,
   "metadata": {},
   "outputs": [
    {
     "name": "stdout",
     "output_type": "stream",
     "text": [
      "Writing src/ds_open_CardBusTimeNew.py\n"
     ]
    }
   ],
   "source": [
    "%%writefile src/ds_open_CardBusTimeNew.py\n",
    "import os\n",
    "import mylib as my\n",
    "import requests\n",
    "import re\n",
    "\n",
    "def doIt():\n",
    "    keyPath = os.path.join(os.getcwd(), \"src\", \"key.properties\")\n",
    "    key = my.getKey(keyPath)\n",
    "    _key = str(key[\"seoul\"])\n",
    "    busStop = \"http://openAPI.seoul.go.kr:8088/\" + _key + \"/xml/CardBusTimeNew/1/5/202107/7016\"\n",
    "    data = requests.get(busStop)\n",
    "    \n",
    "    # (.+?) -> 안에 모든 내용\n",
    "    p = re.compile(\"<BUS_STA_NM>(.+?)</BUS_STA_NM>\")\n",
    "    response = p.findall(data.text)\n",
    "    for item in response: print(item, end = \" \")\n",
    "        \n",
    "    p = re.compile(\"<.*_NUM>(\\d+)</.*_NUM>\")\n",
    "    response = p.findall(data.text)\n",
    "    for i in response: print(i, end = \" \")\n",
    "    \n",
    "if __name__ == \"__main__\":\n",
    "    doIt()"
   ]
  },
  {
   "cell_type": "code",
   "execution_count": 52,
   "metadata": {},
   "outputs": [
    {
     "name": "stdout",
     "output_type": "stream",
     "text": [
      "은평공영차고지 월드컵경기장북측 상암초등학교 월드컵파크2단지.에스플렉스센터 월드컵파크3단지.난지천공원 0 0 0 0 0 0 0 0 23 1 11 0 28 0 119 1 85 0 53 1 23 0 29 0 28 1 18 0 26 0 26 2 31 1 76 1 43 3 27 2 12 2 10 0 12 0 0 0 0 0 0 0 0 0 0 0 29 0 3 1 9 6 23 75 47 125 27 35 33 33 19 38 25 29 24 48 15 61 39 44 56 56 49 68 69 101 58 25 18 33 27 25 21 21 0 0 3 25 0 0 0 0 0 0 0 0 0 0 0 7 13 192 39 763 27 435 12 282 26 238 25 212 35 182 27 227 19 246 31 214 18 254 30 319 23 265 31 189 24 127 21 158 6 70 1 24 0 0 0 0 0 0 0 0 0 0 0 18 6 576 9 2095 5 1215 14 522 13 295 9 275 17 297 8 261 9 257 18 220 22 212 85 232 30 244 26 150 10 139 26 168 2 70 0 27 0 0 0 0 0 0 0 0 0 0 1 3 2 32 9 52 7 46 5 41 4 56 8 47 10 70 10 71 11 79 8 47 7 64 7 79 3 82 3 58 2 52 2 66 0 27 "
     ]
    }
   ],
   "source": [
    "!python src/ds_open_CardBusTimeNew.py"
   ]
  },
  {
   "cell_type": "markdown",
   "metadata": {},
   "source": [
    "# 문제 8: 서울시 골목상권 분석\n",
    "- VwsmTrdarFlpopQq API 사용\n",
    "- 상권 - 생활인구 관련"
   ]
  },
  {
   "cell_type": "markdown",
   "metadata": {},
   "source": [
    "![img](images/문제8.png)"
   ]
  },
  {
   "cell_type": "code",
   "execution_count": 60,
   "metadata": {},
   "outputs": [
    {
     "name": "stdout",
     "output_type": "stream",
     "text": [
      "1000025   통일로12길   559439.0   244621.0   314817.0\n",
      "1000029   난계로21길   437545.0   194996.0   242548.0\n",
      "1000036   동호로15길   330103.0   160840.0   169263.0\n"
     ]
    }
   ],
   "source": [
    "import os\n",
    "import requests\n",
    "from src import mylib as my\n",
    "\n",
    "keyPath = os.path.join(os.getcwd(), \"src\", \"key.properties\")\n",
    "key = my.getKey(keyPath)\n",
    "_key = key[\"seoul\"]\n",
    "\n",
    "_url = \"http://openAPI.seoul.go.kr:8088\"\n",
    "_type = \"json\"\n",
    "_service = \"VwsmTrdarFlpopQq\"\n",
    "_start = str(1)\n",
    "_end = str(3)\n",
    "_stdr = \"2020\"\n",
    "_trdar = \"\"\n",
    "\n",
    "url = \"/\".join([_url, _key, _type, _service, _start, _end, _stdr])\n",
    "response = requests.get(url)\n",
    "trade = response.json()\n",
    "\n",
    "for a in trade[\"VwsmTrdarFlpopQq\"][\"row\"]:\n",
    "    print(a[\"TRDAR_CD\"], \" \", a[\"TRDAR_CD_NM\"], \" \", a[\"TOT_FLPOP_CO\"], \" \", a[\"ML_FLPOP_CO\"], \" \", a[\"FML_FLPOP_CO\"])"
   ]
  },
  {
   "cell_type": "markdown",
   "metadata": {},
   "source": [
    "### 일괄실행"
   ]
  },
  {
   "cell_type": "code",
   "execution_count": 61,
   "metadata": {},
   "outputs": [
    {
     "name": "stdout",
     "output_type": "stream",
     "text": [
      "Writing src/ds_open_trade.py\n"
     ]
    }
   ],
   "source": [
    "%%writefile src/ds_open_trade.py\n",
    "import os\n",
    "import requests\n",
    "import mylib as my\n",
    "\n",
    "def doIt():\n",
    "    keyPath = os.path.join(os.getcwd(), \"src\", \"key.properties\")\n",
    "    key = my.getKey(keyPath)\n",
    "    _key = key[\"seoul\"]\n",
    "\n",
    "    _url = \"http://openAPI.seoul.go.kr:8088\"\n",
    "    _type = \"json\"\n",
    "    _service = \"VwsmTrdarFlpopQq\"\n",
    "    _start = str(1)\n",
    "    _end = str(3)\n",
    "    _stdr = \"2020\"\n",
    "    _trdar = \"\"\n",
    "\n",
    "    url = \"/\".join([_url, _key, _type, _service, _start, _end, _stdr])\n",
    "    response = requests.get(url)\n",
    "    trade = response.json()\n",
    "\n",
    "    for a in trade[\"VwsmTrdarFlpopQq\"][\"row\"]:\n",
    "        print(a[\"TRDAR_CD\"], \" \", a[\"TRDAR_CD_NM\"], \" \", a[\"TOT_FLPOP_CO\"], \" \", a[\"ML_FLPOP_CO\"], \" \", a[\"FML_FLPOP_CO\"])\n",
    "        \n",
    "if __name__ == \"__main__\":\n",
    "    doIt()"
   ]
  },
  {
   "cell_type": "code",
   "execution_count": 62,
   "metadata": {},
   "outputs": [
    {
     "name": "stdout",
     "output_type": "stream",
     "text": [
      "1000025   통일로12길   559439.0   244621.0   314817.0\r\n",
      "1000029   난계로21길   437545.0   194996.0   242548.0\r\n",
      "1000036   동호로15길   330103.0   160840.0   169263.0\r\n"
     ]
    }
   ],
   "source": [
    "!python src/ds_open_trade.py"
   ]
  },
  {
   "cell_type": "markdown",
   "metadata": {},
   "source": [
    "# 문제 9: 공공데이터포털 서울시 구별 교통사고 사망자 수 구하기"
   ]
  },
  {
   "cell_type": "markdown",
   "metadata": {},
   "source": [
    "- getRestTrafficAccidentDeath -> 사망교통사고정보 Rest 조회\n",
    "- getWMSTrafficAccidentDeath -> 사망교통사고정보 WMS 조회 (PNG 이미지 조회)\n",
    "![img](images/문제9.png)"
   ]
  },
  {
   "cell_type": "markdown",
   "metadata": {},
   "source": [
    "![ims](images/문제9-1.png)"
   ]
  },
  {
   "cell_type": "code",
   "execution_count": 73,
   "metadata": {},
   "outputs": [],
   "source": [
    "import os\n",
    "import requests\n",
    "import urllib\n",
    "from src import mylib as my\n",
    "\n",
    "key = os.path.join(os.getcwd(), \"src\", \"key.properties\")\n",
    "key = my.getKey(key)\n",
    "key = key[\"gokr\"]\n",
    "\n",
    "# URL 기본 형태\n",
    "URL_FORM = \"http://apis.data.go.kr/B552061\"\n",
    "SERVICE = \"AccidentDeath\"\n",
    "OPERATION_NAME = \"getRestTrafficAccidentDeath\"\n",
    "URL = \"/\".join([URL_FORM, SERVICE, OPERATION_NAME])\n",
    "\n",
    "# 전달 인자\n",
    "d = {}\n",
    "d[\"searchYear\"] = \"2020\"\n",
    "d[\"siDo\"] = \"1100\"\n",
    "d[\"guGun\"] = \"1116\"\n",
    "d[\"numOfRows\"] = \"20\"\n",
    "d[\"pageNo\"] = \"1\"\n",
    "params = urllib.parse.urlencode(d)\n",
    "\n",
    "# key 값이 인코딩된 형태로 문제가 발생하지 않게 urlencode 사용 안하고 최종 url 생성\n",
    "url = URL + \"?\" + \"serviceKey=\" + key + \"&\" + params\n",
    "response = requests.get(url)\n",
    "data = response.text"
   ]
  },
  {
   "cell_type": "code",
   "execution_count": 75,
   "metadata": {
    "scrolled": true
   },
   "outputs": [
    {
     "name": "stdout",
     "output_type": "stream",
     "text": [
      "<response>\r\n",
      "    <header>\r\n",
      "        <resultCode>00</resultCode>\r\n",
      "        <resultMsg>NORMAL_CODE</resultMsg>\r\n",
      "    </header>\r\n",
      "    <body>\r\n",
      "        <items>\r\n",
      "            <item>\r\n",
      "                <acc_year>2020</acc_year>\r\n",
      "                <occrrnc_dt>2020010105</occrrnc_dt>\r\n",
      "                <dght_cd>2</dght_cd>\r\n",
      "                <occrrnc_day_cd>4</occrrnc_day_cd>\r\n",
      "                <dth_dnv_cnt>1</dth_dnv_cnt>\r\n",
      "                <injpsn_cnt>1</injpsn_cnt>\r\n",
      "                <se_dnv_cnt>0</se_dnv_cnt>\r\n",
      "                <sl_dnv_cnt>0</sl_dnv_cnt>\r\n",
      "                <wnd_dnv_cnt>0</wnd_dnv_cnt>\r\n",
      "                <occrrnc_lc_sido_cd>1100</occrrnc_lc_sido_cd>\r\n",
      "                <occrrnc_lc_sgg_cd>1116</occrrnc_lc_sgg_cd>\r\n",
      "                <acc_ty_lclas_cd>01</acc_ty_lclas_cd>\r\n",
      "                <acc_ty_mlsfc_cd>12</acc_ty_mlsfc_cd>\r\n",
      "                <acc_ty_cd>02</acc_ty_cd>\r\n",
      "                <aslt_vtr_cd>05 </aslt_vtr_cd>\r\n",
      "                <road_frm_lclas_cd>01</road_frm_lclas_cd>\r\n",
      "                <road_frm_cd>05</road_frm_cd>\r\n",
      "                <wrngdo_isrty_vhcty_lclas_cd>01</wrngdo_isrty_vhcty_lclas_cd>\r\n",
      "                <dmge_isrty_vhcty_lclas_cd>12</dmge_isrty_vhcty_lclas_cd>\r\n",
      "                <occrrnc_lc_x_crd>959928  </occrrnc_lc_x_crd>\r\n",
      "                <occrrnc_lc_y_crd>1943154 </occrrnc_lc_y_crd>\r\n",
      "                <lo_crd>127.04672718</lo_crd>\r\n",
      "                <la_crd>37.48676083</la_crd>\r\n",
      "            </item>\r\n",
      "            <item>\r\n",
      "                <acc_year>2020</acc_year>\r\n",
      "                <occrrnc_dt>2020011004</occrrnc_dt>\r\n",
      "                <dght_cd>2</dght_cd>\r\n",
      "                <occrrnc_day_cd>6</occrrnc_day_cd>\r\n",
      "                <dth_dnv_cnt>1</dth_dnv_cnt>\r\n",
      "                <injpsn_cnt>1</injpsn_cnt>\r\n",
      "                <se_dnv_cnt>0</se_dnv_cnt>\r\n",
      "                <sl_dnv_cnt>0</sl_dnv_cnt>\r\n",
      "                <wnd_dnv_cnt>0</wnd_dnv_cnt>\r\n",
      "                <occrrnc_lc_sido_cd>1100</occrrnc_lc_sido_cd>\r\n",
      "                <occrrnc_lc_sgg_cd>1116</occrrnc_lc_sgg_cd>\r\n",
      "                <acc_ty_lclas_cd>01</acc_ty_lclas_cd>\r\n",
      "                <acc_ty_mlsfc_cd>11</acc_ty_mlsfc_cd>\r\n",
      "                <acc_ty_cd>01</acc_ty_cd>\r\n",
      "                <aslt_vtr_cd>05 </aslt_vtr_cd>\r\n",
      "                <road_frm_lclas_cd>01</road_frm_lclas_cd>\r\n",
      "                <road_frm_cd>05</road_frm_cd>\r\n",
      "                <wrngdo_isrty_vhcty_lclas_cd>03</wrngdo_isrty_vhcty_lclas_cd>\r\n",
      "                <dmge_isrty_vhcty_lclas_cd>12</dmge_isrty_vhcty_lclas_cd>\r\n",
      "                <occrrnc_lc_x_crd>964658  </occrrnc_lc_x_crd>\r\n",
      "                <occrrnc_lc_y_crd>1943332 </occrrnc_lc_y_crd>\r\n",
      "                <lo_crd>127.10031827</lo_crd>\r\n",
      "                <la_crd>37.48847939</la_crd>\r\n",
      "            </item>\r\n",
      "            <item>\r\n",
      "                <acc_year>2020</acc_year>\r\n",
      "                <occrrnc_dt>2020011711</occrrnc_dt>\r\n",
      "                <dght_cd>1</dght_cd>\r\n",
      "                <occrrnc_day_cd>6</occrrnc_day_cd>\r\n",
      "                <dth_dnv_cnt>1</dth_dnv_cnt>\r\n",
      "                <injpsn_cnt>2</injpsn_cnt>\r\n",
      "                <se_dnv_cnt>0</se_dnv_cnt>\r\n",
      "                <sl_dnv_cnt>1</sl_dnv_cnt>\r\n",
      "                <wnd_dnv_cnt>0</wnd_dnv_cnt>\r\n",
      "                <occrrnc_lc_sido_cd>1100</occrrnc_lc_sido_cd>\r\n",
      "                <occrrnc_lc_sgg_cd>1116</occrrnc_lc_sgg_cd>\r\n",
      "                <acc_ty_lclas_cd>01</acc_ty_lclas_cd>\r\n",
      "                <acc_ty_mlsfc_cd>11</acc_ty_mlsfc_cd>\r\n",
      "                <acc_ty_cd>01</acc_ty_cd>\r\n",
      "                <aslt_vtr_cd>03 </aslt_vtr_cd>\r\n",
      "                <road_frm_lclas_cd>02</road_frm_lclas_cd>\r\n",
      "                <road_frm_cd>07</road_frm_cd>\r\n",
      "                <wrngdo_isrty_vhcty_lclas_cd>05</wrngdo_isrty_vhcty_lclas_cd>\r\n",
      "                <dmge_isrty_vhcty_lclas_cd>12</dmge_isrty_vhcty_lclas_cd>\r\n",
      "                <occrrnc_lc_x_crd>961578  </occrrnc_lc_x_crd>\r\n",
      "                <occrrnc_lc_y_crd>1945139 </occrrnc_lc_y_crd>\r\n",
      "                <lo_crd>127.06521512</lo_crd>\r\n",
      "                <la_crd>37.50480795</la_crd>\r\n",
      "            </item>\r\n",
      "            <item>\r\n",
      "                <acc_year>2020</acc_year>\r\n",
      "                <occrrnc_dt>2020021120</occrrnc_dt>\r\n",
      "                <dght_cd>2</dght_cd>\r\n",
      "                <occrrnc_day_cd>3</occrrnc_day_cd>\r\n",
      "                <dth_dnv_cnt>1</dth_dnv_cnt>\r\n",
      "                <injpsn_cnt>1</injpsn_cnt>\r\n",
      "                <se_dnv_cnt>0</se_dnv_cnt>\r\n",
      "                <sl_dnv_cnt>0</sl_dnv_cnt>\r\n",
      "                <wnd_dnv_cnt>0</wnd_dnv_cnt>\r\n",
      "                <occrrnc_lc_sido_cd>1100</occrrnc_lc_sido_cd>\r\n",
      "                <occrrnc_lc_sgg_cd>1116</occrrnc_lc_sgg_cd>\r\n",
      "                <acc_ty_lclas_cd>02</acc_ty_lclas_cd>\r\n",
      "                <acc_ty_mlsfc_cd>21</acc_ty_mlsfc_cd>\r\n",
      "                <acc_ty_cd>21</acc_ty_cd>\r\n",
      "                <aslt_vtr_cd>05 </aslt_vtr_cd>\r\n",
      "                <road_frm_lclas_cd>02</road_frm_lclas_cd>\r\n",
      "                <road_frm_cd>06</road_frm_cd>\r\n",
      "                <wrngdo_isrty_vhcty_lclas_cd>01</wrngdo_isrty_vhcty_lclas_cd>\r\n",
      "                <dmge_isrty_vhcty_lclas_cd>05</dmge_isrty_vhcty_lclas_cd>\r\n",
      "                <occrrnc_lc_x_crd>958317  </occrrnc_lc_x_crd>\r\n",
      "                <occrrnc_lc_y_crd>1947708 </occrrnc_lc_y_crd>\r\n",
      "                <lo_crd>127.02845745</lo_crd>\r\n",
      "                <la_crd>37.52752443</la_crd>\r\n",
      "            </item>\r\n",
      "            <item>\r\n",
      "                <acc_year>2020</acc_year>\r\n",
      "                <occrrnc_dt>2020021500</occrrnc_dt>\r\n",
      "                <dght_cd>2</dght_cd>\r\n",
      "                <occrrnc_day_cd>7</occrrnc_day_cd>\r\n",
      "                <dth_dnv_cnt>1</dth_dnv_cnt>\r\n",
      "                <injpsn_cnt>2</injpsn_cnt>\r\n",
      "                <se_dnv_cnt>0</se_dnv_cnt>\r\n",
      "                <sl_dnv_cnt>1</sl_dnv_cnt>\r\n",
      "                <wnd_dnv_cnt>0</wnd_dnv_cnt>\r\n",
      "                <occrrnc_lc_sido_cd>1100</occrrnc_lc_sido_cd>\r\n",
      "                <occrrnc_lc_sgg_cd>1116</occrrnc_lc_sgg_cd>\r\n",
      "                <acc_ty_lclas_cd>01</acc_ty_lclas_cd>\r\n",
      "                <acc_ty_mlsfc_cd>11</acc_ty_mlsfc_cd>\r\n",
      "                <acc_ty_cd>01</acc_ty_cd>\r\n",
      "                <aslt_vtr_cd>05 </aslt_vtr_cd>\r\n",
      "                <road_frm_lclas_cd>01</road_frm_lclas_cd>\r\n",
      "                <road_frm_cd>05</road_frm_cd>\r\n",
      "                <wrngdo_isrty_vhcty_lclas_cd>05</wrngdo_isrty_vhcty_lclas_cd>\r\n",
      "                <dmge_isrty_vhcty_lclas_cd>12</dmge_isrty_vhcty_lclas_cd>\r\n",
      "                <occrrnc_lc_x_crd>960501  </occrrnc_lc_x_crd>\r\n",
      "                <occrrnc_lc_y_crd>1947375 </occrrnc_lc_y_crd>\r\n",
      "                <lo_crd>127.05270573</lo_crd>\r\n",
      "                <la_crd>37.52479842</la_crd>\r\n",
      "            </item>\r\n",
      "            <item>\r\n",
      "                <acc_year>2020</acc_year>\r\n",
      "                <occrrnc_dt>2020032815</occrrnc_dt>\r\n",
      "                <dght_cd>1</dght_cd>\r\n",
      "                <occrrnc_day_cd>7</occrrnc_day_cd>\r\n",
      "                <dth_dnv_cnt>1</dth_dnv_cnt>\r\n",
      "                <injpsn_cnt>1</injpsn_cnt>\r\n",
      "                <se_dnv_cnt>0</se_dnv_cnt>\r\n",
      "                <sl_dnv_cnt>0</sl_dnv_cnt>\r\n",
      "                <wnd_dnv_cnt>0</wnd_dnv_cnt>\r\n",
      "                <occrrnc_lc_sido_cd>1100</occrrnc_lc_sido_cd>\r\n",
      "                <occrrnc_lc_sgg_cd>1116</occrrnc_lc_sgg_cd>\r\n",
      "                <acc_ty_lclas_cd>02</acc_ty_lclas_cd>\r\n",
      "                <acc_ty_mlsfc_cd>24</acc_ty_mlsfc_cd>\r\n",
      "                <acc_ty_cd>25</acc_ty_cd>\r\n",
      "                <aslt_vtr_cd>03 </aslt_vtr_cd>\r\n",
      "                <road_frm_lclas_cd>02</road_frm_lclas_cd>\r\n",
      "                <road_frm_cd>06</road_frm_cd>\r\n",
      "                <wrngdo_isrty_vhcty_lclas_cd>05</wrngdo_isrty_vhcty_lclas_cd>\r\n",
      "                <dmge_isrty_vhcty_lclas_cd>01</dmge_isrty_vhcty_lclas_cd>\r\n",
      "                <occrrnc_lc_x_crd>959690  </occrrnc_lc_x_crd>\r\n",
      "                <occrrnc_lc_y_crd>1945762 </occrrnc_lc_y_crd>\r\n",
      "                <lo_crd>127.04389218</lo_crd>\r\n",
      "                <la_crd>37.51025737</la_crd>\r\n",
      "            </item>\r\n",
      "            <item>\r\n",
      "                <acc_year>2020</acc_year>\r\n",
      "                <occrrnc_dt>2020040420</occrrnc_dt>\r\n",
      "                <dght_cd>2</dght_cd>\r\n",
      "                <occrrnc_day_cd>7</occrrnc_day_cd>\r\n",
      "                <dth_dnv_cnt>1</dth_dnv_cnt>\r\n",
      "                <injpsn_cnt>1</injpsn_cnt>\r\n",
      "                <se_dnv_cnt>0</se_dnv_cnt>\r\n",
      "                <sl_dnv_cnt>0</sl_dnv_cnt>\r\n",
      "                <wnd_dnv_cnt>0</wnd_dnv_cnt>\r\n",
      "                <occrrnc_lc_sido_cd>1100</occrrnc_lc_sido_cd>\r\n",
      "                <occrrnc_lc_sgg_cd>1116</occrrnc_lc_sgg_cd>\r\n",
      "                <acc_ty_lclas_cd>02</acc_ty_lclas_cd>\r\n",
      "                <acc_ty_mlsfc_cd>24</acc_ty_mlsfc_cd>\r\n",
      "                <acc_ty_cd>25</acc_ty_cd>\r\n",
      "                <aslt_vtr_cd>99 </aslt_vtr_cd>\r\n",
      "                <road_frm_lclas_cd>05</road_frm_lclas_cd>\r\n",
      "                <road_frm_cd>98</road_frm_cd>\r\n",
      "                <wrngdo_isrty_vhcty_lclas_cd>01</wrngdo_isrty_vhcty_lclas_cd>\r\n",
      "                <dmge_isrty_vhcty_lclas_cd>05</dmge_isrty_vhcty_lclas_cd>\r\n",
      "                <occrrnc_lc_x_crd>960129  </occrrnc_lc_x_crd>\r\n",
      "                <occrrnc_lc_y_crd>1947002 </occrrnc_lc_y_crd>\r\n",
      "                <lo_crd>127.04873239</lo_crd>\r\n",
      "                <la_crd>37.52158529</la_crd>\r\n",
      "            </item>\r\n",
      "            <item>\r\n",
      "                <acc_year>2020</acc_year>\r\n",
      "                <occrrnc_dt>2020042622</occrrnc_dt>\r\n",
      "                <dght_cd>2</dght_cd>\r\n",
      "                <occrrnc_day_cd>1</occrrnc_day_cd>\r\n",
      "                <dth_dnv_cnt>1</dth_dnv_cnt>\r\n",
      "                <injpsn_cnt>1</injpsn_cnt>\r\n",
      "                <se_dnv_cnt>0</se_dnv_cnt>\r\n",
      "                <sl_dnv_cnt>0</sl_dnv_cnt>\r\n",
      "                <wnd_dnv_cnt>0</wnd_dnv_cnt>\r\n",
      "                <occrrnc_lc_sido_cd>1100</occrrnc_lc_sido_cd>\r\n",
      "                <occrrnc_lc_sgg_cd>1116</occrrnc_lc_sgg_cd>\r\n",
      "                <acc_ty_lclas_cd>03</acc_ty_lclas_cd>\r\n",
      "                <acc_ty_mlsfc_cd>35</acc_ty_mlsfc_cd>\r\n",
      "                <acc_ty_cd>37</acc_ty_cd>\r\n",
      "                <aslt_vtr_cd>05 </aslt_vtr_cd>\r\n",
      "                <road_frm_lclas_cd>01</road_frm_lclas_cd>\r\n",
      "                <road_frm_cd>05</road_frm_cd>\r\n",
      "                <wrngdo_isrty_vhcty_lclas_cd>05</wrngdo_isrty_vhcty_lclas_cd>\r\n",
      "                <dmge_isrty_vhcty_lclas_cd>##</dmge_isrty_vhcty_lclas_cd>\r\n",
      "                <occrrnc_lc_x_crd>958652  </occrrnc_lc_x_crd>\r\n",
      "                <occrrnc_lc_y_crd>1946973 </occrrnc_lc_y_crd>\r\n",
      "                <lo_crd>127.03187031</lo_crd>\r\n",
      "                <la_crd>37.52090403</la_crd>\r\n",
      "            </item>\r\n",
      "            <item>\r\n",
      "                <acc_year>2020</acc_year>\r\n",
      "                <occrrnc_dt>2020042905</occrrnc_dt>\r\n",
      "                <dght_cd>2</dght_cd>\r\n",
      "                <occrrnc_day_cd>4</occrrnc_day_cd>\r\n",
      "                <dth_dnv_cnt>1</dth_dnv_cnt>\r\n",
      "                <injpsn_cnt>3</injpsn_cnt>\r\n",
      "                <se_dnv_cnt>1</se_dnv_cnt>\r\n",
      "                <sl_dnv_cnt>1</sl_dnv_cnt>\r\n",
      "                <wnd_dnv_cnt>0</wnd_dnv_cnt>\r\n",
      "                <occrrnc_lc_sido_cd>1100</occrrnc_lc_sido_cd>\r\n",
      "                <occrrnc_lc_sgg_cd>1116</occrrnc_lc_sgg_cd>\r\n",
      "                <acc_ty_lclas_cd>02</acc_ty_lclas_cd>\r\n",
      "                <acc_ty_mlsfc_cd>22</acc_ty_mlsfc_cd>\r\n",
      "                <acc_ty_cd>22</acc_ty_cd>\r\n",
      "                <aslt_vtr_cd>03 </aslt_vtr_cd>\r\n",
      "                <road_frm_lclas_cd>02</road_frm_lclas_cd>\r\n",
      "                <road_frm_cd>06</road_frm_cd>\r\n",
      "                <wrngdo_isrty_vhcty_lclas_cd>01</wrngdo_isrty_vhcty_lclas_cd>\r\n",
      "                <dmge_isrty_vhcty_lclas_cd>01</dmge_isrty_vhcty_lclas_cd>\r\n",
      "                <occrrnc_lc_x_crd>957714  </occrrnc_lc_x_crd>\r\n",
      "                <occrrnc_lc_y_crd>1945882 </occrrnc_lc_y_crd>\r\n",
      "                <lo_crd>127.02147347</lo_crd>\r\n",
      "                <la_crd>37.51120884</la_crd>\r\n",
      "            </item>\r\n",
      "            <item>\r\n",
      "                <acc_year>2020</acc_year>\r\n",
      "                <occrrnc_dt>2020050923</occrrnc_dt>\r\n",
      "                <dght_cd>2</dght_cd>\r\n",
      "                <occrrnc_day_cd>7</occrrnc_day_cd>\r\n",
      "                <dth_dnv_cnt>1</dth_dnv_cnt>\r\n",
      "                <injpsn_cnt>1</injpsn_cnt>\r\n",
      "                <se_dnv_cnt>0</se_dnv_cnt>\r\n",
      "                <sl_dnv_cnt>0</sl_dnv_cnt>\r\n",
      "                <wnd_dnv_cnt>0</wnd_dnv_cnt>\r\n",
      "                <occrrnc_lc_sido_cd>1100</occrrnc_lc_sido_cd>\r\n",
      "                <occrrnc_lc_sgg_cd>1116</occrrnc_lc_sgg_cd>\r\n",
      "                <acc_ty_lclas_cd>01</acc_ty_lclas_cd>\r\n",
      "                <acc_ty_mlsfc_cd>13</acc_ty_mlsfc_cd>\r\n",
      "                <acc_ty_cd>03</acc_ty_cd>\r\n",
      "                <aslt_vtr_cd>05 </aslt_vtr_cd>\r\n",
      "                <road_frm_lclas_cd>01</road_frm_lclas_cd>\r\n",
      "                <road_frm_cd>05</road_frm_cd>\r\n",
      "                <wrngdo_isrty_vhcty_lclas_cd>01</wrngdo_isrty_vhcty_lclas_cd>\r\n",
      "                <dmge_isrty_vhcty_lclas_cd>12</dmge_isrty_vhcty_lclas_cd>\r\n",
      "                <occrrnc_lc_x_crd>960380  </occrrnc_lc_x_crd>\r\n",
      "                <occrrnc_lc_y_crd>1947550 </occrrnc_lc_y_crd>\r\n",
      "                <lo_crd>127.05163019</lo_crd>\r\n",
      "                <la_crd>37.52637982</la_crd>\r\n",
      "            </item>\r\n",
      "            <item>\r\n",
      "                <acc_year>2020</acc_year>\r\n",
      "                <occrrnc_dt>2020051814</occrrnc_dt>\r\n",
      "                <dght_cd>1</dght_cd>\r\n",
      "                <occrrnc_day_cd>2</occrrnc_day_cd>\r\n",
      "                <dth_dnv_cnt>1</dth_dnv_cnt>\r\n",
      "                <injpsn_cnt>1</injpsn_cnt>\r\n",
      "                <se_dnv_cnt>0</se_dnv_cnt>\r\n",
      "                <sl_dnv_cnt>0</sl_dnv_cnt>\r\n",
      "                <wnd_dnv_cnt>0</wnd_dnv_cnt>\r\n",
      "                <occrrnc_lc_sido_cd>1100</occrrnc_lc_sido_cd>\r\n",
      "                <occrrnc_lc_sgg_cd>1116</occrrnc_lc_sgg_cd>\r\n",
      "                <acc_ty_lclas_cd>02</acc_ty_lclas_cd>\r\n",
      "                <acc_ty_mlsfc_cd>22</acc_ty_mlsfc_cd>\r\n",
      "                <acc_ty_cd>22</acc_ty_cd>\r\n",
      "                <aslt_vtr_cd>04 </aslt_vtr_cd>\r\n",
      "                <road_frm_lclas_cd>01</road_frm_lclas_cd>\r\n",
      "                <road_frm_cd>05</road_frm_cd>\r\n",
      "                <wrngdo_isrty_vhcty_lclas_cd>05</wrngdo_isrty_vhcty_lclas_cd>\r\n",
      "                <dmge_isrty_vhcty_lclas_cd>01</dmge_isrty_vhcty_lclas_cd>\r\n",
      "                <occrrnc_lc_x_crd>965158  </occrrnc_lc_x_crd>\r\n",
      "                <occrrnc_lc_y_crd>1942078 </occrrnc_lc_y_crd>\r\n",
      "                <lo_crd>127.10595422</lo_crd>\r\n",
      "                <la_crd>37.47718981</la_crd>\r\n",
      "            </item>\r\n",
      "            <item>\r\n",
      "                <acc_year>2020</acc_year>\r\n",
      "                <occrrnc_dt>2020052723</occrrnc_dt>\r\n",
      "                <dght_cd>2</dght_cd>\r\n",
      "                <occrrnc_day_cd>4</occrrnc_day_cd>\r\n",
      "                <dth_dnv_cnt>1</dth_dnv_cnt>\r\n",
      "                <injpsn_cnt>1</injpsn_cnt>\r\n",
      "                <se_dnv_cnt>0</se_dnv_cnt>\r\n",
      "                <sl_dnv_cnt>0</sl_dnv_cnt>\r\n",
      "                <wnd_dnv_cnt>0</wnd_dnv_cnt>\r\n",
      "                <occrrnc_lc_sido_cd>1100</occrrnc_lc_sido_cd>\r\n",
      "                <occrrnc_lc_sgg_cd>1116</occrrnc_lc_sgg_cd>\r\n",
      "                <acc_ty_lclas_cd>03</acc_ty_lclas_cd>\r\n",
      "                <acc_ty_mlsfc_cd>35</acc_ty_mlsfc_cd>\r\n",
      "                <acc_ty_cd>37</acc_ty_cd>\r\n",
      "                <aslt_vtr_cd>05 </aslt_vtr_cd>\r\n",
      "                <road_frm_lclas_cd>01</road_frm_lclas_cd>\r\n",
      "                <road_frm_cd>05</road_frm_cd>\r\n",
      "                <wrngdo_isrty_vhcty_lclas_cd>05</wrngdo_isrty_vhcty_lclas_cd>\r\n",
      "                <dmge_isrty_vhcty_lclas_cd>##</dmge_isrty_vhcty_lclas_cd>\r\n",
      "                <occrrnc_lc_x_crd>960679  </occrrnc_lc_x_crd>\r\n",
      "                <occrrnc_lc_y_crd>1947507 </occrrnc_lc_y_crd>\r\n",
      "                <lo_crd>127.05472561</lo_crd>\r\n",
      "                <la_crd>37.52559834</la_crd>\r\n",
      "            </item>\r\n",
      "            <item>\r\n",
      "                <acc_year>2020</acc_year>\r\n",
      "                <occrrnc_dt>2020083118</occrrnc_dt>\r\n",
      "                <dght_cd>2</dght_cd>\r\n",
      "                <occrrnc_day_cd>2</occrrnc_day_cd>\r\n",
      "                <dth_dnv_cnt>1</dth_dnv_cnt>\r\n",
      "                <injpsn_cnt>2</injpsn_cnt>\r\n",
      "                <se_dnv_cnt>0</se_dnv_cnt>\r\n",
      "                <sl_dnv_cnt>1</sl_dnv_cnt>\r\n",
      "                <wnd_dnv_cnt>0</wnd_dnv_cnt>\r\n",
      "                <occrrnc_lc_sido_cd>1100</occrrnc_lc_sido_cd>\r\n",
      "                <occrrnc_lc_sgg_cd>1116</occrrnc_lc_sgg_cd>\r\n",
      "                <acc_ty_lclas_cd>02</acc_ty_lclas_cd>\r\n",
      "                <acc_ty_mlsfc_cd>24</acc_ty_mlsfc_cd>\r\n",
      "                <acc_ty_cd>25</acc_ty_cd>\r\n",
      "                <aslt_vtr_cd>04 </aslt_vtr_cd>\r\n",
      "                <road_frm_lclas_cd>05</road_frm_lclas_cd>\r\n",
      "                <road_frm_cd>98</road_frm_cd>\r\n",
      "                <wrngdo_isrty_vhcty_lclas_cd>05</wrngdo_isrty_vhcty_lclas_cd>\r\n",
      "                <dmge_isrty_vhcty_lclas_cd>01</dmge_isrty_vhcty_lclas_cd>\r\n",
      "                <occrrnc_lc_x_crd>964449  </occrrnc_lc_x_crd>\r\n",
      "                <occrrnc_lc_y_crd>1943651 </occrrnc_lc_y_crd>\r\n",
      "                <lo_crd>127.09776295</lo_crd>\r\n",
      "                <la_crd>37.49143349</la_crd>\r\n",
      "            </item>\r\n",
      "            <item>\r\n",
      "                <acc_year>2020</acc_year>\r\n",
      "                <occrrnc_dt>2020100802</occrrnc_dt>\r\n",
      "                <dght_cd>2</dght_cd>\r\n",
      "                <occrrnc_day_cd>5</occrrnc_day_cd>\r\n",
      "                <dth_dnv_cnt>1</dth_dnv_cnt>\r\n",
      "                <injpsn_cnt>1</injpsn_cnt>\r\n",
      "                <se_dnv_cnt>0</se_dnv_cnt>\r\n",
      "                <sl_dnv_cnt>0</sl_dnv_cnt>\r\n",
      "                <wnd_dnv_cnt>0</wnd_dnv_cnt>\r\n",
      "                <occrrnc_lc_sido_cd>1100</occrrnc_lc_sido_cd>\r\n",
      "                <occrrnc_lc_sgg_cd>1116</occrrnc_lc_sgg_cd>\r\n",
      "                <acc_ty_lclas_cd>02</acc_ty_lclas_cd>\r\n",
      "                <acc_ty_mlsfc_cd>23</acc_ty_mlsfc_cd>\r\n",
      "                <acc_ty_cd>23</acc_ty_cd>\r\n",
      "                <aslt_vtr_cd>05 </aslt_vtr_cd>\r\n",
      "                <road_frm_lclas_cd>01</road_frm_lclas_cd>\r\n",
      "                <road_frm_cd>05</road_frm_cd>\r\n",
      "                <wrngdo_isrty_vhcty_lclas_cd>03</wrngdo_isrty_vhcty_lclas_cd>\r\n",
      "                <dmge_isrty_vhcty_lclas_cd>03</dmge_isrty_vhcty_lclas_cd>\r\n",
      "                <occrrnc_lc_x_crd>957512  </occrrnc_lc_x_crd>\r\n",
      "                <occrrnc_lc_y_crd>1947551 </occrrnc_lc_y_crd>\r\n",
      "                <lo_crd>127.01914343</lo_crd>\r\n",
      "                <la_crd>37.5262403</la_crd>\r\n",
      "            </item>\r\n",
      "            <item>\r\n",
      "                <acc_year>2020</acc_year>\r\n",
      "                <occrrnc_dt>2020102523</occrrnc_dt>\r\n",
      "                <dght_cd>2</dght_cd>\r\n",
      "                <occrrnc_day_cd>1</occrrnc_day_cd>\r\n",
      "                <dth_dnv_cnt>1</dth_dnv_cnt>\r\n",
      "                <injpsn_cnt>1</injpsn_cnt>\r\n",
      "                <se_dnv_cnt>0</se_dnv_cnt>\r\n",
      "                <sl_dnv_cnt>0</sl_dnv_cnt>\r\n",
      "                <wnd_dnv_cnt>0</wnd_dnv_cnt>\r\n",
      "                <occrrnc_lc_sido_cd>1100</occrrnc_lc_sido_cd>\r\n",
      "                <occrrnc_lc_sgg_cd>1116</occrrnc_lc_sgg_cd>\r\n",
      "                <acc_ty_lclas_cd>01</acc_ty_lclas_cd>\r\n",
      "                <acc_ty_mlsfc_cd>15</acc_ty_mlsfc_cd>\r\n",
      "                <acc_ty_cd>05</acc_ty_cd>\r\n",
      "                <aslt_vtr_cd>07 </aslt_vtr_cd>\r\n",
      "                <road_frm_lclas_cd>01</road_frm_lclas_cd>\r\n",
      "                <road_frm_cd>05</road_frm_cd>\r\n",
      "                <wrngdo_isrty_vhcty_lclas_cd>03</wrngdo_isrty_vhcty_lclas_cd>\r\n",
      "                <dmge_isrty_vhcty_lclas_cd>12</dmge_isrty_vhcty_lclas_cd>\r\n",
      "                <occrrnc_lc_x_crd>964600  </occrrnc_lc_x_crd>\r\n",
      "                <occrrnc_lc_y_crd>1943793 </occrrnc_lc_y_crd>\r\n",
      "                <lo_crd>127.09946791</lo_crd>\r\n",
      "                <la_crd>37.49266334</la_crd>\r\n",
      "            </item>\r\n",
      "            <item>\r\n",
      "                <acc_year>2020</acc_year>\r\n",
      "                <occrrnc_dt>2020110623</occrrnc_dt>\r\n",
      "                <dght_cd>2</dght_cd>\r\n",
      "                <occrrnc_day_cd>6</occrrnc_day_cd>\r\n",
      "                <dth_dnv_cnt>1</dth_dnv_cnt>\r\n",
      "                <injpsn_cnt>1</injpsn_cnt>\r\n",
      "                <se_dnv_cnt>0</se_dnv_cnt>\r\n",
      "                <sl_dnv_cnt>0</sl_dnv_cnt>\r\n",
      "                <wnd_dnv_cnt>0</wnd_dnv_cnt>\r\n",
      "                <occrrnc_lc_sido_cd>1100</occrrnc_lc_sido_cd>\r\n",
      "                <occrrnc_lc_sgg_cd>1116</occrrnc_lc_sgg_cd>\r\n",
      "                <acc_ty_lclas_cd>01</acc_ty_lclas_cd>\r\n",
      "                <acc_ty_mlsfc_cd>11</acc_ty_mlsfc_cd>\r\n",
      "                <acc_ty_cd>01</acc_ty_cd>\r\n",
      "                <aslt_vtr_cd>05 </aslt_vtr_cd>\r\n",
      "                <road_frm_lclas_cd>01</road_frm_lclas_cd>\r\n",
      "                <road_frm_cd>05</road_frm_cd>\r\n",
      "                <wrngdo_isrty_vhcty_lclas_cd>01</wrngdo_isrty_vhcty_lclas_cd>\r\n",
      "                <dmge_isrty_vhcty_lclas_cd>12</dmge_isrty_vhcty_lclas_cd>\r\n",
      "                <occrrnc_lc_x_crd>959516  </occrrnc_lc_x_crd>\r\n",
      "                <occrrnc_lc_y_crd>1942841 </occrrnc_lc_y_crd>\r\n",
      "                <lo_crd>127.04218391</lo_crd>\r\n",
      "                <la_crd>37.48371023</la_crd>\r\n",
      "            </item>\r\n",
      "            <item>\r\n",
      "                <acc_year>2020</acc_year>\r\n",
      "                <occrrnc_dt>2020111613</occrrnc_dt>\r\n",
      "                <dght_cd>1</dght_cd>\r\n",
      "                <occrrnc_day_cd>2</occrrnc_day_cd>\r\n",
      "                <dth_dnv_cnt>1</dth_dnv_cnt>\r\n",
      "                <injpsn_cnt>1</injpsn_cnt>\r\n",
      "                <se_dnv_cnt>0</se_dnv_cnt>\r\n",
      "                <sl_dnv_cnt>0</sl_dnv_cnt>\r\n",
      "                <wnd_dnv_cnt>0</wnd_dnv_cnt>\r\n",
      "                <occrrnc_lc_sido_cd>1100</occrrnc_lc_sido_cd>\r\n",
      "                <occrrnc_lc_sgg_cd>1116</occrrnc_lc_sgg_cd>\r\n",
      "                <acc_ty_lclas_cd>01</acc_ty_lclas_cd>\r\n",
      "                <acc_ty_mlsfc_cd>12</acc_ty_mlsfc_cd>\r\n",
      "                <acc_ty_cd>02</acc_ty_cd>\r\n",
      "                <aslt_vtr_cd>05 </aslt_vtr_cd>\r\n",
      "                <road_frm_lclas_cd>01</road_frm_lclas_cd>\r\n",
      "                <road_frm_cd>05</road_frm_cd>\r\n",
      "                <wrngdo_isrty_vhcty_lclas_cd>10</wrngdo_isrty_vhcty_lclas_cd>\r\n",
      "                <dmge_isrty_vhcty_lclas_cd>12</dmge_isrty_vhcty_lclas_cd>\r\n",
      "                <occrrnc_lc_x_crd>960743  </occrrnc_lc_x_crd>\r\n",
      "                <occrrnc_lc_y_crd>1941805 </occrrnc_lc_y_crd>\r\n",
      "                <lo_crd>127.05601771</lo_crd>\r\n",
      "                <la_crd>37.47463673</la_crd>\r\n",
      "            </item>\r\n",
      "        </items>\r\n",
      "        <totalCount>17</totalCount>\r\n",
      "        <numOfRows>17</numOfRows>\r\n",
      "        <pageNo>1</pageNo>\r\n",
      "    </body>\r\n",
      "</response>\r\n",
      "\n"
     ]
    }
   ],
   "source": [
    "print(data)"
   ]
  },
  {
   "cell_type": "markdown",
   "metadata": {},
   "source": [
    "# 문제 10: 공공데이터 포털 대기 오염 정보"
   ]
  },
  {
   "cell_type": "markdown",
   "metadata": {},
   "source": [
    "- 한국환경공단_에어코리아_대기오염정보 API 사용\n",
    "![img](images/문제10.png)"
   ]
  },
  {
   "cell_type": "markdown",
   "metadata": {},
   "source": [
    "- 요청 주소\n",
    "http://apis.data.go.kr/B552584/ArpltnInforInqireSvc/getMinuDustFrcstDspth"
   ]
  },
  {
   "cell_type": "code",
   "execution_count": 106,
   "metadata": {},
   "outputs": [],
   "source": [
    "import os\n",
    "import requests\n",
    "import urllib\n",
    "from src import mylib as my\n",
    "\n",
    "key = os.path.join(os.getcwd(), \"src\", \"key.properties\")\n",
    "key = my.getKey(key)\n",
    "key = key[\"gokr\"]\n",
    "\n",
    "# URL 기본 형태\n",
    "URL_FORM = \"http://apis.data.go.kr/B552584\"\n",
    "SERVICE = \"ArpltnInforInqireSvc\"\n",
    "OPERATION_NAME = \"getMinuDustWeekFrcstDspth\"\n",
    "URL = \"/\".join([URL_FORM, SERVICE, OPERATION_NAME])\n",
    "\n",
    "# 전달 인자\n",
    "d = {}\n",
    "d[\"searchDate\"] = \"2021-08-01\"\n",
    "d[\"returnType\"] = \"json\"\n",
    "d[\"numOfRows\"] = \"20\"\n",
    "d[\"pageNo\"] = \"1\"\n",
    "params = urllib.parse.urlencode(d)\n",
    "\n",
    "# key 값이 인코딩된 형태로 문제가 발생하지 않게 urlencode 사용 안하고 최종 url 생성\n",
    "url = URL + \"?\" + \"serviceKey=\" + key + \"&\" + params\n",
    "response = requests.get(url)\n",
    "data = response.text"
   ]
  },
  {
   "cell_type": "code",
   "execution_count": 107,
   "metadata": {},
   "outputs": [
    {
     "data": {
      "text/plain": [
       "{'response': {'body': {'totalCount': 0,\n",
       "   'items': [],\n",
       "   'pageNo': 1,\n",
       "   'numOfRows': 20},\n",
       "  'header': {'resultMsg': 'NORMAL_CODE', 'resultCode': '00'}}}"
      ]
     },
     "execution_count": 107,
     "metadata": {},
     "output_type": "execute_result"
    }
   ],
   "source": [
    "response.json()"
   ]
  },
  {
   "cell_type": "code",
   "execution_count": 98,
   "metadata": {},
   "outputs": [
    {
     "name": "stdout",
     "output_type": "stream",
     "text": [
      "http://apis.data.go.kr/B552584/ArpltnInforInqireSvc/getMinuDustFrcstDspth?serviceKey=8107VbWaEhOG6C3lQPQORjhLXAP3z%2B8gbdHoZ1XY8NIjoxP3vgCuHH%2BLuYP9sIASx2uM6c1nneYhcq1TljaWyw%3D%3D&searchDate=2019-08-01&returnType=json\n"
     ]
    }
   ],
   "source": [
    "print(url)"
   ]
  },
  {
   "cell_type": "code",
   "execution_count": 108,
   "metadata": {},
   "outputs": [
    {
     "name": "stdout",
     "output_type": "stream",
     "text": [
      "openjdk 16.0.2 2021-07-20\r\n",
      "OpenJDK Runtime Environment (build 16.0.2+7-67)\r\n",
      "OpenJDK 64-Bit Server VM (build 16.0.2+7-67, mixed mode, sharing)\r\n"
     ]
    }
   ],
   "source": [
    "!java --version"
   ]
  },
  {
   "cell_type": "code",
   "execution_count": 111,
   "metadata": {},
   "outputs": [
    {
     "name": "stdout",
     "output_type": "stream",
     "text": [
      "javac 16.0.2\n",
      "Python 3.8.5\n",
      "Python 3.8.5\n"
     ]
    }
   ],
   "source": [
    "!javac --version  #java 버전과 동일한지 확인한다.\n",
    "\n",
    "!python --version  \n",
    "\n",
    "!python3 --version # python 2, 3 멀티 버전이 설치된 경우에만 출력"
   ]
  },
  {
   "cell_type": "code",
   "execution_count": 1,
   "metadata": {},
   "outputs": [
    {
     "ename": "ModuleNotFoundError",
     "evalue": "No module named 'khaiii'",
     "output_type": "error",
     "traceback": [
      "\u001b[0;31m---------------------------------------------------------------------------\u001b[0m",
      "\u001b[0;31mModuleNotFoundError\u001b[0m                       Traceback (most recent call last)",
      "\u001b[0;32m/var/folders/5v/vp7_v45s7pj122z7d82mm5d40000gn/T/ipykernel_7398/2773277764.py\u001b[0m in \u001b[0;36m<module>\u001b[0;34m\u001b[0m\n\u001b[0;32m----> 1\u001b[0;31m \u001b[0;32mimport\u001b[0m \u001b[0mkhaiii\u001b[0m\u001b[0;34m\u001b[0m\u001b[0;34m\u001b[0m\u001b[0m\n\u001b[0m",
      "\u001b[0;31mModuleNotFoundError\u001b[0m: No module named 'khaiii'"
     ]
    }
   ],
   "source": [
    "import khaiii"
   ]
  },
  {
   "cell_type": "code",
   "execution_count": null,
   "metadata": {},
   "outputs": [],
   "source": []
  }
 ],
 "metadata": {
  "kernelspec": {
   "display_name": "Python 3 (ipykernel)",
   "language": "python",
   "name": "python3"
  },
  "language_info": {
   "codemirror_mode": {
    "name": "ipython",
    "version": 3
   },
   "file_extension": ".py",
   "mimetype": "text/x-python",
   "name": "python",
   "nbconvert_exporter": "python",
   "pygments_lexer": "ipython3",
   "version": "3.9.7"
  }
 },
 "nbformat": 4,
 "nbformat_minor": 4
}
