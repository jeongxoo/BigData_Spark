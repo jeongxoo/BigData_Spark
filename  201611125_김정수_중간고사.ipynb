{
 "cells": [
  {
   "cell_type": "markdown",
   "id": "87927db4",
   "metadata": {},
   "source": [
    "- 학번 : 201611125\n",
    "- 이름 : 김정수\n",
    "- 학과 : 게임전공"
   ]
  },
  {
   "cell_type": "markdown",
   "id": "7c6eb43f",
   "metadata": {},
   "source": [
    "## PYSPARK 사전 설정"
   ]
  },
  {
   "cell_type": "code",
   "execution_count": 1,
   "id": "c6c427f1",
   "metadata": {
    "scrolled": true
   },
   "outputs": [
    {
     "name": "stderr",
     "output_type": "stream",
     "text": [
      "WARNING: An illegal reflective access operation has occurred\n",
      "WARNING: Illegal reflective access by org.apache.spark.unsafe.Platform (file:/usr/local/lib/python3.9/site-packages/pyspark/jars/spark-unsafe_2.12-3.1.2.jar) to constructor java.nio.DirectByteBuffer(long,int)\n",
      "WARNING: Please consider reporting this to the maintainers of org.apache.spark.unsafe.Platform\n",
      "WARNING: Use --illegal-access=warn to enable warnings of further illegal reflective access operations\n",
      "WARNING: All illegal access operations will be denied in a future release\n",
      "21/10/23 19:05:17 WARN NativeCodeLoader: Unable to load native-hadoop library for your platform... using builtin-java classes where applicable\n",
      "Using Spark's default log4j profile: org/apache/spark/log4j-defaults.properties\n",
      "Setting default log level to \"WARN\".\n",
      "To adjust logging level use sc.setLogLevel(newLevel). For SparkR, use setLogLevel(newLevel).\n"
     ]
    }
   ],
   "source": [
    "import pyspark\n",
    "import os\n",
    "\n",
    "myConf = pyspark.SparkConf()\n",
    "spark = pyspark.sql.SparkSession.builder\\\n",
    "        .master(\"local\")\\\n",
    "        .appName(\"myApp\")\\\n",
    "        .config(conf = myConf)\\\n",
    "        .getOrCreate()"
   ]
  },
  {
   "cell_type": "markdown",
   "id": "051077ec",
   "metadata": {},
   "source": [
    "## 문제 1-1 답"
   ]
  },
  {
   "cell_type": "code",
   "execution_count": 288,
   "id": "2448155b",
   "metadata": {},
   "outputs": [
    {
     "name": "stdout",
     "output_type": "stream",
     "text": [
      "http://openAPI.seoul.go.kr:8088/6c434d45767761743130365a72697948/json/InfoTrdarAptQq/1/100/2021\n"
     ]
    }
   ],
   "source": [
    "from src import mylib as my\n",
    "\n",
    "keyPath = os.path.join(os.getcwd(), \"src\", \"key.properties\") # reading key saved in 'src'\n",
    "key = my.getKey(keyPath)\n",
    "KEY = str(key[\"seoul\"])\n",
    "TYPE = \"json\"\n",
    "SERVICE = \"InfoTrdarAptQq\"\n",
    "START_INDEX = str(1)\n",
    "END_INDEX = str(100)\n",
    "STDR_YY_CD = \"2021\"\n",
    "URL = \"http://openAPI.seoul.go.kr:8088\"\n",
    "url = \"/\".join([URL, KEY, TYPE, SERVICE, START_INDEX, END_INDEX, STDR_YY_CD])\n",
    "\n",
    "# 데이터가 출력되는 url 생성\n",
    "print(url)"
   ]
  },
  {
   "cell_type": "markdown",
   "id": "be017d2e",
   "metadata": {},
   "source": [
    "## 문제 1-2 답"
   ]
  },
  {
   "cell_type": "code",
   "execution_count": 289,
   "id": "3a8bc1fa",
   "metadata": {},
   "outputs": [],
   "source": [
    "import requests\n",
    "\n",
    "_url = url[:88] + url[90:]\n",
    "_response = requests.get(_url)\n",
    "_store = _response.json()"
   ]
  },
  {
   "cell_type": "code",
   "execution_count": 290,
   "id": "23b9181f",
   "metadata": {},
   "outputs": [
    {
     "data": {
      "text/plain": [
       "{'InfoTrdarAptQq': {'list_total_count': 2700,\n",
       "  'RESULT': {'CODE': 'INFO-000', 'MESSAGE': '정상 처리되었습니다'},\n",
       "  'row': [{'STDR_YY_CD': '2021',\n",
       "    'TRDAR_SE_CD': 'A',\n",
       "    'TRDAR_SE_CD_NM': '골목상권',\n",
       "    'APT_HSMP_CO': 5.0,\n",
       "    'AE_66_SQMT_BELO_HSHLD_CO': 32.0,\n",
       "    'AE_66_SQMT_HSHLD_CO': 0.0,\n",
       "    'AE_99_SQMT_HSHLD_CO': 0.0,\n",
       "    'AE_132_SQMT_HSHLD_CO': 0.0,\n",
       "    'AE_165_SQMT_HSHLD_CO': 0.0,\n",
       "    'PC_1_HDMIL_BELO_HSHLD_CO': 0.0,\n",
       "    'PC_1_HDMIL_HSHLD_CO': 32.0,\n",
       "    'PC_2_HDMIL_HSHLD_CO': 0.0,\n",
       "    'PC_3_HDMIL_HSHLD_CO': 0.0,\n",
       "    'PC_4_HDMIL_HSHLD_CO': 0.0,\n",
       "    'PC_5_HDMIL_HSHLD_CO': 0.0,\n",
       "    'PC_6_HDMIL_ABOVE_HSHLD_CO': 0.0,\n",
       "    'AVRG_AE': 44.0,\n",
       "    'AVRG_MKTC': 150247619.0,\n",
       "    'STDR_QU_CD': '1',\n",
       "    'TRDAR_CD': '1000975',\n",
       "    'TRDAR_CD_NM': '동남로82길'}]}}"
      ]
     },
     "execution_count": 290,
     "metadata": {},
     "output_type": "execute_result"
    }
   ],
   "source": [
    "_store"
   ]
  },
  {
   "cell_type": "markdown",
   "id": "a12f4125",
   "metadata": {},
   "source": [
    "## 문제 1-3 답"
   ]
  },
  {
   "cell_type": "code",
   "execution_count": 291,
   "id": "53ea7be2",
   "metadata": {
    "scrolled": true
   },
   "outputs": [
    {
     "name": "stdout",
     "output_type": "stream",
     "text": [
      "골목상권 5.0 0.0 150247619.0 동남로82길 \n",
      "발달상권 3.0 0.0 161157476.0 당산역_2 \n",
      "발달상권 1.0 0.0 81750000.0 서울 성북구 안암역 \n",
      "전통시장 37.0 1.0 183067389.0 길동복조리시장 \n",
      "관광특구 71.0 87.0 409473123.0 이태원 관광특구 \n",
      "관광특구 8.0 271.0 237967427.0 동대문패션타운 관광특구 \n",
      "관광특구 5.0 0.0 112097903.0 종로·청계 관광특구 \n",
      "관광특구 22.0 1156.0 527347107.0 잠실 관광특구 \n",
      "골목상권 26.0 22.0 249322039.0 계동길 \n",
      "골목상권 5.0 0.0 87700490.0 난계로27길 \n",
      "골목상권 5.0 0.0 161118305.0 돈화문로11가길 \n",
      "골목상권 41.0 0.0 105457249.0 명륜길 \n",
      "골목상권 41.0 0.0 214023214.0 백석동길 \n",
      "골목상권 3.0 0.0 213246032.0 북촌로11길 \n",
      "골목상권 2.0 2.0 443000000.0 북촌로5길 \n",
      "골목상권 5.0 6.0 430007143.0 북촌로5나길 \n",
      "골목상권 1.0 2.0 572000000.0 삼청로5길 \n",
      "골목상권 12.0 0.0 152368531.0 성균관로5길 \n",
      "골목상권 19.0 0.0 141952840.0 숭인동길 \n",
      "골목상권 100.0 0.0 177741821.0 옥인길 \n",
      "골목상권 1.0 0.0 112279412.0 율곡로16길 \n",
      "골목상권 20.0 0.0 153940955.0 이화장길 \n",
      "골목상권 9.0 0.0 256264683.0 자하문로7길 \n",
      "골목상권 3.0 0.0 81284178.0 종로58가길 \n",
      "골목상권 87.0 0.0 124591950.0 종로65길 \n",
      "골목상권 15.0 0.0 185365873.0 지봉로8길 \n",
      "골목상권 8.0 0.0 142664918.0 창경궁로35길 \n",
      "골목상권 17.0 0.0 107096078.0 창신2길 \n",
      "골목상권 8.0 0.0 95141667.0 창신5길 \n",
      "골목상권 86.0 0.0 116533576.0 창신길 \n",
      "골목상권 50.0 0.0 99746000.0 통일로12길 \n",
      "골목상권 19.0 30.0 309926113.0 평창길 \n",
      "골목상권 14.0 0.0 229306432.0 필운대로1길 \n",
      "골목상권 16.0 33.0 272737678.0 난계로11길 \n",
      "골목상권 9.0 0.0 157574074.0 난계로21길 \n",
      "골목상권 32.0 0.0 153392079.0 다산로33길 \n",
      "골목상권 8.0 0.0 179132297.0 다산로36길 \n",
      "골목상권 10.0 1.0 242063093.0 다산로38길 \n",
      "골목상권 2.0 0.0 176972222.0 다산로39길 \n",
      "골목상권 27.0 0.0 181864758.0 동호로10길 \n",
      "골목상권 150.0 0.0 124396733.0 동호로11길 \n",
      "골목상권 41.0 12.0 208647667.0 동호로15길 \n",
      "골목상권 42.0 43.0 307355149.0 동호로20길 \n",
      "골목상권 18.0 0.0 155018621.0 동호로8길 \n",
      "골목상권 28.0 1.0 184979178.0 장충단로8길 \n",
      "골목상권 33.0 0.0 206531628.0 청구로17길 \n",
      "골목상권 9.0 0.0 189915947.0 청구로1길 \n",
      "골목상권 7.0 0.0 167530465.0 퇴계로12길 \n",
      "골목상권 3.0 0.0 168158730.0 퇴계로18길 \n",
      "골목상권 7.0 0.0 119134454.0 퇴계로46길 \n",
      "골목상권 6.0 0.0 130876389.0 퇴계로56길 \n",
      "골목상권 13.0 0.0 213297572.0 퇴계로8길 \n",
      "골목상권 27.0 0.0 170019584.0 퇴계로90길 \n",
      "골목상권 4.0 0.0 250343750.0 녹사평대로11길 \n",
      "골목상권 10.0 0.0 380352237.0 녹사평대로26길 \n",
      "골목상권 8.0 5.0 382973462.0 녹사평대로32길 \n",
      "골목상권 9.0 13.0 463599167.0 녹사평대로40나길 \n",
      "골목상권 22.0 5.0 291820883.0 녹사평대로46길 \n",
      "골목상권 35.0 84.0 559442404.0 대사관로34길 \n",
      "골목상권 38.0 0.0 294402723.0 두텁바위로1길 \n",
      "골목상권 104.0 16.0 242145926.0 백범로79길 \n",
      "골목상권 11.0 709.0 496683400.0 백범로90길 \n",
      "골목상권 72.0 244.0 662098926.0 서빙고로71길 \n",
      "골목상권 44.0 1.0 200752888.0 소월로20길 \n",
      "골목상권 114.0 4.0 171466325.0 신흥로20길 \n",
      "골목상권 49.0 129.0 614161825.0 우사단로10길 \n",
      "골목상권 15.0 127.0 654105268.0 우사단로14길 \n",
      "골목상권 22.0 12.0 489858622.0 우사단로4길 \n",
      "골목상권 23.0 5.0 269352177.0 원효로19길 \n",
      "골목상권 16.0 0.0 281720858.0 원효로41길 \n",
      "골목상권 40.0 0.0 228417439.0 원효로53길 \n",
      "골목상권 10.0 0.0 215459650.0 원효로89길 \n",
      "골목상권 49.0 10.0 387698359.0 이촌로22길 \n",
      "골목상권 11.0 19.0 483746950.0 이태원로27길 \n",
      "골목상권 30.0 109.0 480723433.0 이태원로54길 \n",
      "골목상권 33.0 106.0 573284176.0 장문로45길 \n",
      "골목상권 14.0 0.0 166160048.0 청파로47길 \n",
      "골목상권 89.0 4.0 220994083.0 청파로47나길 \n",
      "골목상권 122.0 0.0 215433642.0 청파로71길 \n",
      "골목상권 58.0 0.0 219067232.0 청파로73길 \n",
      "골목상권 25.0 240.0 341969048.0 한강대로104길 \n",
      "골목상권 8.0 151.0 457474986.0 한강대로15길 \n",
      "골목상권 3.0 431.0 989166024.0 한강대로43길 \n",
      "골목상권 14.0 1.0 286364302.0 한강대로52길 \n",
      "골목상권 9.0 1.0 364824342.0 한강대로62길 \n",
      "골목상권 6.0 12.0 419996429.0 한강대로7길 \n",
      "골목상권 7.0 58.0 352673085.0 한남대로20길 \n",
      "골목상권 22.0 40.0 349667714.0 회나무로13길 \n",
      "골목상권 90.0 0.0 231388058.0 효창원로39길 \n",
      "골목상권 127.0 21.0 277169594.0 후암로28길 \n",
      "골목상권 61.0 0.0 201004295.0 고산자로6길 \n",
      "골목상권 39.0 0.0 182191459.0 금호산2길 \n",
      "골목상권 69.0 0.0 200790347.0 금호산길 \n",
      "골목상권 23.0 9.0 451650381.0 둘레9길 \n",
      "골목상권 15.0 144.0 318029114.0 뚝섬로5길 \n",
      "골목상권 10.0 0.0 140662018.0 마장로27길 \n",
      "골목상권 7.0 0.0 261575022.0 마장로39길 \n",
      "골목상권 20.0 0.0 228218098.0 마조로16길 \n",
      "골목상권 26.0 0.0 149740447.0 마조로1길 \n",
      "골목상권 9.0 1530.0 599287898.0 매봉길 \n"
     ]
    }
   ],
   "source": [
    "response = requests.get(url)\n",
    "store = response.json()\n",
    "\n",
    "_data = store[\"InfoTrdarAptQq\"][\"row\"]\n",
    "_cols = [\"TRDAR_SE_CD_NM\", \"APT_HSMP_CO\", \"PC_6_HDMIL_ABOVE_HSHLD_CO\", \"AVRG_MKTC\", \"TRDAR_CD_NM\"]\n",
    "for d in _data:\n",
    "    for c in _cols:\n",
    "        print(d[c], end = \" \")\n",
    "    print(\"\")"
   ]
  },
  {
   "cell_type": "markdown",
   "id": "656cd517",
   "metadata": {},
   "source": [
    "## 문제 2 준비"
   ]
  },
  {
   "cell_type": "code",
   "execution_count": 313,
   "id": "14d0b7a1",
   "metadata": {},
   "outputs": [],
   "source": [
    "yesterday=[\n",
    "    [\"Yesterday 어제는\"],\n",
    "    [\"All my troubles seemed to far away 내 모든 문제들이 참 멀리 있는 것 같았는데\"],\n",
    "    [\"Now it looks as though they're here to stay 이제는 그 모든 문제들이 여기에 있는 것처럼 보여\"],\n",
    "    [\"Oh, I believe in yesterday 오, 어제가 좋았는데\"],\n",
    "    [\"Suddenly 갑자기 그-림-자-가 2021 그-림-자-가 2021\"],\n",
    "    [\"I'm not half the man I used to be 난 예전 내 모습의 반도 못한 사람이 되어버렸어\"],\n",
    "    [\"There's a shadow hanging over me 내 위에 그림자가 드리워져 있네\"],\n",
    "    [\"Oh!, yesterday came suddenly 오!, 이제는 너무 갑자기 와버렸어..\"]]\n",
    "\n",
    "myRDD = spark.sparkContext.parallelize(yesterday)"
   ]
  },
  {
   "cell_type": "markdown",
   "id": "746c5c11",
   "metadata": {},
   "source": [
    "## 문제 2-1 답"
   ]
  },
  {
   "cell_type": "code",
   "execution_count": 314,
   "id": "e2931415",
   "metadata": {
    "scrolled": true
   },
   "outputs": [
    {
     "name": "stdout",
     "output_type": "stream",
     "text": [
      "('Yesterday', 1)\n",
      "('어제는', 1)\n",
      "('All', 1)\n",
      "('my', 1)\n",
      "('troubles', 1)\n",
      "('seemed', 1)\n",
      "('to', 3)\n",
      "('far', 1)\n",
      "('away', 1)\n",
      "('내', 3)\n",
      "('모든', 2)\n",
      "('문제들이', 2)\n",
      "('참', 1)\n",
      "('멀리', 1)\n",
      "('있는', 2)\n",
      "('것', 1)\n",
      "('같았는데', 1)\n",
      "('Now', 1)\n",
      "('it', 1)\n",
      "('looks', 1)\n",
      "('as', 1)\n",
      "('though', 1)\n",
      "(\"they're\", 1)\n",
      "('here', 1)\n",
      "('stay', 1)\n",
      "('이제는', 2)\n",
      "('그', 1)\n",
      "('여기에', 1)\n",
      "('것처럼', 1)\n",
      "('보여', 1)\n",
      "('Oh,', 1)\n",
      "('I', 2)\n",
      "('believe', 1)\n",
      "('in', 1)\n",
      "('yesterday', 2)\n",
      "('오,', 1)\n",
      "('어제가', 1)\n",
      "('좋았는데', 1)\n",
      "('Suddenly', 1)\n",
      "('갑자기', 2)\n",
      "('그-림-자-가', 2)\n",
      "('2021', 2)\n",
      "(\"I'm\", 1)\n",
      "('not', 1)\n",
      "('half', 1)\n",
      "('the', 1)\n",
      "('man', 1)\n",
      "('used', 1)\n",
      "('be', 1)\n",
      "('난', 1)\n",
      "('예전', 1)\n",
      "('모습의', 1)\n",
      "('반도', 1)\n",
      "('못한', 1)\n",
      "('사람이', 1)\n",
      "('되어버렸어', 1)\n",
      "(\"There's\", 1)\n",
      "('a', 1)\n",
      "('shadow', 1)\n",
      "('hanging', 1)\n",
      "('over', 1)\n",
      "('me', 1)\n",
      "('위에', 1)\n",
      "('그림자가', 1)\n",
      "('드리워져', 1)\n",
      "('있네', 1)\n",
      "('Oh!,', 1)\n",
      "('came', 1)\n",
      "('suddenly', 1)\n",
      "('오!,', 1)\n",
      "('너무', 1)\n",
      "('와버렸어..', 1)\n"
     ]
    }
   ],
   "source": [
    "word_count = myRDD.map(lambda x: x[0])\\\n",
    "                .flatMap(lambda x: x.split(\" \"))\\\n",
    "                .map(lambda x: (x,1))\\\n",
    "                .reduceByKey(lambda x,y: x + y)\n",
    "\n",
    "for w in word_count.collect():\n",
    "    print(w)"
   ]
  },
  {
   "cell_type": "markdown",
   "id": "faf7d18c",
   "metadata": {},
   "source": [
    "## 문제 2-2 답"
   ]
  },
  {
   "cell_type": "code",
   "execution_count": 315,
   "id": "f91d8283",
   "metadata": {
    "scrolled": true
   },
   "outputs": [
    {
     "name": "stdout",
     "output_type": "stream",
     "text": [
      "('to', 3)\n",
      "('내', 3)\n",
      "('모든', 2)\n",
      "('문제들이', 2)\n",
      "('있는', 2)\n",
      "('이제는', 2)\n",
      "('I', 2)\n",
      "('yesterday', 2)\n",
      "('갑자기', 2)\n",
      "('그-림-자-가', 2)\n",
      "('2021', 2)\n"
     ]
    }
   ],
   "source": [
    "for w in word_count.collect():\n",
    "    if w[1] != 1:\n",
    "        print(w)"
   ]
  },
  {
   "cell_type": "markdown",
   "id": "28fdcac6",
   "metadata": {},
   "source": [
    "## 문제 2-3 답"
   ]
  },
  {
   "cell_type": "code",
   "execution_count": 321,
   "id": "e78f9597",
   "metadata": {},
   "outputs": [],
   "source": [
    "word_count_2 = myRDD.map(lambda x: x[0])\\\n",
    "                .flatMap(lambda x: x.split(\" \"))\\\n",
    "                .map(lambda x: x.replace(\"-\", \"\"))\\\n",
    "                .map(lambda x: x.replace(\"!\", \"\"))\\\n",
    "                .map(lambda x: x.lower())\\\n",
    "                .map(lambda x: (x,1))\\\n",
    "                .reduceByKey(lambda x,y: x + y)\\\n",
    "                .sortBy(lambda x: x[1], False)"
   ]
  },
  {
   "cell_type": "code",
   "execution_count": 322,
   "id": "b97dfd76",
   "metadata": {},
   "outputs": [
    {
     "name": "stdout",
     "output_type": "stream",
     "text": [
      "('yesterday', 3)\n",
      "('to', 3)\n",
      "('내', 3)\n",
      "('그림자가', 3)\n",
      "('모든', 2)\n",
      "('문제들이', 2)\n",
      "('있는', 2)\n",
      "('이제는', 2)\n",
      "('oh,', 2)\n",
      "('i', 2)\n",
      "('오,', 2)\n",
      "('suddenly', 2)\n",
      "('갑자기', 2)\n"
     ]
    },
    {
     "name": "stderr",
     "output_type": "stream",
     "text": [
      "/usr/local/lib/python3.9/site-packages/pyspark/python/lib/pyspark.zip/pyspark/shuffle.py:60: UserWarning: Please install psutil to have better support with spilling\n"
     ]
    }
   ],
   "source": [
    "for w in word_count_2.collect():\n",
    "    if w[1] != 1:\n",
    "        try:\n",
    "            int(w[0])\n",
    "        except:\n",
    "            print(w)"
   ]
  },
  {
   "cell_type": "markdown",
   "id": "160cd25f",
   "metadata": {},
   "source": [
    "## 문제 2-4 답"
   ]
  },
  {
   "cell_type": "code",
   "execution_count": 359,
   "id": "95933c8e",
   "metadata": {},
   "outputs": [
    {
     "name": "stdout",
     "output_type": "stream",
     "text": [
      "('yesterday', 3)\n",
      "('to', 3)\n",
      "('그림자가', 3)\n",
      "('모든', 2)\n",
      "('문제들이', 2)\n",
      "('있는', 2)\n",
      "('이제는', 2)\n",
      "('oh,', 2)\n",
      "('오,', 2)\n",
      "('suddenly', 2)\n",
      "('갑자기', 2)\n"
     ]
    },
    {
     "name": "stderr",
     "output_type": "stream",
     "text": [
      "/usr/local/lib/python3.9/site-packages/pyspark/python/lib/pyspark.zip/pyspark/shuffle.py:60: UserWarning: Please install psutil to have better support with spilling\n"
     ]
    }
   ],
   "source": [
    "word_count_3 = word_count_2.map(lambda x: x if len(x[0]) != 1 else (0 ,x[1]))\n",
    "\n",
    "for w in word_count_3.collect():\n",
    "    if w[1] != 1 and w[0] != 0:\n",
    "        try:\n",
    "            int(w[0])\n",
    "        except:\n",
    "            print(w)"
   ]
  },
  {
   "cell_type": "markdown",
   "id": "7e19ec9b",
   "metadata": {},
   "source": [
    "## 문제 3 준비"
   ]
  },
  {
   "cell_type": "code",
   "execution_count": 353,
   "id": "fa2930c6",
   "metadata": {},
   "outputs": [],
   "source": [
    "import json\n",
    "\n",
    "n = os.path.join(\"data\", \"서울특별시 코로나19 자치구별 확진자 발생동향.json\")\n",
    "with open(n, \"r\", encoding = \"utf-8\") as f:\n",
    "    data = f.readlines()\n",
    "\n",
    "_all = []\n",
    "for d in data[3:-2]:\n",
    "    _d = d.replace(\"\\n\", \"\")\n",
    "    if _d[-1] == \",\":\n",
    "        _d = _d[:-1]\n",
    "    \n",
    "    _d = json.loads(_d)\n",
    "    _all.append(_d)\n",
    "\n",
    "coRdd = spark.sparkContext.parallelize(_all)\n",
    "covidDf = spark.createDataFrame(coRdd)"
   ]
  },
  {
   "cell_type": "markdown",
   "id": "cbbefce3",
   "metadata": {},
   "source": [
    "## 문제 3-1 답"
   ]
  },
  {
   "cell_type": "code",
   "execution_count": 354,
   "id": "3c1871a6",
   "metadata": {},
   "outputs": [
    {
     "name": "stdout",
     "output_type": "stream",
     "text": [
      "전체 :: 628\n",
      "null 제거 후 :: 605\n"
     ]
    }
   ],
   "source": [
    "entire = covidDf.count()\n",
    "df = covidDf.filter(covidDf.etc.isNotNull())\n",
    "removed = df.count()\n",
    "print(\"전체 :: %d\" % entire)\n",
    "print(\"null 제거 후 :: %d\" % removed)"
   ]
  },
  {
   "cell_type": "code",
   "execution_count": 355,
   "id": "e4ec219b",
   "metadata": {
    "scrolled": true
   },
   "outputs": [
    {
     "name": "stdout",
     "output_type": "stream",
     "text": [
      "+---+------+------+---------+-------+----------+---+-----+---+------+-------+----------+--------+-----------+-------+----------+-------+----------+---------+------------+----+-------+------+---------+--------+-----------+------+------+---------+------+---------+--------+-----------+----+-------+-----+--------+---+------+------+---------+--------+-----------+---------+------------+------+---------+---------+---------+------------+---+------+-------+----------+\n",
      "|ddm|ddmadd|dobong|dobongadd|dongjak|dongjakadd| ep|epadd|etc|etcadd|gangbuk|gangbukadd|gangdong|gangdongadd|gangnam|gangnamadd|gangseo|gangseoadd|geumcheon|geumcheonadd|guro|guroadd|gwanak|gwanakadd|gwangjin|gwangjinadd|jcg_dt|jongno|jongnoadd|junggu|jungguadd|jungnang|jungnangadd|mapo|mapoadd|nowon|nowonadd|sdm|sdmadd|seocho|seochoadd|seongbuk|seongbukadd|seongdong|seongdongadd|songpa|songpaadd|work_dttm|yangcheon|yangcheonadd|ydp|ydpadd|yongsan|yongsanadd|\n",
      "+---+------+------+---------+-------+----------+---+-----+---+------+-------+----------+--------+-----------+-------+----------+-------+----------+---------+------------+----+-------+------+---------+--------+-----------+------+------+---------+------+---------+--------+-----------+----+-------+-----+--------+---+------+------+---------+--------+-----------+---------+------------+------+---------+---------+---------+------------+---+------+-------+----------+\n",
      "|  0|     0|     0|        0|      0|         0|  0|    0|  0|     0|      0|         0|       0|          0|      0|         0|      0|         0|        0|           0|   0|      0|     0|        0|       0|          0|     0|     0|        0|     0|        0|       0|          0|   0|      0|    0|       0|  0|     0|     0|        0|       0|          0|        0|           0|     0|        0|      433|        0|           0|  0|     0|      0|         0|\n",
      "+---+------+------+---------+-------+----------+---+-----+---+------+-------+----------+--------+-----------+-------+----------+-------+----------+---------+------------+----+-------+------+---------+--------+-----------+------+------+---------+------+---------+--------+-----------+----+-------+-----+--------+---+------+------+---------+--------+-----------+---------+------------+------+---------+---------+---------+------------+---+------+-------+----------+\n",
      "\n"
     ]
    }
   ],
   "source": [
    "df.select([count(when(col(c).isNull(), c)).alias(c) for c in df.columns]).show()"
   ]
  },
  {
   "cell_type": "markdown",
   "id": "00b228b6",
   "metadata": {},
   "source": [
    "## 문제 3-2 답"
   ]
  },
  {
   "cell_type": "code",
   "execution_count": 356,
   "id": "3ce815ee",
   "metadata": {},
   "outputs": [
    {
     "name": "stdout",
     "output_type": "stream",
     "text": [
      "+------+----+-------+-----+\n",
      "|jongno|mapo|yongsan|total|\n",
      "+------+----+-------+-----+\n",
      "|  2036|4191|   3076| 9303|\n",
      "|  2023|4176|   3064| 9263|\n",
      "|  2008|4164|   3055| 9227|\n",
      "|  1989|4157|   3049| 9195|\n",
      "|  1977|4134|   3041| 9152|\n",
      "|  1968|4127|   3031| 9126|\n",
      "|  1958|4121|   3023| 9102|\n",
      "|  1949|4112|   3006| 9067|\n",
      "|  1925|4102|   2995| 9022|\n",
      "|  1900|4082|   2976| 8958|\n",
      "+------+----+-------+-----+\n",
      "only showing top 10 rows\n",
      "\n"
     ]
    }
   ],
   "source": [
    "from pyspark.sql.types import *\n",
    "from pyspark.sql.functions import udf\n",
    "\n",
    "def createSum(*d):\n",
    "    k = 0\n",
    "    for _d in d:\n",
    "        k += int(_d)\n",
    "    return k\n",
    "\n",
    "_create = udf(createSum, IntegerType())\n",
    "df = df.withColumn(\"total\", _create(df[\"jongno\"], df[\"mapo\"], df[\"yongsan\"]))\n",
    "\n",
    "df.select(\"jongno\", \"mapo\", \"yongsan\", \"total\").show(10)"
   ]
  },
  {
   "cell_type": "markdown",
   "id": "c2fa827f",
   "metadata": {},
   "source": [
    "## 문제 3-3 답"
   ]
  },
  {
   "cell_type": "code",
   "execution_count": 357,
   "id": "f0956298",
   "metadata": {},
   "outputs": [
    {
     "name": "stdout",
     "output_type": "stream",
     "text": [
      "+-------------+------+\n",
      "|       jcg_dt|jongno|\n",
      "+-------------+------+\n",
      "|2020.03.31.10|    13|\n",
      "|2020.03.30.10|    13|\n",
      "|2020.03.29.10|    13|\n",
      "|2020.03.28.10|    13|\n",
      "|2020.03.27.00|    13|\n",
      "|2020.03.26.00|    13|\n",
      "|2020.03.25.00|    13|\n",
      "|2020.03.24.00|    12|\n",
      "|2020.03.23.00|    11|\n",
      "|2020.03.22.00|    11|\n",
      "|2020.03.21.00|    11|\n",
      "|2020.03.20.00|    11|\n",
      "|2020.03.19.00|    11|\n",
      "|2020.03.18.00|    11|\n",
      "|2020.03.17.10|    11|\n",
      "|2020.03.16.10|    11|\n",
      "|2020.03.15.10|    11|\n",
      "|2020.03.14.10|    11|\n",
      "|2020.03.13.10|    11|\n",
      "|2020.03.12.10|    11|\n",
      "+-------------+------+\n",
      "only showing top 20 rows\n",
      "\n"
     ]
    }
   ],
   "source": [
    "selct_2020_3 = udf(lambda x: x[:7], StringType())\n",
    "covidDf.select(\"jcg_dt\", \"jongno\").filter(selct_2020_3(covidDf.jcg_dt) == \"2020.03\").show()"
   ]
  },
  {
   "cell_type": "markdown",
   "id": "44df42b7",
   "metadata": {},
   "source": [
    "## 문제 3-4 답"
   ]
  },
  {
   "cell_type": "code",
   "execution_count": 358,
   "id": "4a55b12f",
   "metadata": {},
   "outputs": [
    {
     "name": "stderr",
     "output_type": "stream",
     "text": [
      "[Stage 404:==========================================>          (161 + 1) / 200]\r"
     ]
    },
    {
     "name": "stdout",
     "output_type": "stream",
     "text": [
      "+-----+------+-------+\n",
      "|Month|  2020|   2021|\n",
      "+-----+------+-------+\n",
      "|   02|   152| 736287|\n",
      "|   03|  7702| 934792|\n",
      "|   04| 17944|1048473|\n",
      "|   05| 22436|1310996|\n",
      "|   06| 33382|1407336|\n",
      "|   07| 45253|1770523|\n",
      "|   08| 72362|2226916|\n",
      "|   09|142445|2675873|\n",
      "|   10|174829|2493798|\n",
      "+-----+------+-------+\n",
      "\n"
     ]
    },
    {
     "name": "stderr",
     "output_type": "stream",
     "text": [
      "\r",
      "                                                                                \r"
     ]
    }
   ],
   "source": [
    "select_year = udf(lambda x: x[:4], StringType())\n",
    "select_month = udf(lambda x: x[5:7], StringType())\n",
    "def sum_all(*d):\n",
    "    k = 0\n",
    "    for _d in d:\n",
    "        k += int(_d)\n",
    "    return k\n",
    "\n",
    "sum_alls = udf(sum_all, IntegerType())\n",
    "\n",
    "df_2 = df.withColumn(\"SumAll\", \n",
    "                     sum_alls(df[\"JONGNO\"], df[\"JUNGGU\"], df[\"YONGSAN\"],\n",
    "                             df[\"SEONGDONG\"], df[\"GWANGJIN\"], df[\"DDM\"],\n",
    "                             df[\"JUNGNANG\"], df[\"SEONGBUK\"], df[\"GANGBUK\"],\n",
    "                             df[\"DOBONG\"], df[\"NOWON\"], df[\"EP\"],\n",
    "                             df[\"SDM\"], df[\"MAPO\"], df[\"YANGCHEON\"],\n",
    "                             df[\"GANGSEO\"], df[\"GURO\"], df[\"GEUMCHEON\"],\n",
    "                             df[\"YDP\"], df[\"DONGJAK\"], df[\"GWANAK\"],\n",
    "                             df[\"SEOCHO\"], df[\"GANGNAM\"], df[\"SONGPA\"],\n",
    "                             df[\"GANGDONG\"], df[\"ETC\"]))\n",
    "df_2 = df_2.withColumn(\"Month\", select_month(df.jcg_dt)).withColumn(\"Year\", select_year(df.jcg_dt))\n",
    "\n",
    "df_3 = df_2.groupBy('Month').pivot('Year').agg({\"SumAll\":\"sum\"})\n",
    "\n",
    "df_3.sort(df_3[\"Month\"]).select(\"Month\", \"2020\", \"2021\").where(df_3[\"2020\"].isNotNull()).where(df_3[\"2021\"].isNotNull()).show(10)"
   ]
  },
  {
   "cell_type": "code",
   "execution_count": null,
   "id": "49a1da0d",
   "metadata": {},
   "outputs": [],
   "source": []
  }
 ],
 "metadata": {
  "kernelspec": {
   "display_name": "Python 3 (ipykernel)",
   "language": "python",
   "name": "python3"
  },
  "language_info": {
   "codemirror_mode": {
    "name": "ipython",
    "version": 3
   },
   "file_extension": ".py",
   "mimetype": "text/x-python",
   "name": "python",
   "nbconvert_exporter": "python",
   "pygments_lexer": "ipython3",
   "version": "3.9.7"
  }
 },
 "nbformat": 4,
 "nbformat_minor": 5
}
