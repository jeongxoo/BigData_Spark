{
 "cells": [
  {
   "cell_type": "markdown",
   "id": "87927db4",
   "metadata": {},
   "source": [
    "- 학번 : 201611125\n",
    "- 이름 : 김정수\n",
    "- 학과 : 게임전공"
   ]
  },
  {
   "cell_type": "markdown",
   "id": "183add0a",
   "metadata": {},
   "source": [
    "# 9-1 문제 설정\n",
    "\n",
    "- 문제 1: 중고나라 소형 음향 기기 거래 데이터 (21/03 ~ 21/08) 중 에어팟 프로가 차지하는 비율은?\n",
    "- 문제 2: 월별 에어팟 프로의 평균 거래가의 증감 여부"
   ]
  },
  {
   "cell_type": "code",
   "execution_count": 4,
   "id": "c6c427f1",
   "metadata": {},
   "outputs": [],
   "source": [
    "import pyspark\n",
    "import os\n",
    "from pyspark.sql.types import *\n",
    "from pyspark.sql.functions import udf\n",
    "import numpy as np\n",
    "from pyspark.sql import functions as F\n",
    "from scipy.stats import norm"
   ]
  },
  {
   "cell_type": "code",
   "execution_count": 5,
   "id": "4600325c",
   "metadata": {},
   "outputs": [
    {
     "name": "stderr",
     "output_type": "stream",
     "text": [
      "WARNING: An illegal reflective access operation has occurred\n",
      "WARNING: Illegal reflective access by org.apache.spark.unsafe.Platform (file:/usr/local/lib/python3.9/site-packages/pyspark/jars/spark-unsafe_2.12-3.1.2.jar) to constructor java.nio.DirectByteBuffer(long,int)\n",
      "WARNING: Please consider reporting this to the maintainers of org.apache.spark.unsafe.Platform\n",
      "WARNING: Use --illegal-access=warn to enable warnings of further illegal reflective access operations\n",
      "WARNING: All illegal access operations will be denied in a future release\n",
      "21/11/04 01:11:48 WARN NativeCodeLoader: Unable to load native-hadoop library for your platform... using builtin-java classes where applicable\n",
      "Using Spark's default log4j profile: org/apache/spark/log4j-defaults.properties\n",
      "Setting default log level to \"WARN\".\n",
      "To adjust logging level use sc.setLogLevel(newLevel). For SparkR, use setLogLevel(newLevel).\n"
     ]
    }
   ],
   "source": [
    "myConf = pyspark.SparkConf()\n",
    "spark = pyspark.sql.SparkSession.builder\\\n",
    "        .master(\"local\")\\\n",
    "        .appName(\"myApp\")\\\n",
    "        .config(conf = myConf)\\\n",
    "        .getOrCreate()"
   ]
  },
  {
   "cell_type": "markdown",
   "id": "72dd69a8",
   "metadata": {},
   "source": [
    "## 데이터 불러오기 & 결측치 제거"
   ]
  },
  {
   "cell_type": "code",
   "execution_count": 163,
   "id": "e89a2df6",
   "metadata": {},
   "outputs": [],
   "source": [
    "df = spark\\\n",
    "        .read\\\n",
    "        .format('com.databricks.spark.csv')\\\n",
    "        .options(header='true', inferschema='true', delimiter=',')\\\n",
    "        .load(\"small_datas.csv\")\n",
    "\n",
    "ddf = df.filter(df.price.isNotNull())"
   ]
  },
  {
   "cell_type": "markdown",
   "id": "e35e528d",
   "metadata": {},
   "source": [
    "## 문제 1: 전체 거래 데이터 중 에어팟이 차지하는 비율"
   ]
  },
  {
   "cell_type": "code",
   "execution_count": 164,
   "id": "eabb8e43",
   "metadata": {},
   "outputs": [
    {
     "name": "stdout",
     "output_type": "stream",
     "text": [
      "에어팟 프로 비율 :: 8.098673493134745\n"
     ]
    }
   ],
   "source": [
    "airpod = ddf.filter(ddf.product_name.contains('에어팟'))\\\n",
    "            .filter(ddf.product_name.contains('프로'))\n",
    "\n",
    "apd_cnt = airpod.count()\n",
    "\n",
    "print(\"에어팟 프로 비율 ::\", (apd_cnt/all_cnt)*100)"
   ]
  },
  {
   "cell_type": "markdown",
   "id": "6d020375",
   "metadata": {},
   "source": [
    "## 문제 2: 에어팟 프로의 월별 평균 중고 거래가 증감 여부"
   ]
  },
  {
   "cell_type": "code",
   "execution_count": 165,
   "id": "96b979f6",
   "metadata": {},
   "outputs": [],
   "source": [
    "def createMonth(d):\n",
    "    d = d.split(\".\")\n",
    "    return int(d[1])\n",
    "\n",
    "createM = udf(createMonth, IntegerType())"
   ]
  },
  {
   "cell_type": "code",
   "execution_count": 166,
   "id": "d2b7695f",
   "metadata": {},
   "outputs": [],
   "source": [
    "airpod_m = airpod.withColumn(\"Month\", createM(airpod['date']))"
   ]
  },
  {
   "cell_type": "code",
   "execution_count": 167,
   "id": "8bd54ecc",
   "metadata": {},
   "outputs": [],
   "source": [
    "q2 = airpod_m.groupby(airpod_m[\"Month\"]).mean()"
   ]
  },
  {
   "cell_type": "code",
   "execution_count": 168,
   "id": "7dda7c15",
   "metadata": {},
   "outputs": [
    {
     "name": "stdout",
     "output_type": "stream",
     "text": [
      "+-----+------------------+\n",
      "|Month|        avg(price)|\n",
      "+-----+------------------+\n",
      "|    3|195418.77408637875|\n",
      "|    4|190329.22722283207|\n",
      "|    5|171947.56596173212|\n",
      "|    6|179954.05858585858|\n",
      "|    7|196447.00508130083|\n",
      "|    8| 209005.8565921357|\n",
      "+-----+------------------+\n",
      "\n"
     ]
    }
   ],
   "source": [
    "q3 = q2.sort(q2[\"Month\"]).select(\"Month\", \"avg(price)\").where(q2.Month != 9)\n",
    "q3.show()"
   ]
  },
  {
   "cell_type": "code",
   "execution_count": 169,
   "id": "ba08656e",
   "metadata": {},
   "outputs": [
    {
     "name": "stderr",
     "output_type": "stream",
     "text": [
      "\r",
      "[Stage 215:===========================================>         (165 + 1) / 200]\r",
      "\r",
      "                                                                                \r"
     ]
    }
   ],
   "source": [
    "g1 = q3.rdd.map(lambda x: [x[0], x[1]]).collect()\n",
    "y = list(map(lambda x: x[1], g1))"
   ]
  },
  {
   "cell_type": "code",
   "execution_count": 170,
   "id": "4971a28c",
   "metadata": {},
   "outputs": [
    {
     "data": {
      "text/plain": [
       "<matplotlib.legend.Legend at 0x13cf9d550>"
      ]
     },
     "execution_count": 170,
     "metadata": {},
     "output_type": "execute_result"
    },
    {
     "data": {
      "image/png": "[encoded data removed]",
      "text/plain": [
       "<Figure size 432x288 with 1 Axes>"
      ]
     },
     "metadata": {
      "needs_background": "light"
     },
     "output_type": "display_data"
    }
   ],
   "source": [
    "import matplotlib.pyplot as plt\n",
    "\n",
    "plt.plot([i for i in range(3,9)], y, label = \"airpod pro\")\n",
    "plt.legend()"
   ]
  },
  {
   "cell_type": "markdown",
   "id": "7d7f4e77",
   "metadata": {},
   "source": [
    "3 ~ 5 평균가 감소 / 5 ~ 8 평균가 증가\n",
    "- 애플에서 1~3월 진행한 신학기 이벤트로 인한 에어팟 프로 중고 매물 증가로 인해\n",
    "- 중고 거래 가격이 감소하는 추세를 보이다 이벤트 종료 후 중고 매물이 소진되어 5월 이후로\n",
    "- 가격이 증가한 것으로 예상\n"
   ]
  },
  {
   "cell_type": "code",
   "execution_count": null,
   "id": "ee061177",
   "metadata": {},
   "outputs": [],
   "source": []
  }
 ],
 "metadata": {
  "kernelspec": {
   "display_name": "Python 3 (ipykernel)",
   "language": "python",
   "name": "python3"
  },
  "language_info": {
   "codemirror_mode": {
    "name": "ipython",
    "version": 3
   },
   "file_extension": ".py",
   "mimetype": "text/x-python",
   "name": "python",
   "nbconvert_exporter": "python",
   "pygments_lexer": "ipython3",
   "version": "3.9.7"
  }
 },
 "nbformat": 4,
 "nbformat_minor": 5
}
